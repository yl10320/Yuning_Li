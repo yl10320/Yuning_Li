{
 "cells": [
  {
   "cell_type": "markdown",
   "metadata": {
    "id": "J_tuTOB-IXlx"
   },
   "source": [
    "# Methods for Data Science: Course Work 1"
   ]
  },
  {
   "cell_type": "code",
   "execution_count": 3,
   "metadata": {},
   "outputs": [],
   "source": [
    "import numpy as np\n",
    "import pandas as pd\n",
    "import matplotlib.pyplot as plt"
   ]
  },
  {
   "cell_type": "markdown",
   "metadata": {
    "id": "T1bWLmzoIgFu"
   },
   "source": [
    "## Task 1:  Regression (50 marks)\n",
    "\n"
   ]
  },
  {
   "cell_type": "markdown",
   "metadata": {},
   "source": [
    "First process the data. `x_train_airfoil_org` and `x_test_airfoil_org` are original data of predictors. \n",
    "\n",
    "In Lasso regression and Elastic nets regression, the magnitude of predictors will affect the magnitude of $\\beta$, causing problems in regularsation. In KNN regression, the magnitude of predictors will affect the distance between $X$. So we need to standardise data of predictor variables. `x_train_airfoil` and `x_test_airfoil` are standardised data of predictors. \n",
    "\n",
    "Note that we do not need to standardise $y$ since $\\beta_0$ is not included in regularsation and magnitude of $y$ has no effect on KNN regression."
   ]
  },
  {
   "cell_type": "code",
   "execution_count": 4,
   "metadata": {},
   "outputs": [],
   "source": [
    "# load data as pandas data frames\n",
    "airfoil_train = pd.read_csv('airfoil_noise_samples.csv')\n",
    "airfoil_test = pd.read_csv('airfoil_noise_test.csv')"
   ]
  },
  {
   "cell_type": "code",
   "execution_count": 3,
   "metadata": {},
   "outputs": [],
   "source": [
    "# standardise function\n",
    "def standardise(X):\n",
    "    mu = np.mean(X, 0) # mean of data X\n",
    "    sigma = np.std(X, 0) # standard deviation of data X\n",
    "    X_std = (X - mu) / sigma # standardise data\n",
    "    return X_std"
   ]
  },
  {
   "cell_type": "code",
   "execution_count": 4,
   "metadata": {
    "id": "J-q1QFQFIfF0"
   },
   "outputs": [],
   "source": [
    "# divide the data into predictors and observations\n",
    "predictors_airfoil = [\"Frequency\",\"Angle\",\"Displacement\",\"Chord length\",\"Velocity\",\"Thickness\"]\n",
    "\n",
    "x_train_airfoil_org = airfoil_train[predictors_airfoil]\n",
    "x_train_airfoil = standardise(x_train_airfoil_org)\n",
    "y_train_airfoil = airfoil_train[\"Sound Pressure\"]\n",
    "\n",
    "x_test_airfoil_org = airfoil_test[predictors_airfoil]\n",
    "x_test_airfoil = (x_test_airfoil_org - np.mean(x_train_airfoil_org, 0)) / np.std(x_train_airfoil_org, 0)\n",
    "y_test_airfoil = airfoil_test[\"Sound Pressure\"]"
   ]
  },
  {
   "cell_type": "markdown",
   "metadata": {},
   "source": [
    "We add a column to $X$ on the left hand side in order to include $\\beta_0$ in regression."
   ]
  },
  {
   "cell_type": "code",
   "execution_count": 5,
   "metadata": {},
   "outputs": [],
   "source": [
    "# add an N x 1 column to include beta_0\n",
    "N_train_airfoil, D_train_airfoil = x_train_airfoil.shape\n",
    "N_test_airfoil, D_test_airfoil = x_test_airfoil.shape\n",
    "\n",
    "x_train_airfoil_aug = np.hstack([np.ones((N_train_airfoil,1)), x_train_airfoil])\n",
    "x_test_airfoil_aug = np.hstack([np.ones((N_test_airfoil,1)), x_test_airfoil])\n",
    "x_train_airfoil_org_aug = np.hstack([np.ones((N_train_airfoil,1)), x_train_airfoil_org])\n",
    "x_test_airfoil_org_aug = np.hstack([np.ones((N_test_airfoil,1)), x_test_airfoil_org])"
   ]
  },
  {
   "cell_type": "markdown",
   "metadata": {
    "id": "pQjZo6g6MVNH"
   },
   "source": [
    "#### 1.1 Linear regression (8 marks)  \n",
    "\n",
    "1.1.1"
   ]
  },
  {
   "cell_type": "markdown",
   "metadata": {},
   "source": [
    "Obtain a linear regression model to predict Sound Pressure using all the other features as predictors."
   ]
  },
  {
   "cell_type": "markdown",
   "metadata": {},
   "source": [
    "For loss function $L(\\beta)=\\frac{1}{2N}\\lVert{\\bf{y}}-{\\bf{X}}\\beta-\\beta_0 \\rVert^2$, the optimal $\\beta^*$ is achieved when $\\nabla_{\\beta^*}L = 0$.\n",
    "\n",
    "$$\\nabla_{\\beta^*}L = -\\frac{2}{N}({\\bf{X}}^T{\\bf{y}}-({\\bf{X}}^T{\\bf{X}})\\beta) = 0$$\n",
    "\n",
    "So we can solve ${\\bf{X}}^T{\\bf{y}}=({\\bf{X}}^T{\\bf{X}})\\beta^*$ to get the maximum likelihood estimate of $\\beta^*$. The factor $\\frac{1}{N}$ is a constant and does not affect the MLE process."
   ]
  },
  {
   "cell_type": "code",
   "execution_count": 6,
   "metadata": {},
   "outputs": [
    {
     "name": "stdout",
     "output_type": "stream",
     "text": [
      "Computed model parameters by Linear regression: [ 1.32599897e+02 -1.28512878e-03  1.49888731e-01 -8.37160618e-01\n",
      " -8.48764168e-01  1.04948547e-01 -9.70765098e-01]\n"
     ]
    }
   ],
   "source": [
    "def max_lik_estimate(x, y):\n",
    "    \"\"\"\n",
    "    Function for maximum likelihood linear regression.\n",
    "    Arguments:\n",
    "        x: N x (D+1) matrix of predictors\n",
    "        y: N x 1 vector of observations\n",
    "    Returns: \n",
    "        maximum likelihood parameters ((D+1) x 1) represent beta_0, beta_1 ..., beta_6\n",
    "    \"\"\"\n",
    "    \n",
    "    beta_ml = np.linalg.solve(x.T @ x, x.T @ y) \n",
    "    \n",
    "    return beta_ml\n",
    "\n",
    "# linear regression on training data set\n",
    "beta_ml_airfoil = max_lik_estimate(x_train_airfoil_org_aug,y_train_airfoil)\n",
    "print('Computed model parameters by Linear regression:', beta_ml_airfoil)"
   ]
  },
  {
   "cell_type": "markdown",
   "metadata": {},
   "source": [
    "The inferred values of the model parameters is presented above. Next we compute MSE and $R^2$ for the training data set."
   ]
  },
  {
   "cell_type": "code",
   "execution_count": 7,
   "metadata": {},
   "outputs": [],
   "source": [
    "def mse_linear(x, y, beta):\n",
    "    \"\"\"\n",
    "    Function for MSE.\n",
    "    Arguments:\n",
    "        x: N x (D+1) matrix of predictors\n",
    "        y: N x 1 vector of observations\n",
    "        beta: (D+1) x 1 vector of model parameters\n",
    "    Returns:\n",
    "        Mean squared error (MSE) of the linear model\n",
    "    \"\"\"\n",
    "    \n",
    "    prediction = x @ beta # linear prediction of the observations\n",
    "    mse = np.mean((y - prediction) ** 2) # MSE\n",
    "    \n",
    "    return mse\n",
    "\n",
    "def r_square(x, y, beta):\n",
    "    \"\"\"\n",
    "    Function for R-square.\n",
    "    Arguments:\n",
    "        x: N x (D+1) matrix of predictors\n",
    "        y: N x 1 vector of observations\n",
    "        beta: (D+1) x 1 vector of model parameters\n",
    "    Returns:\n",
    "        R_square of the linear model\n",
    "    \"\"\"\n",
    "    \n",
    "    mean_y = np.mean(y) # Mean of true values\n",
    "    ss_tot = np.sum((y - mean_y) ** 2) # Total sum of squares\n",
    "    ss_res = np.sum((y - x @ beta) ** 2) # Residual sum of squares\n",
    "    r2 = 1 - (ss_res / ss_tot) # R square\n",
    "    \n",
    "    return r2"
   ]
  },
  {
   "cell_type": "code",
   "execution_count": 8,
   "metadata": {},
   "outputs": [
    {
     "name": "stdout",
     "output_type": "stream",
     "text": [
      "Mean Squared Error of Training Airfoil Data Set Using Maximum Likelihood Linear Regression: 1.8755566396402048\n",
      "R-squared of Training Airfoil Data Set Using Maximum Likelihood Linear Regression: 0.9177343977263077\n"
     ]
    }
   ],
   "source": [
    "# Mean Squared Error (MSE) of Training Airfoil Data Set\n",
    "mse_train_airfoil_ml = mse_linear(x_train_airfoil_org_aug,y_train_airfoil, beta_ml_airfoil)\n",
    "print(\"Mean Squared Error of Training Airfoil Data Set Using Maximum Likelihood Linear Regression:\", mse_train_airfoil_ml)\n",
    "\n",
    "# R Square of Training Airfoil Data Set\n",
    "r2_train_airfoil_ml = r_square(x_train_airfoil_org_aug,y_train_airfoil, beta_ml_airfoil)\n",
    "print(\"R-squared of Training Airfoil Data Set Using Maximum Likelihood Linear Regression:\", r2_train_airfoil_ml)"
   ]
  },
  {
   "cell_type": "markdown",
   "metadata": {
    "id": "P7Wy3sP5KtNE"
   },
   "source": [
    "1.1.2"
   ]
  },
  {
   "cell_type": "markdown",
   "metadata": {},
   "source": [
    "Now we apply the model `beta_ml_airfoil` to the test data set and calculate the MSE and $R^2$ values on the test data set."
   ]
  },
  {
   "cell_type": "code",
   "execution_count": 9,
   "metadata": {},
   "outputs": [
    {
     "name": "stdout",
     "output_type": "stream",
     "text": [
      "Mean Squared Error of Test Airfoil Data Set Using Maximum Likelihood Linear Regression: 1.9843895771189994\n",
      "R-squared of Test Airfoil Data Set Using Maximum Likelihood Linear Regression: 0.9083172459581698\n"
     ]
    }
   ],
   "source": [
    "# Mean Squared Error (MSE) of Test Airfoil Data Set\n",
    "mse_test_airfoil = mse_linear(x_test_airfoil_org_aug, y_test_airfoil, beta_ml_airfoil)\n",
    "print(\"Mean Squared Error of Test Airfoil Data Set Using Maximum Likelihood Linear Regression:\", mse_test_airfoil)\n",
    "\n",
    "# R Square of Test Airfoil Data Set\n",
    "r2_test_airfoil = r_square(x_test_airfoil_org_aug, y_test_airfoil, beta_ml_airfoil)\n",
    "print(\"R-squared of Test Airfoil Data Set Using Maximum Likelihood Linear Regression:\", r2_test_airfoil)"
   ]
  },
  {
   "cell_type": "markdown",
   "metadata": {},
   "source": [
    "The MSE of test data set is slightly larger than the MSE of training data set and the $R^2$ is slightly smaller than the training data set. So the error of prediction is smaller in training data set. This is normal because we trained the model with the training set and the model may not generalize as well to unseen data. The gap is relatively small so the overfitting problem is not significant."
   ]
  },
  {
   "cell_type": "markdown",
   "metadata": {
    "id": "fBOetvBSIpwM"
   },
   "source": [
    "#### 1.2 Lasso regression (12 marks) \n",
    "\n",
    "1.2.1"
   ]
  },
  {
   "cell_type": "markdown",
   "metadata": {},
   "source": [
    "Using training data set `airfoil_noise_samples.csv` to train a Lasso regression. Note that we use standardised data here for predictors."
   ]
  },
  {
   "cell_type": "markdown",
   "metadata": {},
   "source": [
    "The Lasso regression cost function can be written as:\n",
    "\n",
    "$$ L(\\beta_{full}) = \\frac{1}{2N} \\lVert {\\bf {y}} - {\\bf {X}}\\beta -\\beta_0 \\rVert^2 + \\lambda \\lVert \\beta \\rVert_1$$\n",
    "\n",
    "where $N$ is the number of samples and $\\beta_0$ is not included in regularisation.\n",
    "\n",
    "To find the optimal $\\beta^*$ we use gradient descent method. First compute the gradient of this cost function with respect to the coefficients $\\beta$, we first take the partial derivative of $L(\\beta_{full})$ with respect to each coefficient:\n",
    "\n",
    "$$\\frac{\\partial L}{\\partial \\beta_0} = -\\frac{1}{N} \\sum_{i=1}^{N} (y_i - \\beta_0 - \\sum_{j=1}^{6} \\beta_j x_{ij})$$\n",
    "\n",
    "which is the first entry of $-\\frac{1}{N} {\\bf {X}}_{aug}^T( {\\bf {y}} - {\\bf {X}}_{aug} \\beta_{full} )$. And for $j=1,2,\\dots,6$:\n",
    "\n",
    "$$\\frac{\\partial L}{\\partial \\beta_j} = -\\frac{1}{N} \\sum_{i=1}^{N} x_{ij}(y_i - \\beta_0 - \\sum_{k=1, k\\neq j}^{6} \\beta_k x_{ik}) + \\lambda \\text{ sign }(\\beta_j)$$\n",
    "\n",
    "which is the remaining entries of $-\\frac{1}{N} {\\bf {X}}_{aug}^T( {\\bf {y}} - {\\bf {X}}_{aug} \\beta_{full} )$ plus $\\lambda \\text{ sign }(\\beta)$. Here ${\\bf {X}}_{aug}$ is the predictors with a column of 1.\n",
    "\n",
    "The gradient vector is then:\n",
    "\n",
    "$$ (\\nabla L)^T = \\begin{bmatrix} \\frac{\\partial L}{\\partial \\beta_0} \\ \\frac{\\partial L}{\\partial \\beta_1} \\ \\cdots \\ \\frac{\\partial L}{\\partial \\beta_6} \\end{bmatrix} $$\n",
    "\n",
    "The gradient descent process update $\\beta$ every time by\n",
    "\n",
    "$$\\beta_{n+1} = \\beta_{n} - l  \\nabla_{\\beta_{n}} L \\frac{1}{\\lVert\\nabla_{\\beta_{n}} L\\rVert_2}$$\n",
    "\n",
    "where $l$ is the learning rate.\n",
    "\n",
    "The function stops once $\\lVert\\nabla_{\\beta_{n}} L\\rVert_2 < \\epsilon$ where $\\epsilon$ is a threshold."
   ]
  },
  {
   "cell_type": "code",
   "execution_count": 12,
   "metadata": {},
   "outputs": [],
   "source": [
    "def lasso_regression(x, y, lamb=0.001, eps = 1e-6, num_iters = 10000):\n",
    "    \"\"\"\n",
    "    Lasso regression by gradient descent method.\n",
    "    Arguments:\n",
    "        x: N x (D+1) matrix of predictors\n",
    "        y: N x 1 vector of observations\n",
    "        lamb: Lasso penalty hyperparameter\n",
    "        eps: stop threshold\n",
    "        num_iters: maximum number of iteration of gradient descent\n",
    "    Returns: \n",
    "        model parameters by Lasso regression using gradient descent method\n",
    "    \"\"\"\n",
    "    \n",
    "    N, D = x.shape\n",
    "    # initialize beta\n",
    "    beta = np.zeros(D)\n",
    "    beta[0] += np.mean(y)\n",
    "    \n",
    "    for i in range(num_iters):\n",
    "        # learning rate\n",
    "        l = 1 / (i+1) \n",
    "        \n",
    "        # gradient of Lasso regression\n",
    "        gradient = ((x.T @ x @ beta - x.T @ y) / N)\n",
    "        gradient[1:] = gradient[1:] + lamb * np.sign(beta[1:])\n",
    "\n",
    "        # gradient descent\n",
    "        beta = beta - l * gradient / np.linalg.norm(gradient) \n",
    "        \n",
    "        # stop threshold\n",
    "        if np.linalg.norm(gradient) <= eps:\n",
    "            break\n",
    "            \n",
    "    return beta"
   ]
  },
  {
   "cell_type": "code",
   "execution_count": 13,
   "metadata": {},
   "outputs": [
    {
     "name": "stdout",
     "output_type": "stream",
     "text": [
      "Computed model parameters by Lasso regression: [ 1.23970283e+02 -3.57431264e+00  8.27754263e-01 -3.92399774e+00\n",
      " -8.07329837e-02  1.72394249e+00 -1.13444553e-02]\n",
      "Mean Squared Error of Training Airfoil Data Set by Lasso Regression: 1.8755700307686594\n",
      "R-squared of Training Airfoil Data Set by Lasso Regression: 0.9177338103650813\n"
     ]
    }
   ],
   "source": [
    "# train a Lasso regression\n",
    "beta_lasso_airfoil = lasso_regression(x_train_airfoil_aug, y_train_airfoil)\n",
    "print(\"Computed model parameters by Lasso regression:\", beta_lasso_airfoil)\n",
    "\n",
    "# mean Squared Error (MSE) for training data set\n",
    "mse_train_lasso_airfoil = mse_linear(x_train_airfoil_aug, y_train_airfoil, beta_lasso_airfoil)\n",
    "print(\"Mean Squared Error of Training Airfoil Data Set by Lasso Regression:\", mse_train_lasso_airfoil)\n",
    "# R Square for training data set\n",
    "r2_train_lasso_airfoil = r_square(x_train_airfoil_aug, y_train_airfoil, beta_lasso_airfoil)\n",
    "print(\"R-squared of Training Airfoil Data Set by Lasso Regression:\", r2_train_lasso_airfoil)"
   ]
  },
  {
   "cell_type": "markdown",
   "metadata": {},
   "source": [
    "Employ a 5-fold cross-validation to tune the Lasso penalty hyper-parameter $\\lambda$."
   ]
  },
  {
   "cell_type": "markdown",
   "metadata": {},
   "source": [
    "The `score_lasso` function returns the MSE of test data set for model trained by Lasso regression and training data set. The `cross_validation_score_lasso` function employs a k-fold cross-validation and returns the average MSE. The `choose_best_lamb_lasso` function search for the lambda with smallest average MSE in a certain range."
   ]
  },
  {
   "cell_type": "code",
   "execution_count": 14,
   "metadata": {},
   "outputs": [],
   "source": [
    "def score_lasso(x_train, y_train, x_test, y_test, lamb):\n",
    "    \n",
    "    beta = lasso_regression(x_train, y_train, lamb = lamb) # model parameters by Lasso regression\n",
    "    y_pred = x_test @ beta # prediction by model for test data set\n",
    "    \n",
    "    return np.mean((y_test - y_pred) ** 2) # return MSE on test data set\n",
    "\n",
    "def cross_validation_score_lasso(x_train, y_train, folds, lamb):\n",
    "    \"\"\"\n",
    "    Calculate a k-fold cross validation scores by Lasso regression.\n",
    "    Arguments:\n",
    "        x_train: N x (D+1) matrix of predictors\n",
    "        y_train: N x 1 vector of observations\n",
    "        folds: indexes of k-fold\n",
    "        lamb: penalty parameter of Lasso regression\n",
    "    Returns: \n",
    "        average MSE of k- fold cross validation by Lasso regression\n",
    "    \"\"\"\n",
    "    \n",
    "    scores = []\n",
    "    \n",
    "    for i in range(len(folds)):\n",
    "        # indexes on train and test data sets of each folds\n",
    "        val_indexes = folds[i]\n",
    "        train_indexes = list(set(range(y_train.shape[0])) - set(val_indexes))\n",
    "        \n",
    "        # data used to train the Lasso regression\n",
    "        x_train_i = x_train[train_indexes, :]\n",
    "        y_train_i = y_train[train_indexes]\n",
    "        \n",
    "        # data used to validate the Lasso regression\n",
    "        x_val_i = x_train[val_indexes, :]\n",
    "        y_val_i = y_train[val_indexes] \n",
    "        \n",
    "        # add score (MSE) to scores\n",
    "        score_i = score_lasso(x_train_i, y_train_i, x_val_i, y_val_i, lamb) \n",
    "        scores.append(score_i)\n",
    "\n",
    "    # return the average MSE\n",
    "    return sum(scores) / len(scores) \n",
    "\n",
    "def choose_best_lamb_lasso(x_train, y_train, folds, lamb_range):\n",
    "    \"\"\"\n",
    "    Choose the best lambda based on average MSE by Lasso regression.\n",
    "    Arguments:\n",
    "        x_train: N x (D+1) matrix of predictors\n",
    "        y_train: N x 1 vector of observations\n",
    "        folds: indexes of k-fold\n",
    "        lamb_range: a range of penalty parameter of Lasso regression to search on\n",
    "    Returns: \n",
    "        lambda with smallest MSE\n",
    "    \"\"\"\n",
    "    \n",
    "    # initialise lamb_scores\n",
    "    lamb_scores = np.zeros((len(lamb_range),))\n",
    "  \n",
    "    for i, lamb in enumerate(lamb_range):\n",
    "        lamb_scores[i] = cross_validation_score_lasso(x_train, y_train, folds, lamb) # average MSE by k-fold cross-validation\n",
    "        print(f'Average MSE when lambda = {lamb}: {lamb_scores[i]:.7f}') # print the average MSE\n",
    "    \n",
    "    # index of lambda with minimum average MSE\n",
    "    best_lamb_index = np.argmin(lamb_scores)\n",
    "    \n",
    "    # return best lambda and lamb_scores\n",
    "    return lamb_range[best_lamb_index], lamb_scores"
   ]
  },
  {
   "cell_type": "markdown",
   "metadata": {},
   "source": [
    "Now we scan through $\\lambda$ range `lamb_range_airfoil_lasso` to find the optimal $\\lambda^*$ which has smallest average MSE over the 5-fold cross-validation."
   ]
  },
  {
   "cell_type": "code",
   "execution_count": 15,
   "metadata": {},
   "outputs": [
    {
     "name": "stdout",
     "output_type": "stream",
     "text": [
      "Average MSE when lambda = 0.0: 1.8816766\n",
      "Average MSE when lambda = 0.0005263157894736842: 1.8815944\n",
      "Average MSE when lambda = 0.0010526315789473684: 1.8815306\n",
      "Average MSE when lambda = 0.0015789473684210526: 1.8814996\n",
      "Average MSE when lambda = 0.002105263157894737: 1.8814647\n",
      "Average MSE when lambda = 0.002631578947368421: 1.8814406\n",
      "Average MSE when lambda = 0.003157894736842105: 1.8814322\n",
      "Average MSE when lambda = 0.0036842105263157894: 1.8814324\n",
      "Average MSE when lambda = 0.004210526315789474: 1.8814406\n",
      "Average MSE when lambda = 0.004736842105263157: 1.8814502\n",
      "Average MSE when lambda = 0.005263157894736842: 1.8814764\n",
      "Average MSE when lambda = 0.005789473684210527: 1.8815009\n",
      "Average MSE when lambda = 0.00631578947368421: 1.8815191\n",
      "Average MSE when lambda = 0.006842105263157894: 1.8815763\n",
      "Average MSE when lambda = 0.007368421052631579: 1.8816038\n",
      "Average MSE when lambda = 0.007894736842105263: 1.8816611\n",
      "Average MSE when lambda = 0.008421052631578947: 1.8817168\n",
      "Average MSE when lambda = 0.008947368421052631: 1.8817742\n",
      "Average MSE when lambda = 0.009473684210526315: 1.8818625\n",
      "Average MSE when lambda = 0.01: 1.8819339\n",
      "Best lambda of Lasso regression by 5-fold cross validation: 0.003157894736842105\n"
     ]
    }
   ],
   "source": [
    "folds_indexes_airfoil = np.split(np.arange(len(y_train_airfoil)), 5) # divide indexes into 5 folds\n",
    "lamb_range_airfoil_lasso = np.linspace(0,0.01,20) # lambda range\n",
    "\n",
    "# find the best lambda\n",
    "best_lamb_airfoil_lasso, lamb_scores_airfoil_lasso = choose_best_lamb_lasso(x_train_airfoil_aug, y_train_airfoil, \\\n",
    "                                                                            folds_indexes_airfoil, lamb_range_airfoil_lasso)\n",
    "\n",
    "print('Best lambda of Lasso regression by 5-fold cross validation:', best_lamb_airfoil_lasso)"
   ]
  },
  {
   "cell_type": "code",
   "execution_count": 16,
   "metadata": {},
   "outputs": [
    {
     "data": {
      "image/png": "[encoded data removed]",
      "text/plain": [
       "<Figure size 432x288 with 1 Axes>"
      ]
     },
     "metadata": {
      "needs_background": "light"
     },
     "output_type": "display_data"
    }
   ],
   "source": [
    "# plot average MSE against lambda\n",
    "plt.plot(lamb_range_airfoil_lasso, lamb_scores_airfoil_lasso)\n",
    "plt.xlabel(r'$\\lambda$')\n",
    "plt.ylabel(r'Average MSE')\n",
    "plt.title('Scan the penalty hyper-parameter $\\lambda$')\n",
    "plt.show()"
   ]
  },
  {
   "cell_type": "markdown",
   "metadata": {},
   "source": [
    "We divide the training data set into 5 folds and use 4 of them to train the Lasso model and the remaining one to calculate the MSE. In 5-fold cross-validation, we let each fold to be the validate fold once and calculate the average MSE.\n",
    "\n",
    "As we can see from the plot, we scan through the `lamb_range_airfoil_lasso` and calculate the corresponding average MSE of 5-fold cross-validation. The best $\\lambda^*$ is the one with the smallest average MSE which is `best_lamb_airfoil_lasso` as presented above. The value of the best $\\lambda^*$ is 0.00316."
   ]
  },
  {
   "cell_type": "markdown",
   "metadata": {
    "id": "DKl-qA13KoZI"
   },
   "source": [
    "1.2.2"
   ]
  },
  {
   "cell_type": "markdown",
   "metadata": {},
   "source": [
    "Choose the first training/validation split and visualise the inferred parameters $\\beta$ as a function of the Lasso penalty $\\lambda$."
   ]
  },
  {
   "cell_type": "code",
   "execution_count": 17,
   "metadata": {
    "id": "L8F44NEcIx6c"
   },
   "outputs": [],
   "source": [
    "# choose one training/validation split\n",
    "val_indexes_airfoil = folds_indexes_airfoil[0]\n",
    "train_indexes_airfoil = list(set(range(y_train_airfoil.shape[0])) - set(val_indexes_airfoil))\n",
    "\n",
    "X_train_airfoil_i = x_train_airfoil_aug[train_indexes_airfoil, :]\n",
    "y_train_airfoil_i = y_train_airfoil[train_indexes_airfoil]\n",
    "\n",
    "# initialise lambda range and beta list\n",
    "lamb_airfoil = np.linspace(0, 5, 20)\n",
    "beta_airfoil = [] # list of beta_1, ..., beta_6\n",
    "\n",
    "# check how beta varies when lambda changes\n",
    "for i in lamb_airfoil:\n",
    "    beta_airfoil_i = lasso_regression(X_train_airfoil_i, y_train_airfoil_i, lamb = i)\n",
    "    beta_airfoil.append(beta_airfoil_i[1:])"
   ]
  },
  {
   "cell_type": "code",
   "execution_count": 18,
   "metadata": {},
   "outputs": [
    {
     "data": {
      "image/png": "[encoded data removed]",
      "text/plain": [
       "<Figure size 432x288 with 1 Axes>"
      ]
     },
     "metadata": {
      "needs_background": "light"
     },
     "output_type": "display_data"
    }
   ],
   "source": [
    "plt.plot(lamb_airfoil, beta_airfoil)\n",
    "plt.xlabel(r'$\\lambda$')\n",
    "plt.ylabel(r'$\\beta$')\n",
    "plt.title(r'Values of $\\beta$ when $\\lambda$ varies excluding $\\beta_0$')\n",
    "plt.show()"
   ]
  },
  {
   "cell_type": "markdown",
   "metadata": {},
   "source": [
    "We can see from the plot that when $\\lambda$ increases, the values of model parameters converge to 0. \n",
    "\n",
    "In Lasso regression, the penalty parameter $\\lambda$ controls the  bias-variance trade-off. When $\\lambda$ is small, the Lasso regression model is less regularised so the model fits the training set better. The bias will be lower but the variance will be larger. When $\\lambda$ is large, the model is more regularised with more inferred parameters exactly equal to 0. So the variance is smaller but the bias will be larger.\n",
    "\n",
    "The larger the Lasso penalty is, in order to minimise the loss function, the more the regularisation term tends to be 0. So the inferred parameters will converge to 0 when $\\lambda$ increases."
   ]
  },
  {
   "cell_type": "markdown",
   "metadata": {
    "id": "5tY1R0v5Kpjf"
   },
   "source": [
    "1.2.3"
   ]
  },
  {
   "cell_type": "markdown",
   "metadata": {},
   "source": [
    "Fix the penalty hyperparameter $\\lambda$ to the optimal value $\\lambda^*$ and retrain the model on the entire training data set."
   ]
  },
  {
   "cell_type": "code",
   "execution_count": 19,
   "metadata": {
    "id": "peP-pt2rIyBU"
   },
   "outputs": [
    {
     "name": "stdout",
     "output_type": "stream",
     "text": [
      "Mean Squared Error of Training Airfoil Data Set by Lasso with optimal penalty: 1.8756902599741014\n",
      "R-squared of Training Airfoil Data Set by Lasso with optimal penalty: 0.9177285368757144\n",
      "Mean Squared Error of Test Airfoil Data Set by Lasso with optimal penalty: 1.9843295991811745\n",
      "R-squared of Test Airfoil Data Set by Lasso with optimal penalty: 0.908320017058454\n"
     ]
    }
   ],
   "source": [
    "# model parameters with optimal penalty\n",
    "beta_airfoil_lasso = lasso_regression(x_train_airfoil_aug, y_train_airfoil, lamb = best_lamb_airfoil_lasso)\n",
    "\n",
    "# Mean Squared Error (MSE) for training data set\n",
    "mse_train_lasso_airfoil = mse_linear(x_train_airfoil_aug, y_train_airfoil, beta_airfoil_lasso)\n",
    "print(\"Mean Squared Error of Training Airfoil Data Set by Lasso with optimal penalty:\", mse_train_lasso_airfoil)\n",
    "# R Square for training data set\n",
    "r2_train_lasso_airfoil = r_square(x_train_airfoil_aug, y_train_airfoil, beta_airfoil_lasso)\n",
    "print(\"R-squared of Training Airfoil Data Set by Lasso with optimal penalty:\", r2_train_lasso_airfoil)\n",
    "\n",
    "# Mean Squared Error (MSE) for test data set\n",
    "mse_test_lasso_airfoil = mse_linear(x_test_airfoil_aug, y_test_airfoil, beta_airfoil_lasso)\n",
    "print(\"Mean Squared Error of Test Airfoil Data Set by Lasso with optimal penalty:\", mse_test_lasso_airfoil)\n",
    "# R Square for test data set\n",
    "r2_test_lasso_airfoil = r_square(x_test_airfoil_aug, y_test_airfoil, beta_airfoil_lasso)\n",
    "print(\"R-squared of Test Airfoil Data Set by Lasso with optimal penalty:\", r2_test_lasso_airfoil)"
   ]
  },
  {
   "cell_type": "markdown",
   "metadata": {},
   "source": [
    "The MSE of test data set is slightly larger than the MSE of training data set and the $R^2$ is slightly smaller than the training data set. This is normal because we trained the model with the training set and the model will be optimised for in-sample data.\n",
    "\n",
    "|$\\lambda$|MSE on Training Data|R-Square on Training Data|MSE on Test Data|R-Square on Test Data|\n",
    "|:------:|:------:|:------:|:------:|:------:|\n",
    "|$0$|1.87557|0.917734|1.98439|0.908317|\n",
    "|$\\lambda^*$|1.87569|0.917729|1.98433|0.908320|\n",
    "\n",
    "The case $\\lambda = 0$ is the same as maximum likelihood regression. For in-sample data, the maximum likelihood regression has smaller MSE and larger $R^2$. This is because for in-sample data, the maximum likelihood regression optimizes the model parameters to minimize the difference between the predicted values and the actual values. \n",
    "\n",
    "But for out-of-sample data, the Lasso regression with optimal $\\lambda^*$ has smaller MSE and larger $R^2$. This is because regularisation avoids some overfitting problem so the model could deal better with unseen data."
   ]
  },
  {
   "cell_type": "markdown",
   "metadata": {
    "id": "QFEa0_--IqOT"
   },
   "source": [
    "#### 1.3 Elastic Nets (20 marks) \n",
    "1.3.1"
   ]
  },
  {
   "cell_type": "markdown",
   "metadata": {},
   "source": [
    "Using the dataset `airfoil_noise_samples.csv` to train a elastic net linear regression."
   ]
  },
  {
   "cell_type": "markdown",
   "metadata": {},
   "source": [
    "The Elastic Net regression cost function can be written as:\n",
    "\n",
    "$$ L_{EN}(\\beta_{full}) = \\frac{1}{2N} \\lVert {\\bf {y}} - {\\bf {X}}\\beta -\\beta_0 \\rVert^2 + \\lambda [\\alpha \\lVert \\beta \\rVert_1 + (1-\\alpha)\\lVert \\beta \\rVert^2]$$\n",
    "\n",
    "where $N$ is the number of samples and $\\beta_0$ is not included in regularisation.\n",
    "\n",
    "To find the optimal $\\beta^*$ we use gradient descent method. First compute the gradient of this cost function with respect to the coefficients $\\beta$, we first take the partial derivative of $L_{EN}(\\beta_{full})$ with respect to each coefficient:\n",
    "\n",
    "$$\\frac{\\partial L_{EN}}{\\partial \\beta_0} = -\\frac{1}{N} \\sum_{i=1}^{N} (y_i - \\beta_0 - \\sum_{j=1}^{6} \\beta_j x_{ij})$$\n",
    "\n",
    "which is the first entry of $-\\frac{1}{N} {\\bf {X}}_{aug}^T( {\\bf {y}} - {\\bf {X}}_{aug} \\beta_{full} )$. And for $j=1,2,\\dots,6$:\n",
    "\n",
    "$$\\frac{\\partial L_{EN}}{\\partial \\beta_j} = -\\frac{1}{N} \\sum_{i=1}^{N} x_{ij}(y_i - \\beta_0 - \\sum_{k=1, k\\neq j}^{6} \\beta_k x_{ik}) + \\lambda \\alpha \\text{ sign }(\\beta_j) + 2\\lambda(1- \\alpha) \\beta_j$$\n",
    "\n",
    "which is the remaining entries of $-\\frac{1}{N} {\\bf {X}}_{aug}^T( {\\bf {y}} - {\\bf {X}}_{aug} \\beta_{full} )$ plus $\\lambda \\alpha \\text{ sign }(\\beta)+ 2\\lambda(1- \\alpha) I \\beta$. Here ${\\bf {X}}_{aug}$ is the predictors with a column of 1.\n",
    "\n",
    "The gradient vector is then:\n",
    "\n",
    "$$ (\\nabla L_{EN})^T = \\begin{bmatrix} \\frac{\\partial L}{\\partial \\beta_0} \\ \\frac{\\partial L}{\\partial \\beta_1} \\ \\cdots \\ \\frac{\\partial L}{\\partial \\beta_6} \\end{bmatrix} $$\n",
    "\n",
    "The gradient descent process update $\\beta$ every time by\n",
    "\n",
    "$$\\beta_{n+1} = \\beta_{n} - l  \\nabla_{\\beta_{n}} L_{EN} \\frac{1}{\\lVert\\nabla_{\\beta_{n}} L_{EN}\\rVert_2}$$\n",
    "\n",
    "where $l$ is the learning rate.\n",
    "\n",
    "The function stops once $\\lVert\\nabla_{\\beta_{n}} L_{EN}\\rVert_2 < \\epsilon$ where $\\epsilon$ is a threshold."
   ]
  },
  {
   "cell_type": "code",
   "execution_count": 20,
   "metadata": {},
   "outputs": [],
   "source": [
    "def elastic_nets_regression(x, y, alpha = 0.5, lamb = 0.001, eps = 1e-6, num_iters = 10000):\n",
    "    \"\"\"\n",
    "    Elastic Nets regression by gradient descent method.\n",
    "    Arguments:\n",
    "        x: N x (D+1) matrix of predictors\n",
    "        y: N x 1 vector of observations\n",
    "        alpha:  coefficient that controls the relative importance of the Ridge and Lasso terms\n",
    "        lamb: Lasso penalty hyperparameter\n",
    "        eps: stop threshold\n",
    "        num_iters: maximum number of iteration of gradient descent\n",
    "    Returns: \n",
    "        model parameters by Elastic Nets regression using gradient descent method\n",
    "    \"\"\"\n",
    "    \n",
    "    N, D = x.shape\n",
    "    # initialize beta\n",
    "    beta = np.zeros(D)\n",
    "    beta[0] += np.mean(y)\n",
    "    \n",
    "    for i in range(num_iters):\n",
    "        lr = 1 / (i+1) # learning rate\n",
    "        \n",
    "        # gradient of Elastic Nets regression\n",
    "        gradient = (x.T @ (x @ beta - y)) / N\n",
    "        gradient[1:] = gradient[1:] + lamb * alpha * np.sign(beta[1:]) + 2 * lamb * (1 - alpha) * (np.identity(D - 1) @ beta[1:])\n",
    "\n",
    "        beta = beta - lr * gradient / np.linalg.norm(gradient) # gradient descent\n",
    "        \n",
    "        # stop threshold\n",
    "        if np.linalg.norm(gradient) <= eps:\n",
    "            break\n",
    "            \n",
    "    return beta"
   ]
  },
  {
   "cell_type": "code",
   "execution_count": 21,
   "metadata": {},
   "outputs": [
    {
     "name": "stdout",
     "output_type": "stream",
     "text": [
      "Computed model parameters by Elastic Nets regression: [ 1.23970283e+02 -3.57061060e+00  8.14010015e-01 -3.90799323e+00\n",
      " -9.03707290e-02  1.72194697e+00 -1.44244627e-02]\n"
     ]
    }
   ],
   "source": [
    "# train an elastic net regression\n",
    "beta_EN_airfoil = elastic_nets_regression(x_train_airfoil_aug, y_train_airfoil)\n",
    "print(\"Computed model parameters by Elastic Nets regression:\", beta_EN_airfoil)"
   ]
  },
  {
   "cell_type": "markdown",
   "metadata": {
    "id": "upr0TvYiK2ZH"
   },
   "source": [
    "1.3.2"
   ]
  },
  {
   "cell_type": "markdown",
   "metadata": {},
   "source": [
    "Conduct a grid search to find the optimal penalty hyperparameter $\\lambda$ of the elastic nets."
   ]
  },
  {
   "cell_type": "markdown",
   "metadata": {},
   "source": [
    "The `score_elastic` function returns the MSE of test data set for model trained by Elastic Nets regression and training data set. The `cross_validation_score_elastic` function employs a k-fold cross-validation and returns the average MSE. The `choose_best_lamb_elastic` function choose the lambda with smallest average MSE in a certain range."
   ]
  },
  {
   "cell_type": "code",
   "execution_count": 22,
   "metadata": {},
   "outputs": [],
   "source": [
    "def score_elastic(x_train, y_train, x_test, y_test, alpha, lamb):\n",
    "    \n",
    "    beta = elastic_nets_regression(x_train, y_train, alpha = alpha, lamb = lamb) # model parameters by Elastic Nets regression\n",
    "    y_pred = x_test @ beta # prediction by model for test data set\n",
    "    \n",
    "    return np.mean((y_test - y_pred) ** 2) # return MSE on test data set\n",
    "\n",
    "def cross_validation_score_elastic(x_train, y_train, folds, alpha, lamb):\n",
    "    \"\"\"\n",
    "    Calculate a k-fold cross validation scores by Elastic Nets regression.\n",
    "    Arguments:\n",
    "        x_train: N x (D+1) matrix of predictors\n",
    "        y_train: N x 1 vector of observations\n",
    "        folds: indexes of k-fold\n",
    "        alpha:  coefficient that controls the relative importance of the Ridge and Lasso terms\n",
    "        lamb: penalty parameter of Lasso regression\n",
    "    Returns: \n",
    "        average MSE of k-fold cross validation by Elastic Nets regression\n",
    "    \"\"\"\n",
    "    \n",
    "    scores = []\n",
    "    \n",
    "    for i in range(len(folds)):\n",
    "        # indexes on train and test data sets of each folds\n",
    "        val_indexes = folds[i]\n",
    "        train_indexes = list(set(range(y_train.shape[0])) - set(val_indexes))\n",
    "        \n",
    "        # data used to train the Lasso regression\n",
    "        x_train_i = x_train[train_indexes, :]\n",
    "        y_train_i = y_train[train_indexes]\n",
    "\n",
    "        # data used to validate the Lasso regression\n",
    "        x_val_i = x_train[val_indexes, :]\n",
    "        y_val_i = y_train[val_indexes] \n",
    "\n",
    "        # add score (MSE) to scores\n",
    "        score_i = score_elastic(x_train_i, y_train_i, x_val_i, y_val_i, alpha, lamb) \n",
    "        scores.append(score_i)\n",
    "\n",
    "    # return the average MSE\n",
    "    return sum(scores) / len(scores) \n",
    "\n",
    "def choose_best_lamb_elastic(x_train, y_train, folds, alpha, lamb_range):\n",
    "    \"\"\"\n",
    "    Choose the best lambda based on average MSE by Elastic Nets regression.\n",
    "    Arguments:\n",
    "        x_train: N x (D+1) matrix of predictors\n",
    "        y_train: N x 1 vector of observations\n",
    "        folds: indexes of k-fold\n",
    "        alpha:  coefficient that controls the relative importance of the Ridge and Lasso terms\n",
    "        lamb_range: a range of penalty parameter of Lasso regression to search on\n",
    "    Returns: \n",
    "        lambda with smallest MSE\n",
    "    \"\"\"\n",
    "    \n",
    "    # initialise lamb_scores\n",
    "    lamb_scores = np.zeros((len(lamb_range),))\n",
    "  \n",
    "    for i, lamb in enumerate(lamb_range):\n",
    "        lamb_scores[i] = cross_validation_score_elastic(x_train, y_train, folds, alpha, lamb) # average MSE by k-fold cross-validation\n",
    "        print(f'Average MSE when lambda = {lamb} and alpha = {alpha}: {lamb_scores[i]:.7f}') # print the average MSE\n",
    "\n",
    "    # index of lambda with minimum average MSE\n",
    "    best_lamb_index = np.argmin(lamb_scores)\n",
    "    \n",
    "    return lamb_range[best_lamb_index]"
   ]
  },
  {
   "cell_type": "markdown",
   "metadata": {},
   "source": [
    "Now we repeat the cross-validation process for $\\alpha = 0.1, 0.5, 0.9$ and find the optimal $\\lambda^*$ for each $\\alpha$. Retrain the model with each $\\lambda^*$ and calculate the out-of-sample MSE and $R^2$ scores."
   ]
  },
  {
   "cell_type": "code",
   "execution_count": 23,
   "metadata": {},
   "outputs": [
    {
     "name": "stdout",
     "output_type": "stream",
     "text": [
      "Average MSE when lambda = 0.0 and alpha = 0.1: 1.8816779\n",
      "Average MSE when lambda = 5.555555555555556e-06 and alpha = 0.1: 1.8816727\n",
      "Average MSE when lambda = 1.1111111111111112e-05 and alpha = 0.1: 1.8816708\n",
      "Average MSE when lambda = 1.6666666666666667e-05 and alpha = 0.1: 1.8816695\n",
      "Average MSE when lambda = 2.2222222222222223e-05 and alpha = 0.1: 1.8816743\n",
      "Average MSE when lambda = 2.777777777777778e-05 and alpha = 0.1: 1.8816797\n",
      "Average MSE when lambda = 3.3333333333333335e-05 and alpha = 0.1: 1.8816691\n",
      "Average MSE when lambda = 3.888888888888889e-05 and alpha = 0.1: 1.8816892\n",
      "Average MSE when lambda = 4.4444444444444447e-05 and alpha = 0.1: 1.8816844\n",
      "Average MSE when lambda = 5e-05 and alpha = 0.1: 1.8816789\n",
      "MSE of Test Airfoil Data Set by Elastic Nets when alpha = 0.1 with optimal lambda: 1.9845000272417561\n",
      "R2 of Test Airfoil Data Set by Elastic Nets when alpha = 0.1 with optimal lambda: 0.9083121429423328\n",
      "Average MSE when lambda = 0.0 and alpha = 0.5: 1.8816779\n",
      "Average MSE when lambda = 6.666666666666666e-05 and alpha = 0.5: 1.8816637\n",
      "Average MSE when lambda = 0.0001333333333333333 and alpha = 0.5: 1.8816639\n",
      "Average MSE when lambda = 0.00019999999999999998 and alpha = 0.5: 1.8816537\n",
      "Average MSE when lambda = 0.0002666666666666666 and alpha = 0.5: 1.8816673\n",
      "Average MSE when lambda = 0.00033333333333333327 and alpha = 0.5: 1.8816524\n",
      "Average MSE when lambda = 0.00039999999999999996 and alpha = 0.5: 1.8816578\n",
      "Average MSE when lambda = 0.0004666666666666666 and alpha = 0.5: 1.8816573\n",
      "Average MSE when lambda = 0.0005333333333333333 and alpha = 0.5: 1.8816737\n",
      "Average MSE when lambda = 0.0006 and alpha = 0.5: 1.8816607\n",
      "MSE of Test Airfoil Data Set by Elastic Nets when alpha = 0.5 with optimal lambda: 1.985022639976484\n",
      "R2 of Test Airfoil Data Set by Elastic Nets when alpha = 0.5 with optimal lambda: 0.9082879971922393\n",
      "Average MSE when lambda = 0.0 and alpha = 0.9: 1.8816779\n",
      "Average MSE when lambda = 0.0003333333333333333 and alpha = 0.9: 1.8816297\n",
      "Average MSE when lambda = 0.0006666666666666666 and alpha = 0.9: 1.8816103\n",
      "Average MSE when lambda = 0.001 and alpha = 0.9: 1.8815695\n",
      "Average MSE when lambda = 0.0013333333333333333 and alpha = 0.9: 1.8815711\n",
      "Average MSE when lambda = 0.0016666666666666666 and alpha = 0.9: 1.8815347\n",
      "Average MSE when lambda = 0.002 and alpha = 0.9: 1.8815437\n",
      "Average MSE when lambda = 0.002333333333333333 and alpha = 0.9: 1.8815540\n",
      "Average MSE when lambda = 0.0026666666666666666 and alpha = 0.9: 1.8815726\n",
      "Average MSE when lambda = 0.003 and alpha = 0.9: 1.8816092\n",
      "MSE of Test Airfoil Data Set by Elastic Nets when alpha = 0.9 with optimal lambda: 1.9851329470711865\n",
      "R2 of Test Airfoil Data Set by Elastic Nets when alpha = 0.9 with optimal lambda: 0.9082829007845834\n"
     ]
    }
   ],
   "source": [
    "lamb_range_airfoil_elastic = [np.linspace(0,0.00005,10), np.linspace(0,0.0006,10), np.linspace(0,0.003,10)] # lists of lambda range\n",
    "alpha = [0.1, 0.5, 0.9] # alpha values\n",
    "\n",
    "optimal_lamb_elastic = [] # initialise list of optimal lambda\n",
    "beta_elastic = [] # initialise list of beta\n",
    "\n",
    "for i in range(len(alpha)):\n",
    "    # find optimal lambda for each alpha\n",
    "    best_lamb_elastic_i = choose_best_lamb_elastic(x_train_airfoil_aug, y_train_airfoil, folds_indexes_airfoil, \\\n",
    "                                                   alpha[i], lamb_range_airfoil_elastic[i])\n",
    "    optimal_lamb_elastic.append(best_lamb_elastic_i)\n",
    "    \n",
    "    # find model parameter for each alpha with corresponding optimal lambda\n",
    "    beta_elastic_airfoil_i = elastic_nets_regression(x_train_airfoil_aug, y_train_airfoil, alpha = alpha[i], lamb = best_lamb_elastic_i)\n",
    "    beta_elastic.append(beta_elastic_airfoil_i)\n",
    "    \n",
    "    # Mean Squared Error (MSE) for test data set\n",
    "    mse_test_elastic_airfoil = mse_linear(x_test_airfoil_aug, y_test_airfoil, beta_elastic_airfoil_i)\n",
    "    print(f'MSE of Test Airfoil Data Set by Elastic Nets when alpha = {alpha[i]} with optimal lambda: {mse_test_elastic_airfoil}')\n",
    "    # R Square for test data set\n",
    "    r2_test_elastic_airfoil = r_square(x_test_airfoil_aug, y_test_airfoil, beta_elastic_airfoil_i)\n",
    "    print(f'R2 of Test Airfoil Data Set by Elastic Nets when alpha = {alpha[i]} with optimal lambda: {r2_test_elastic_airfoil}')"
   ]
  },
  {
   "cell_type": "code",
   "execution_count": 24,
   "metadata": {},
   "outputs": [
    {
     "name": "stdout",
     "output_type": "stream",
     "text": [
      "Optimal lambda values when alpha = 0.1, 0.5 and 0.9: [3.3333333333333335e-05, 0.00033333333333333327, 0.0016666666666666666]\n"
     ]
    }
   ],
   "source": [
    "print(f'Optimal lambda values when alpha = 0.1, 0.5 and 0.9: {optimal_lamb_elastic}')"
   ]
  },
  {
   "cell_type": "markdown",
   "metadata": {},
   "source": [
    "When $\\alpha$ increase, the optimal $\\lambda^*$ also increase. \n",
    "\n",
    "From the MSE and $R^2$ we can see that $\\alpha = 0.1$ has the smallest MSE and largest $R^2$ when fitting test data set, so $\\alpha = 0.1$ provides the best model."
   ]
  },
  {
   "cell_type": "markdown",
   "metadata": {
    "id": "FV_wZw8tK3Y3"
   },
   "source": [
    "1.3.3"
   ]
  },
  {
   "cell_type": "markdown",
   "metadata": {},
   "source": [
    "Visualise the inferred parameters with the optimal $\\lambda^*$ for each value of $\\alpha$."
   ]
  },
  {
   "cell_type": "code",
   "execution_count": 25,
   "metadata": {
    "id": "Vt1AYcPHI4Mw",
    "scrolled": false
   },
   "outputs": [
    {
     "data": {
      "image/png": "[encoded data removed]",
      "text/plain": [
       "<Figure size 432x288 with 1 Axes>"
      ]
     },
     "metadata": {
      "needs_background": "light"
     },
     "output_type": "display_data"
    },
    {
     "data": {
      "image/png": "[encoded data removed]",
      "text/plain": [
       "<Figure size 432x288 with 1 Axes>"
      ]
     },
     "metadata": {
      "needs_background": "light"
     },
     "output_type": "display_data"
    },
    {
     "data": {
      "image/png": "[encoded data removed]",
      "text/plain": [
       "<Figure size 432x288 with 1 Axes>"
      ]
     },
     "metadata": {
      "needs_background": "light"
     },
     "output_type": "display_data"
    },
    {
     "data": {
      "image/png": "[encoded data removed]",
      "text/plain": [
       "<Figure size 432x288 with 1 Axes>"
      ]
     },
     "metadata": {
      "needs_background": "light"
     },
     "output_type": "display_data"
    },
    {
     "data": {
      "image/png": "[encoded data removed]",
      "text/plain": [
       "<Figure size 432x288 with 1 Axes>"
      ]
     },
     "metadata": {
      "needs_background": "light"
     },
     "output_type": "display_data"
    },
    {
     "data": {
      "image/png": "[encoded data removed]",
      "text/plain": [
       "<Figure size 432x288 with 1 Axes>"
      ]
     },
     "metadata": {
      "needs_background": "light"
     },
     "output_type": "display_data"
    },
    {
     "data": {
      "image/png": "[encoded data removed]",
      "text/plain": [
       "<Figure size 432x288 with 1 Axes>"
      ]
     },
     "metadata": {
      "needs_background": "light"
     },
     "output_type": "display_data"
    }
   ],
   "source": [
    "beta_airfoil_elastic = [] # initialise list of beta\n",
    "\n",
    "# train the Elastic Nets regression\n",
    "for i in range(3):\n",
    "    beta_airfoil_elastic_i = elastic_nets_regression(x_train_airfoil_aug, y_train_airfoil, alpha = alpha[i], lamb = optimal_lamb_elastic[i])\n",
    "    beta_airfoil_elastic.append(beta_airfoil_elastic_i)\n",
    "    \n",
    "beta_airfoil_elastic = np.array(beta_airfoil_elastic)\n",
    "# plot each beta_j separately\n",
    "for j in range(7):\n",
    "    plt.plot(alpha, beta_airfoil_elastic[:, j])\n",
    "    plt.xlabel(r'$\\alpha$')\n",
    "    plt.ylabel(r'$\\beta$')\n",
    "    plt.title(fr'The inferred parameters $\\beta_{j}$ with the optimal $\\lambda^*$ for $\\alpha$')\n",
    "    plt.show()"
   ]
  },
  {
   "cell_type": "markdown",
   "metadata": {},
   "source": [
    "Increasing $\\alpha$ in Elastic Net regression will increase the effect of the Lasso penalty relative to the Ridge penalty. This will promote sparsity in inferred parameters. As we can see from the plots, generally the magnitude of inferred parameters decrease when $\\alpha$ increase except for $\\beta_4$.\n",
    "\n",
    "When $\\alpha = 0$, the Elastic Net regression is the same as Ridge regression. The inferred parameters tend to shrink towards zero by the regualrisation. When $\\alpha = 1$, the Elastic Net regression is the same as Lasso regression which promotes sparsity in inferred parameters. More inferred parameters will be exactly 0. When $\\alpha = 0.5$, the Elastic Net regression is balanced between Lasso and Ridge regressions. The inferred parameters will be both sparse and also shrinks the towards zero for the non-zero ones."
   ]
  },
  {
   "cell_type": "markdown",
   "metadata": {
    "id": "4G0sCqwuIqsh"
   },
   "source": [
    "#### 1.4 kNN regression (10 marks)\n",
    "1.4.1"
   ]
  },
  {
   "cell_type": "markdown",
   "metadata": {},
   "source": [
    "Train a k-Nearest Neighbour (kNN) regression model on the dataset `airfoil_noise_samples.csv`."
   ]
  },
  {
   "cell_type": "code",
   "execution_count": 26,
   "metadata": {
    "id": "d-LzYu06JMC6"
   },
   "outputs": [],
   "source": [
    "def euclidian_distance(p, q):\n",
    "    # calculate the euclidian distance between p and q\n",
    "    return np.sqrt(np.sum((p-q)**2, axis=1)) \n",
    "\n",
    "def k_neighbours(X_train, X_test, k=5, return_distance=False):\n",
    "    \"\"\"\n",
    "    Find the nearest k neighbours of test data set in train data set.\n",
    "    Arguments:\n",
    "        X_train: N x D matrix of train data set\n",
    "        X_test: K x D vector of test data set\n",
    "        k: number of nearest neighbours\n",
    "        return_distance: a boolean variable indicates whether to return the distance\n",
    "    Returns: \n",
    "        indexes of k nearest neighbours in train data set\n",
    "    \"\"\"\n",
    "    \n",
    "    n_neighbours = k\n",
    "    dist = []\n",
    "    neigh_ind = []\n",
    "  \n",
    "    # compute distance from each point x_test in X_test to all points in X_train\n",
    "    point_dist = [euclidian_distance(x_test, X_train) for x_test in X_test]\n",
    "\n",
    "    # determine nearest k training points of each test point\n",
    "    for row in point_dist:\n",
    "        enum_neigh = enumerate(row)\n",
    "        sorted_neigh = sorted(enum_neigh, key=lambda x: x[1])[:k]\n",
    "\n",
    "        ind_list = [tup[0] for tup in sorted_neigh]\n",
    "        dist_list = [tup[1] for tup in sorted_neigh]\n",
    "\n",
    "        dist.append(dist_list)\n",
    "        neigh_ind.append(ind_list)\n",
    "  \n",
    "    # return distances together with indexes of k nearest neighbours\n",
    "    if return_distance:\n",
    "        return np.array(dist), np.array(neigh_ind)\n",
    "  \n",
    "    return np.array(neigh_ind)\n",
    "\n",
    "def reg_predict(X_train, y_train, X_test, k):\n",
    "    \n",
    "    # each of the k neighbours of any data point in X_test  \n",
    "    neighbours = k_neighbours(X_train, X_test, k=k)\n",
    "    # compute mean over neighbours observations\n",
    "    y_pred = np.array([np.mean(y_train.iloc[neighbour]) for neighbour in neighbours])\n",
    "    \n",
    "    # return the prediction values of test data set\n",
    "    return y_pred"
   ]
  },
  {
   "cell_type": "code",
   "execution_count": 27,
   "metadata": {},
   "outputs": [],
   "source": [
    "# train a kNN regression and make predicts of test data set by the model for k = 20\n",
    "x_train_airfoil = np.array(x_train_airfoil)\n",
    "x_test_airfoil = np.array(x_test_airfoil)\n",
    "y_pred = reg_predict(x_train_airfoil, y_train_airfoil, x_test_airfoil, 20)"
   ]
  },
  {
   "cell_type": "markdown",
   "metadata": {},
   "source": [
    "Use a grid search with 5-fold cross-validation to find an optimal value of the hyper-parameter $k$."
   ]
  },
  {
   "cell_type": "markdown",
   "metadata": {},
   "source": [
    "The `score_kNN` function returns the MSE of test data set for model trained by kNN regression and training data set. The `cross_validation_score_kNN` function employs a n-fold cross-validation and returns the average MSE. The `choose_best_k_kNN` function search for the k with smallest average MSE in a certain range."
   ]
  },
  {
   "cell_type": "code",
   "execution_count": 28,
   "metadata": {},
   "outputs": [],
   "source": [
    "def score_kNN(x_train, y_train, x_test, y_test, k):\n",
    "    \n",
    "    y_pred = reg_predict(x_train, y_train, x_test, k) # prediction by model for test data set\n",
    "    \n",
    "    return np.mean((y_test - y_pred) ** 2) # return MSE on test data set\n",
    "\n",
    "def cross_validation_score_kNN(x_train, y_train, folds, k):\n",
    "    \"\"\"\n",
    "    Calculate a a-fold cross validation scores by kNN regression.\n",
    "    Arguments:\n",
    "        x_train: N x D matrix of predictors\n",
    "        y_train: N x 1 vector of observations\n",
    "        folds: indexes of a-fold\n",
    "        k: parameter for kNN regression\n",
    "    Returns: \n",
    "        average MSE of a-fold cross validation by kNN regression\n",
    "    \"\"\"\n",
    "    \n",
    "    scores = []\n",
    "    \n",
    "    for i in range(len(folds)):\n",
    "        # indexes on train and test data sets of each folds\n",
    "        val_indexes = folds[i]\n",
    "        train_indexes = list(set(range(y_train.shape[0])) - set(val_indexes))\n",
    "        \n",
    "        # data used to train the kNN regression\n",
    "        x_train_i = x_train[train_indexes, :]\n",
    "        y_train_i = y_train[train_indexes]\n",
    "\n",
    "        # data used to validate the kNN regression\n",
    "        x_val_i = x_train[val_indexes, :]\n",
    "        y_val_i = y_train[val_indexes] \n",
    "\n",
    "        # add score (MSE) to scores\n",
    "        score_i = score_kNN(x_train_i, y_train_i, x_val_i, y_val_i, k)\n",
    "        scores.append(score_i)\n",
    "\n",
    "    # return the average MSE\n",
    "    return sum(scores) / len(scores) \n",
    "\n",
    "def choose_best_k_kNN(x_train, y_train, folds, k_range):\n",
    "    \"\"\"\n",
    "    Choose the best lambda based on average MSE by kNN regression.\n",
    "    Arguments:\n",
    "        x_train: N x D matrix of predictors\n",
    "        y_train: N x 1 vector of observations\n",
    "        folds: indexes of k-fold\n",
    "        k_range: a range of k of kNN regression to search on\n",
    "    Returns: \n",
    "        k with smallest MSE\n",
    "    \"\"\"\n",
    "    \n",
    "    # initialise k_scores\n",
    "    k_scores = np.zeros((len(k_range),))\n",
    "  \n",
    "    for i, j in enumerate(k_range):\n",
    "        k_scores[i] = cross_validation_score_kNN(x_train, y_train, folds, j)\n",
    "        print(f'Average MSE when k = {j}: {k_scores[i]:.7f}')\n",
    "\n",
    "    # index of k with minimum average MSE\n",
    "    best_k_index = np.argmin(k_scores)\n",
    "    \n",
    "    # return best k and k_scores\n",
    "    return k_range[best_k_index], k_scores"
   ]
  },
  {
   "cell_type": "code",
   "execution_count": 29,
   "metadata": {},
   "outputs": [
    {
     "name": "stdout",
     "output_type": "stream",
     "text": [
      "Average MSE when k = 1: 5.2094659\n",
      "Average MSE when k = 2: 3.8498780\n",
      "Average MSE when k = 3: 3.3964586\n",
      "Average MSE when k = 4: 3.1895516\n",
      "Average MSE when k = 5: 3.0864886\n",
      "Average MSE when k = 6: 3.0459041\n",
      "Average MSE when k = 7: 3.0204949\n",
      "Average MSE when k = 8: 3.0387562\n",
      "Average MSE when k = 9: 3.0199336\n",
      "Average MSE when k = 10: 3.0268354\n",
      "Average MSE when k = 11: 3.0200673\n",
      "Average MSE when k = 12: 3.0226436\n",
      "Average MSE when k = 13: 3.0244081\n",
      "Average MSE when k = 14: 3.0406294\n",
      "Best k of kNN regression by 5-fold cross validation: 9\n"
     ]
    }
   ],
   "source": [
    "k_range_airfoil = np.arange(1,15)\n",
    "\n",
    "# find the best k\n",
    "best_k_airfoil_kNN, k_scores_airfoil_kNN = choose_best_k_kNN(x_train_airfoil, y_train_airfoil, folds_indexes_airfoil, k_range_airfoil)\n",
    "\n",
    "print('Best k of kNN regression by 5-fold cross validation:', best_k_airfoil_kNN)"
   ]
  },
  {
   "cell_type": "code",
   "execution_count": 30,
   "metadata": {},
   "outputs": [
    {
     "data": {
      "image/png": "[encoded data removed]",
      "text/plain": [
       "<Figure size 432x288 with 1 Axes>"
      ]
     },
     "metadata": {
      "needs_background": "light"
     },
     "output_type": "display_data"
    }
   ],
   "source": [
    "# plot average MSE against k\n",
    "plt.plot(k_range_airfoil, k_scores_airfoil_kNN)\n",
    "plt.xlabel(r'k')\n",
    "plt.ylabel(r'Average MSE')\n",
    "plt.title('Scan the hyperparameter k to find the optimal one')\n",
    "plt.show()"
   ]
  },
  {
   "cell_type": "markdown",
   "metadata": {},
   "source": [
    "We use 5-fold cross-validation to obtain the optimal $k^*$. As we can see from above, generally the average MSE decreases when $k$ increase and becomes stable after $k>6$. The $k^*$ with minimum MSE has value 9."
   ]
  },
  {
   "cell_type": "markdown",
   "metadata": {
    "id": "mnIY5g7OK7fs"
   },
   "source": [
    "1.4.2"
   ]
  },
  {
   "cell_type": "markdown",
   "metadata": {},
   "source": [
    "Fix the optimal k and retrain the model on the entire dataset `airfoil_noise_samples.csv`."
   ]
  },
  {
   "cell_type": "code",
   "execution_count": 31,
   "metadata": {
    "id": "SvW0h75VJMHn"
   },
   "outputs": [
    {
     "name": "stdout",
     "output_type": "stream",
     "text": [
      "Mean Squared Error of Test Airfoil Data Set by kNN with optimal k: 2.9835235358838146\n",
      "R-squared of Test Airfoil Data Set by kNN with optimal k: 0.8621552654415879\n"
     ]
    }
   ],
   "source": [
    "# model parameters with optimal k\n",
    "y_airfoil_kNN = reg_predict(x_train_airfoil, y_train_airfoil, x_test_airfoil, best_k_airfoil_kNN)\n",
    "\n",
    "# Mean Squared Error (MSE) for test data set\n",
    "mse_test_kNN_airfoil = np.mean((y_test_airfoil - y_airfoil_kNN) ** 2)\n",
    "print(\"Mean Squared Error of Test Airfoil Data Set by kNN with optimal k:\", mse_test_kNN_airfoil)\n",
    "# R Square for test data set\n",
    "r2_test_kNN_airfoil = 1 - (np.sum((y_test_airfoil - y_airfoil_kNN) ** 2) / np.sum((y_test_airfoil - np.mean(y_test_airfoil)) ** 2))\n",
    "print(\"R-squared of Test Airfoil Data Set by kNN with optimal k:\", r2_test_kNN_airfoil)"
   ]
  },
  {
   "cell_type": "markdown",
   "metadata": {},
   "source": [
    "|Model|MSE on Test Data|R-Square on Test Data|\n",
    "|:------:|:------:|:------:|\n",
    "|Maximum Likelihood|1.98439|0.908317|\n",
    "|Lasso Regression|1.98433|0.908320|\n",
    "|Elastic Net|1.98450|0.908312|\n",
    "|kNN Regression|2.98352|0.862155|"
   ]
  },
  {
   "cell_type": "markdown",
   "metadata": {},
   "source": [
    "For test data set, we have $\\text{MSE}_{\\text{Lasso}}<\\text{MSE}_{\\text{ML}}<\\text{MSE}_{\\text{EN}}<\\text{MSE}_{\\text{kNN}}$ and $\\text{R}^2_{\\text{ML}}>\\text{R}^2_{\\text{EN}}>\\text{R}^2_{\\text{Lasso}}>\\text{R}^2_{\\text{kNN}}$.\n",
    "\n",
    "The linear regression models (Maximum Likelihood, Lasso and Elastic Nets) performe better than the kNN model in terms of MSE and $\\text{R}^2$. So the relationship between the predictors and the outcome may be linear. A linear model may be a better fit for the data.\n",
    "\n",
    "The regularised linear regression models (Lasso and Elastic Nets) have similar performance to maximum likelihood regression. So there may not be a lot of correlated predictor variables or overfitting in the data. Regularised linear model perform better when facing multicollinearity and overfitting problem."
   ]
  },
  {
   "cell_type": "markdown",
   "metadata": {
    "id": "t3tn2TtkJOKM"
   },
   "source": [
    "## Task 2: Classification  (50 marks)\n",
    "\n"
   ]
  },
  {
   "cell_type": "markdown",
   "metadata": {
    "id": "H3M4W43cMTZj"
   },
   "source": [
    "#### 2.1 Random forest (20 marks)\n",
    "2.1.1"
   ]
  },
  {
   "cell_type": "markdown",
   "metadata": {},
   "source": [
    "First process the data. `x_train_diabetes_org` and `x_test_diabetes_org` are original data of predictors. In random forest classifier, the magnitude of variables will not affect the result, so there is no need to standardise the data."
   ]
  },
  {
   "cell_type": "code",
   "execution_count": 32,
   "metadata": {
    "scrolled": true
   },
   "outputs": [],
   "source": [
    "# load data as pandas data frames\n",
    "diabetes_train = pd.read_csv('diabetes_samples.csv', decimal=\",\")\n",
    "diabetes_test = pd.read_csv('diabetes_test.csv', decimal=\",\")"
   ]
  },
  {
   "cell_type": "code",
   "execution_count": 33,
   "metadata": {},
   "outputs": [],
   "source": [
    "# split to predictors and label\n",
    "x_train_diabetes_org = diabetes_train[diabetes_train.columns[1:-1]]\n",
    "x_test_diabetes_org = diabetes_test[diabetes_test.columns[1:-1]]\n",
    "\n",
    "y_train_diabetes = diabetes_train[diabetes_train.columns[-1]]\n",
    "y_test_diabetes = diabetes_test[diabetes_test.columns[-1]]"
   ]
  },
  {
   "cell_type": "markdown",
   "metadata": {},
   "source": [
    "Train a random forest classifier on the dataset `diabetes_samples.csv` employing cross-entropy as information criterion."
   ]
  },
  {
   "cell_type": "code",
   "execution_count": 34,
   "metadata": {},
   "outputs": [],
   "source": [
    "def cross_entropy(y, sample_weights):\n",
    "    \"\"\" \n",
    "    Calculate the Cross-entropy for labels.\n",
    "    Arguments:\n",
    "        y: vector of observations\n",
    "        sample_weights: weights for each samples, the same shape as y\n",
    "    Returns:\n",
    "        the Cross-entropy for y\n",
    "    \"\"\"\n",
    "\n",
    "    # count different categories in y and compute the weight\n",
    "    label_weights = {yi: 0 for yi in set(y)} # initialize label weight\n",
    "    for yi, wi in zip(y, sample_weights):\n",
    "        label_weights[yi] += wi\n",
    "\n",
    "    total_weight = sum(label_weights.values()) # total weight of different y\n",
    "    cross_entropy = 0 # initialize Cross-entropy\n",
    "    for label, weight in label_weights.items():\n",
    "        cross_entropy -= (weight / total_weight) * (np.log(weight / total_weight)) # compute Cross-entropy\n",
    "\n",
    "    return cross_entropy"
   ]
  },
  {
   "cell_type": "code",
   "execution_count": 35,
   "metadata": {
    "id": "PVRERNazJQ0t"
   },
   "outputs": [],
   "source": [
    "def split_samples(X, y, sample_weights, column, value, categorical):\n",
    "    \"\"\"\n",
    "    Return the split of data based on one column and a threshold value.\n",
    "    Arguments:\n",
    "        X: matrix of predictors\n",
    "        y: vector of observations\n",
    "        sample_weights: weights for each samples, the same shape as y\n",
    "        column: the column of the feature for splitting\n",
    "        value: splitting threshold value\n",
    "        categorical: boolean variable indicates whether column is a categorical variable or numerical\n",
    "    Returns:\n",
    "        tuples of subsets of X, y and sample weights splitted based on column-th value\n",
    "    \"\"\" \n",
    "    \n",
    "    # if the variable is categorical then split data whose column-th feature equals value\n",
    "    if categorical:\n",
    "        left_mask =(X[:, column] == value)\n",
    "    # if the variable is numerical then split data whose column-th feature less than value\n",
    "    else:\n",
    "        left_mask = (X[:, column] < value)\n",
    "        \n",
    "    # tuple of subsets splitted based on column-th value\n",
    "    X_left, X_right = X[left_mask, :], X[~left_mask, :]\n",
    "    y_left, y_right = y[left_mask], y[~left_mask]\n",
    "    w_left, w_right  = sample_weights[left_mask], sample_weights[~left_mask]\n",
    "\n",
    "    return (X_left, X_right), (y_left, y_right), (w_left, w_right)"
   ]
  },
  {
   "cell_type": "code",
   "execution_count": 36,
   "metadata": {},
   "outputs": [],
   "source": [
    "def cross_entropy_split_value(X, y, sample_weights, column, categorical):\n",
    "    \"\"\"\n",
    "    Calculate the Cross entropy based on `column` with the split that minimizes the Cross entropy.\n",
    "    Arguments:\n",
    "        X: matrix of predictors\n",
    "        y: vector of observations\n",
    "        sample_weights: weights for each samples, the same shape as y\n",
    "        column: the column of the feature for calculating. 0 <= column < D\n",
    "        categorical: boolean variable indicates whether column is a categorical variable or numerical\n",
    "    Returns:\n",
    "        the resulted Cross entropy and the corresponding value used in splitting\n",
    "    \"\"\"\n",
    "  \n",
    "    unique_vals = np.unique(X[:, column])\n",
    "\n",
    "    assert len(unique_vals) > 1, f\"There must be more than one distinct feature value. Given: {unique_vals}.\"\n",
    "\n",
    "    cross_entropy_val, threshold = np.inf, None\n",
    "  \n",
    "    # split the values of i-th feature and calculate the cost \n",
    "    for value in unique_vals:\n",
    "        (X_l, X_r), (y_l, y_r), (w_l, w_r) = split_samples(X, y, sample_weights, column, value, categorical) ## split on every possible value\n",
    "\n",
    "        # if one of the two sides is empty, skip this split.\n",
    "        if len(y_l) == 0 or len(y_r) == 0:\n",
    "            continue\n",
    "    \n",
    "        p_left = sum(w_l)/(sum(w_l) + sum(w_r)) # sample weight\n",
    "        p_right = 1 - p_left\n",
    "        new_cross_entropy = p_left * cross_entropy(y_l, w_l) + p_right * cross_entropy(y_r, w_r) ## new Cross entropy\n",
    "        if new_cross_entropy < cross_entropy_val:\n",
    "            cross_entropy_val, threshold = new_cross_entropy, value\n",
    "    \n",
    "    return cross_entropy_val, threshold"
   ]
  },
  {
   "cell_type": "code",
   "execution_count": 37,
   "metadata": {},
   "outputs": [],
   "source": [
    "def cross_entropy_split_rf(n_features, X, y, sample_weights, columns_dict):\n",
    "    \"\"\"\n",
    "    Choose the best feature to split according to criterion.\n",
    "    Arguments:\n",
    "        n_features: number of sampled features.\n",
    "        X: matrix of predictors\n",
    "        y: vector of observations\n",
    "        sample_weights: weights for each samples, the same shape as y\n",
    "        columns_dict: a dictionary mapping column indices to whether the column is categorical or numerical variable\n",
    "    Returns:\n",
    "        the minimized Cross-entropy, the best feature index and value used in splitting\n",
    "    \"\"\"\n",
    "    columns = np.random.choice(list(columns_dict.keys()), n_features, replace=False)\n",
    "    columns_dict = {c: columns_dict[c] for c in columns}\n",
    "\n",
    "    min_cross_entropy, split_column, split_val = np.inf, 0, 0\n",
    "    for column, categorical in columns_dict.items():\n",
    "        # skip column if samples are not seperable by that column.\n",
    "        if len(np.unique(X[:, column])) < 2:\n",
    "            continue\n",
    "\n",
    "        # search for the best splitting value for the given column.\n",
    "        cross_entropy, val = cross_entropy_split_value(X, y, sample_weights, column, categorical)\n",
    "        if cross_entropy < min_cross_entropy:\n",
    "            min_cross_entropy, split_column, split_val = cross_entropy, column, val\n",
    "\n",
    "    return min_cross_entropy, split_column, split_val"
   ]
  },
  {
   "cell_type": "code",
   "execution_count": 38,
   "metadata": {},
   "outputs": [],
   "source": [
    "def majority_vote(y, sample_weights):\n",
    "    \"\"\"\n",
    "    Return the value which appears the most in y.\n",
    "    Arguments:\n",
    "        y: vector of observations\n",
    "        sample_weights: weights for each samples, the same shape as y\n",
    "    Returns:\n",
    "        the majority label\n",
    "    \"\"\"\n",
    "    # initialize all possible values of observations\n",
    "    majority_label = {yi: 0 for yi in set(y)}\n",
    "\n",
    "    for yi, wi in zip(y, sample_weights):\n",
    "        majority_label[yi] += wi # the value of y with largest sum of sample weights is the majority\n",
    "        \n",
    "    return max(majority_label, key=majority_label.get)"
   ]
  },
  {
   "cell_type": "code",
   "execution_count": 39,
   "metadata": {},
   "outputs": [],
   "source": [
    "def build_tree_rf(n_features, X, y, sample_weights, columns_dict, feature_names, depth,  max_depth = 10, min_samples_leaf = 2):\n",
    "    \"\"\"Build the decision tree according to the data.\n",
    "    Arguments:\n",
    "        X: (np.array) training features, of shape (N, D)\n",
    "        y: (np.array) vector of training labels, of shape (N,)\n",
    "        sample_weights: weights for each samples, of shape (N,)\n",
    "        columns_dict: a dictionary mapping column indices to whether the column is categorical or numerical variable\n",
    "        feature_names (list): record the name of features in X in the original dataset\n",
    "        depth (int): current depth for this node\n",
    "    Returns:\n",
    "        (dict): a dict denoting the decision tree (binary-tree). Each node has seven attributes:\n",
    "          1. 'feature_name': The column name of the split\n",
    "          2. 'feature_index': The column index of the split\n",
    "          3. 'value': The value used for the split\n",
    "          4. 'categorical': indicator for categorical/numerical variables\n",
    "          5. 'majority_label': For leaf nodes, this stores the dominant label. Otherwise, it is None\n",
    "          6. 'left': The left sub-tree with the same structure.\n",
    "          7. 'right' The right sub-tree with the same structure\n",
    "    \"\"\"\n",
    "    # include a clause for the cases where (i) all lables are the same, (ii) depth exceed (iii) X is too small\n",
    "    if len(np.unique(y)) == 1 or depth >= max_depth or len(X) <= min_samples_leaf: \n",
    "        return {'majority_label': majority_vote(y, sample_weights)}\n",
    "  \n",
    "    else:\n",
    "        cross_entropy, split_index, split_val = cross_entropy_split_rf(n_features, X, y, sample_weights, columns_dict)\n",
    "    \n",
    "    # If GI is infinity, it means that samples are not seperable by the sampled features.\n",
    "        if cross_entropy == np.inf:\n",
    "            return {'majority_label': majority_vote(y, sample_weights)}\n",
    "        categorical = columns_dict[split_index]\n",
    "        (X_l, X_r), (y_l, y_r), (w_l, w_r) = split_samples(X, y, sample_weights, split_index, split_val, categorical)\n",
    "        return {\n",
    "            'feature_name': feature_names[split_index],\n",
    "            'feature_index': split_index,\n",
    "            'value': split_val,\n",
    "            'categorical': categorical,\n",
    "            'majority_label': None,\n",
    "            'left': build_tree_rf(n_features, X_l, y_l, w_l, columns_dict, feature_names, depth + 1, max_depth, min_samples_leaf),\n",
    "            'right': build_tree_rf(n_features, X_r, y_r, w_r, columns_dict, feature_names, depth + 1, max_depth, min_samples_leaf)\n",
    "        }"
   ]
  },
  {
   "cell_type": "code",
   "execution_count": 40,
   "metadata": {},
   "outputs": [],
   "source": [
    "def train_rf(B, n_features, X, y,  columns_dict, depth = 1, sample_weights = None):\n",
    "    \"\"\"\n",
    "    Build the decision tree according to the training data.\n",
    "    Arguments:\n",
    "        B: number of decision trees\n",
    "        X: (pd.Dataframe) training features, of shape (N, D). Each X[i] is a training sample\n",
    "        y: (pd.Series) vector of training labels, of shape (N,). y[i] is the label for X[i], and each y[i] is\n",
    "        an integer in the range 0 <= y[i] <= C. Here C = 1\n",
    "        columns_dict: a dictionary mapping column indices to whether the column is categorical or numerical variable.\n",
    "        sample_weights: weights for each samples, of shape (N,)\n",
    "    Returns:\n",
    "        the trained random forest tree\n",
    "    \"\"\"\n",
    "    if sample_weights is None:\n",
    "        # if the sample weights is not provided, we assume the samples have uniform weights\n",
    "        sample_weights = np.ones(X.shape[0]) / X.shape[0]\n",
    "    else:\n",
    "        sample_weights = np.array(sample_weights) / np.sum(sample_weights)\n",
    "\n",
    "    feature_names = X.columns.tolist()\n",
    "    X = X.to_numpy()\n",
    "    y = y.to_numpy()\n",
    "    N = X.shape[0]\n",
    "    training_indices = np.arange(N)\n",
    "    trees = []\n",
    "\n",
    "    for _ in range(B):\n",
    "        sample = np.random.choice(training_indices, N, replace=True)\n",
    "        X_sample = X[sample, :]\n",
    "        y_sample = y[sample]\n",
    "        w_sample = sample_weights[sample]\n",
    "        tree = build_tree_rf(n_features, X_sample, y_sample, w_sample, columns_dict, feature_names, depth = depth)\n",
    "        trees.append(tree)\n",
    "\n",
    "    return trees "
   ]
  },
  {
   "cell_type": "code",
   "execution_count": 41,
   "metadata": {},
   "outputs": [],
   "source": [
    "def classify(tree, x):\n",
    "    \"\"\"\n",
    "    Classify a single sample with the fitted decision tree.\n",
    "    Arguments:\n",
    "        x: ((pd.Dataframe) a single sample features, of shape (D,)\n",
    "    Returns:\n",
    "        (int): predicted testing sample label\n",
    "    \"\"\"\n",
    "    if tree['majority_label'] is not None: \n",
    "        return tree['majority_label']\n",
    "\n",
    "    elif tree['categorical']:\n",
    "        if x[tree['feature_index']] == tree['value']:\n",
    "            return classify(tree['left'], x)\n",
    "        else:\n",
    "            return classify(tree['right'], x)\n",
    "\n",
    "    else:\n",
    "        if x[tree['feature_index']] < tree['value']:\n",
    "            return classify(tree['left'], x)\n",
    "        else:\n",
    "            return classify(tree['right'], x)"
   ]
  },
  {
   "cell_type": "code",
   "execution_count": 42,
   "metadata": {},
   "outputs": [],
   "source": [
    "def predict_rf(rf, X):\n",
    "    \"\"\"\n",
    "    Predict classification results for X.\n",
    "    Arguments:\n",
    "        rf: A trained random forest through train_rf function\n",
    "        X: (pd.Dataframe) testing sample features, of shape (N, D)\n",
    "    Returns:\n",
    "        (np.array): predicted testing sample labels, of shape (N,)\n",
    "    \"\"\"\n",
    "\n",
    "    def aggregate(decisions):\n",
    "        count = defaultdict(int)\n",
    "        for decision in decisions:\n",
    "            count[decision] += 1\n",
    "        return max(count, key=count.get)\n",
    "\n",
    "    if len(X.shape) == 1:\n",
    "        return aggregate([classify(tree, X) for tree in rf])\n",
    "    else:\n",
    "        return np.array([aggregate([classify(tree, x) for tree in rf]) for x in X])  "
   ]
  },
  {
   "cell_type": "code",
   "execution_count": 43,
   "metadata": {},
   "outputs": [],
   "source": [
    "def rf_score(rf, X_test, y_test):\n",
    "    \n",
    "    y_pred = predict_rf(rf, X_test) \n",
    "    \n",
    "    # return the accuracy of random forest\n",
    "    return np.mean(y_pred == y_test)"
   ]
  },
  {
   "cell_type": "code",
   "execution_count": 44,
   "metadata": {},
   "outputs": [
    {
     "name": "stdout",
     "output_type": "stream",
     "text": [
      "Accuracy of Training Diabetes Data Set Using Random Forest: 1.0\n"
     ]
    }
   ],
   "source": [
    "from collections import defaultdict\n",
    "n_features = x_train_diabetes_org.shape[1] // 3\n",
    "B = 20\n",
    "# in this dataset, all features are numerical\n",
    "columns_dict = {index: False for index in range(x_train_diabetes_org.shape[1])}\n",
    "\n",
    "# train the random forest classifier\n",
    "rf = train_rf(B, n_features, x_train_diabetes_org, y_train_diabetes, columns_dict)\n",
    "# calculate the accuracy of model\n",
    "acc_rf = rf_score(rf, x_train_diabetes_org.to_numpy(), y_train_diabetes.to_numpy())\n",
    "print(\"Accuracy of Training Diabetes Data Set Using Random Forest:\", acc_rf)"
   ]
  },
  {
   "cell_type": "markdown",
   "metadata": {},
   "source": [
    "Now performe a grid search with 4-fold cross-validation to optimise number of decision trees `B` and depth of decision trees `depth` using accuracy as a measurement of performance."
   ]
  },
  {
   "cell_type": "code",
   "execution_count": 45,
   "metadata": {},
   "outputs": [],
   "source": [
    "def cross_val_split(N, num_folds):\n",
    "    \n",
    "    # divide indexes into num_folds folds\n",
    "    fold_size = N // num_folds\n",
    "    index_perm = np.random.permutation(np.arange(N))\n",
    "    folds = []\n",
    "    for k in range(num_folds):\n",
    "        folds.append(index_perm[k*fold_size:(k+1)*fold_size])\n",
    "    \n",
    "    # return index of all folds\n",
    "    return folds\n",
    "\n",
    "def rf_cross_validation_score(X_train, y_train, folds, B, depth, columns_dict, sample_weights = None):\n",
    "    \"\"\"\n",
    "    Calculate average scores of random forest by k-fold cross-validation.\n",
    "    Arguments:\n",
    "        X_train: N x D matrix of predictors\n",
    "        y_train: N x 1 vector of observations\n",
    "        folds: indexes of k-fold\n",
    "        B: number of decision trees\n",
    "        depth: depth of decision trees\n",
    "        columns_dict: a dictionary mapping column indices to whether the column is categorical or numerical variable\n",
    "        sample_weights: weights for each samples, the same shape as y\n",
    "    Returns: \n",
    "        average scores of k-fold cross validation of random forest\n",
    "    \"\"\"\n",
    "    \n",
    "    scores = []\n",
    "    for i in range(len(folds)):\n",
    "        # indexes on train and test data sets of each folds\n",
    "        val_indexes = folds[i]\n",
    "        train_indexes = list(set(range(y_train.shape[0])) - set(val_indexes))\n",
    "    \n",
    "        # data used to train the random forest\n",
    "        X_train_i = X_train.iloc[train_indexes]\n",
    "        y_train_i = y_train[train_indexes]\n",
    "\n",
    "        # data used to validate the random forest\n",
    "        X_val_i = X_train.iloc[val_indexes]\n",
    "        y_val_i = y_train[val_indexes]\n",
    "        \n",
    "        # train the random forest method\n",
    "        rf = train_rf(B, n_features, X_train_i, y_train_i, columns_dict, depth, sample_weights = sample_weights)\n",
    "\n",
    "        # add score to scores\n",
    "        score_i = rf_score(rf, X_val_i.to_numpy(), y_val_i.to_numpy())\n",
    "        scores.append(score_i)\n",
    "\n",
    "    # return the average score\n",
    "    return sum(scores) / len(scores)\n",
    "\n",
    "def rf_choose_best_para(X_train, y_train, folds, B_range, depth_range, columns_dict, sample_weights = None):\n",
    "    \"\"\"\n",
    "    Choose the best B and depth based on average accuracy of random forest model.\n",
    "    Arguments:\n",
    "        X_train: N x D matrix of predictors\n",
    "        y_train: N x 1 vector of observations\n",
    "        folds: indexes of k-fold\n",
    "        B_range: range of number of decision trees\n",
    "        depth_range: range of depth of decision trees\n",
    "        columns_dict: a dictionary mapping column indices to whether the column is categorical or numerical variable\n",
    "        sample_weights: weights for each samples, the same shape as y\n",
    "    Returns: \n",
    "        best parameters B and depth\n",
    "    \"\"\"\n",
    "    \n",
    "    # initialise rf_scores\n",
    "    rf_scores = np.zeros((len(B_range),len(depth_range)))\n",
    "  \n",
    "    # update average accuracy for each different combination of B and depth\n",
    "    for i, b in enumerate(B_range):\n",
    "        for j, d in enumerate(depth_range):\n",
    "            \n",
    "            # average accuracy by k-fold cross-validation\n",
    "            rf_scores[i, j] = rf_cross_validation_score(X_train, y_train, folds, b, d, columns_dict, sample_weights = sample_weights)\n",
    "            print(f'Accuracy when hyperparameters={b,d}: {rf_scores[i,j]:.5f}')\n",
    "\n",
    "    # indexes of B and depth with maximum average accuracy\n",
    "    m, n = np.where(rf_scores == rf_scores.max() )\n",
    "    \n",
    "    return B_range[m], depth_range[n]"
   ]
  },
  {
   "cell_type": "code",
   "execution_count": 47,
   "metadata": {},
   "outputs": [
    {
     "name": "stdout",
     "output_type": "stream",
     "text": [
      "Accuracy when hyperparameters=(9, 1): 0.88603\n",
      "Accuracy when hyperparameters=(9, 2): 0.87132\n",
      "Accuracy when hyperparameters=(9, 3): 0.90074\n",
      "Accuracy when hyperparameters=(9, 4): 0.88235\n",
      "Accuracy when hyperparameters=(9, 5): 0.88971\n",
      "Accuracy when hyperparameters=(9, 6): 0.89338\n",
      "Accuracy when hyperparameters=(10, 1): 0.89706\n",
      "Accuracy when hyperparameters=(10, 2): 0.88603\n",
      "Accuracy when hyperparameters=(10, 3): 0.89338\n",
      "Accuracy when hyperparameters=(10, 4): 0.91176\n",
      "Accuracy when hyperparameters=(10, 5): 0.85662\n",
      "Accuracy when hyperparameters=(10, 6): 0.90441\n",
      "Accuracy when hyperparameters=(11, 1): 0.87868\n",
      "Accuracy when hyperparameters=(11, 2): 0.89338\n",
      "Accuracy when hyperparameters=(11, 3): 0.89706\n",
      "Accuracy when hyperparameters=(11, 4): 0.87500\n",
      "Accuracy when hyperparameters=(11, 5): 0.89706\n",
      "Accuracy when hyperparameters=(11, 6): 0.87868\n",
      "Accuracy when hyperparameters=(12, 1): 0.90441\n",
      "Accuracy when hyperparameters=(12, 2): 0.89338\n",
      "Accuracy when hyperparameters=(12, 3): 0.88971\n",
      "Accuracy when hyperparameters=(12, 4): 0.88603\n",
      "Accuracy when hyperparameters=(12, 5): 0.90074\n",
      "Accuracy when hyperparameters=(12, 6): 0.90441\n",
      "Accuracy when hyperparameters=(13, 1): 0.89706\n",
      "Accuracy when hyperparameters=(13, 2): 0.89338\n",
      "Accuracy when hyperparameters=(13, 3): 0.88603\n",
      "Accuracy when hyperparameters=(13, 4): 0.89706\n",
      "Accuracy when hyperparameters=(13, 5): 0.88603\n",
      "Accuracy when hyperparameters=(13, 6): 0.90074\n",
      "Accuracy when hyperparameters=(14, 1): 0.90441\n",
      "Accuracy when hyperparameters=(14, 2): 0.89338\n",
      "Accuracy when hyperparameters=(14, 3): 0.90809\n",
      "Accuracy when hyperparameters=(14, 4): 0.90809\n",
      "Accuracy when hyperparameters=(14, 5): 0.87868\n",
      "Accuracy when hyperparameters=(14, 6): 0.86765\n",
      "Best B of random forest by 4-fold cross validation: [10]\n",
      "Best depth of random forest by 4-fold cross validation: [4]\n"
     ]
    }
   ],
   "source": [
    "B_range_diabetes = np.arange(9,15) # range of B\n",
    "depth_range_diabetes = np.arange(1,7) # range of depth\n",
    "folds_indexes_diabetes = cross_val_split(len(y_train_diabetes), 4) # index of 4-fold\n",
    "\n",
    "# find the optimal B and depth\n",
    "opt_B, opt_depth = rf_choose_best_para(x_train_diabetes_org, y_train_diabetes, folds_indexes_diabetes, \\\n",
    "                                       B_range_diabetes, depth_range_diabetes, columns_dict)\n",
    "\n",
    "print('Best B of random forest by 4-fold cross validation:', opt_B)\n",
    "print('Best depth of random forest by 4-fold cross validation:', opt_depth)"
   ]
  },
  {
   "cell_type": "markdown",
   "metadata": {
    "id": "PK7zBGxALJNc"
   },
   "source": [
    "2.1.2"
   ]
  },
  {
   "cell_type": "markdown",
   "metadata": {},
   "source": [
    "Retrain the optimal random forest classifier on the full dataset ` diabetes_samples.csv`."
   ]
  },
  {
   "cell_type": "code",
   "execution_count": 48,
   "metadata": {},
   "outputs": [],
   "source": [
    "# train random forest with optimal parameters\n",
    "rf_opt = train_rf(opt_B[0], n_features, x_train_diabetes_org, y_train_diabetes, columns_dict, depth = opt_depth[0])"
   ]
  },
  {
   "cell_type": "markdown",
   "metadata": {},
   "source": [
    "Generate confusion matrix of training data set and test data set."
   ]
  },
  {
   "cell_type": "code",
   "execution_count": 49,
   "metadata": {
    "id": "rZTq3yBMJarN"
   },
   "outputs": [
    {
     "name": "stdout",
     "output_type": "stream",
     "text": [
      "Predicted    Diabetes  No diabetes\n",
      "Actual                            \n",
      "Diabetes           42            2\n",
      "No diabetes         2          227\n"
     ]
    }
   ],
   "source": [
    "# predicted observation of optimal model\n",
    "y_pred_opt_train = predict_rf(rf_opt, x_train_diabetes_org.to_numpy())\n",
    "y_pred_opt_test = predict_rf(rf_opt, x_test_diabetes_org.to_numpy())\n",
    "\n",
    "# set a dataframe of actual observation and predicted observation of training data set\n",
    "y_opt_train_df = pd.DataFrame(\n",
    "    {'y_actual':    y_train_diabetes,\n",
    "     'y_predicted': y_pred_opt_train\n",
    "    })\n",
    "\n",
    "# confusion matrix of training data set\n",
    "confusion_matrix_train = pd.crosstab(y_opt_train_df['y_actual'], y_opt_train_df['y_predicted'], rownames=['Actual'], colnames=['Predicted'])\n",
    "print(confusion_matrix_train)"
   ]
  },
  {
   "cell_type": "code",
   "execution_count": 50,
   "metadata": {},
   "outputs": [
    {
     "name": "stdout",
     "output_type": "stream",
     "text": [
      "Predicted    Diabetes  No diabetes\n",
      "Actual                            \n",
      "Diabetes           10            6\n",
      "No diabetes         3           98\n"
     ]
    }
   ],
   "source": [
    "# set a dataframe of actual observation and predicted observation of test data set\n",
    "y_opt_test_df = pd.DataFrame(\n",
    "    {'y_actual':    y_test_diabetes,\n",
    "     'y_predicted': y_pred_opt_test\n",
    "    })\n",
    "\n",
    "# confusion matrix of test data set\n",
    "confusion_matrix_test = pd.crosstab(y_opt_test_df['y_actual'], y_opt_test_df['y_predicted'], rownames=['Actual'], colnames=['Predicted'])\n",
    "print(confusion_matrix_test)"
   ]
  },
  {
   "cell_type": "markdown",
   "metadata": {},
   "source": [
    "Obtain true positive (tp), false negative (fn), false positive (fp) and true negative (tn) from the confusion matrix."
   ]
  },
  {
   "cell_type": "code",
   "execution_count": 51,
   "metadata": {},
   "outputs": [],
   "source": [
    "# TP, FN, FP and TN for training data set\n",
    "tp_train = confusion_matrix_train.loc['Diabetes'].loc['Diabetes'] # true positive\n",
    "fn_train = confusion_matrix_train.loc['Diabetes'].loc['No diabetes'] # false negative\n",
    "fp_train = confusion_matrix_train.loc['No diabetes'].loc['Diabetes'] # false positive\n",
    "tn_train = confusion_matrix_train.loc['No diabetes'].loc['No diabetes'] # true negative"
   ]
  },
  {
   "cell_type": "code",
   "execution_count": 52,
   "metadata": {},
   "outputs": [],
   "source": [
    "# TP, FN, FP and TN for test data set\n",
    "tp_test = confusion_matrix_test.loc['Diabetes'].loc['Diabetes'] # true positive\n",
    "fn_test = confusion_matrix_test.loc['Diabetes'].loc['No diabetes'] # false negative\n",
    "fp_test = confusion_matrix_test.loc['No diabetes'].loc['Diabetes'] # false positive\n",
    "tn_test = confusion_matrix_test.loc['No diabetes'].loc['No diabetes'] # true negative"
   ]
  },
  {
   "cell_type": "markdown",
   "metadata": {},
   "source": [
    "Compute different measures from the confusion matrix and compare the performance of training and test data set."
   ]
  },
  {
   "cell_type": "code",
   "execution_count": 53,
   "metadata": {},
   "outputs": [],
   "source": [
    "# functions of measures computed from the confusion matrix\n",
    "\n",
    "# accuracy\n",
    "def accuracy(tp, tn, fp, fn):\n",
    "    return (tp + tn) / (tp + tn + fp + fn)\n",
    "\n",
    "# precision\n",
    "def precision(tp, fp):\n",
    "    return tp / (tp + fp)\n",
    "\n",
    "# recall\n",
    "def recall(tp, fn):\n",
    "    return tp / (tp + fn)\n",
    "\n",
    "# F score\n",
    "def F_score(tp, fp, fn):\n",
    "    p = precision(tp, fp)\n",
    "    r = recall(tp, fn)\n",
    "    return 2 * (p * r) / (p + r)"
   ]
  },
  {
   "cell_type": "code",
   "execution_count": 54,
   "metadata": {},
   "outputs": [
    {
     "name": "stdout",
     "output_type": "stream",
     "text": [
      "Accuracy of random forest classifier on training data set: 0.9853479853479854\n",
      "Precision of random forest classifier on training data set: 0.9545454545454546\n",
      "Recall of random forest classifier on training data set: 0.9545454545454546\n",
      "F score of random forest classifier on training data set: 0.9545454545454546\n"
     ]
    }
   ],
   "source": [
    "# measures of model on training data set\n",
    "accuracy_train = accuracy(tp_train, tn_train, fp_train, fn_train)\n",
    "precision_train = precision(tp_train, fp_train)\n",
    "recall_train = recall(tp_train, fn_train)\n",
    "F_score_train = F_score(tp_train, fp_train, fn_train)\n",
    "\n",
    "print('Accuracy of random forest classifier on training data set:', accuracy_train)\n",
    "print('Precision of random forest classifier on training data set:', precision_train)\n",
    "print('Recall of random forest classifier on training data set:', recall_train)\n",
    "print('F score of random forest classifier on training data set:', F_score_train)"
   ]
  },
  {
   "cell_type": "code",
   "execution_count": 55,
   "metadata": {},
   "outputs": [
    {
     "name": "stdout",
     "output_type": "stream",
     "text": [
      "Accuracy of random forest classifier on test data set: 0.9230769230769231\n",
      "Precision of random forest classifier on test data set: 0.7692307692307693\n",
      "Recall of random forest classifier on test data set: 0.625\n",
      "F score of random forest classifier on test data set: 0.6896551724137931\n"
     ]
    }
   ],
   "source": [
    "# measures of model on test data set\n",
    "accuracy_test = accuracy(tp_test, tn_test, fp_test, fn_test)\n",
    "precision_test = precision(tp_test, fp_test)\n",
    "recall_test = recall(tp_test, fn_test)\n",
    "F_score_test = F_score(tp_test, fp_test, fn_test)\n",
    "\n",
    "print('Accuracy of random forest classifier on test data set:', accuracy_test)\n",
    "print('Precision of random forest classifier on test data set:', precision_test)\n",
    "print('Recall of random forest classifier on test data set:', recall_test)\n",
    "print('F score of random forest classifier on test data set:', F_score_test)"
   ]
  },
  {
   "cell_type": "markdown",
   "metadata": {},
   "source": [
    "|Data Set|Accuracy|Precision|Recall|F-score|\n",
    "|:------:|:------:|:------:|:------:|:------:|\n",
    "|Training|0.9853|0.9545|0.9545|0.9545|\n",
    "|Test|0.9231|0.7692|0.625|0.6897|"
   ]
  },
  {
   "cell_type": "markdown",
   "metadata": {},
   "source": [
    "Generally the model performs better in training data set than in test data set. There may be overfitting problem.\n",
    "\n",
    "The accuracy of the random forest on the training data set is higher than on the test data set. So the model does not perform well when facing unseen data.\n",
    "\n",
    "The precision of the model on the training data set is higher than on the test data set. So the random forest model is better at avoiding false positives on the training data set than on the test data set.\n",
    "\n",
    "The recall of the random forest on the training data set is higher than on the test data set which indicates that the model is better at identifying true positives on the training data set than on the test data set.\n",
    "\n",
    "The F-score of the model on the training data set is higher than on the test data set. So the model is better at balancing precision and recall on the training data set than on the test data set."
   ]
  },
  {
   "cell_type": "markdown",
   "metadata": {
    "id": "gaYIvbY1LKVl"
   },
   "source": [
    "2.1.3"
   ]
  },
  {
   "cell_type": "markdown",
   "metadata": {},
   "source": [
    "Demonstrate that the dataset `diabetes_samples.csv` is unbalanced."
   ]
  },
  {
   "cell_type": "code",
   "execution_count": 56,
   "metadata": {
    "id": "CjkGFGmgJau1"
   },
   "outputs": [
    {
     "name": "stdout",
     "output_type": "stream",
     "text": [
      "Frequency of diabetes patients: 44\n",
      "Frequency of no diabetes patients: 229\n"
     ]
    }
   ],
   "source": [
    "# Count the frequencies of diagnosis outcomes\n",
    "num_diabetes = np.sum(y_train_diabetes == 'Diabetes')\n",
    "num_no_diabetes = np.sum(y_train_diabetes == 'No diabetes')\n",
    "\n",
    "print('Frequency of diabetes patients:', num_diabetes)\n",
    "print('Frequency of no diabetes patients:', num_no_diabetes)"
   ]
  },
  {
   "cell_type": "markdown",
   "metadata": {},
   "source": [
    "As we can see from the result above, the frequency of diabetes is much less than the frequency of no diabetes. The data set is unbalanced. So we need to introduce appropriate weights to balance the diagnosis outcomes.\n",
    "\n",
    "Use $f_d$ and $f_n$ represent the proportions of diabetes and no diabetes and $w_d$ and $w_n$ represent their weights. We want $w_df_d = w_nf_n$, so we can let $w_d=\\frac{1}{f_d}$ and $w_n=\\frac{1}{f_n}$."
   ]
  },
  {
   "cell_type": "code",
   "execution_count": 57,
   "metadata": {},
   "outputs": [],
   "source": [
    "# Compute the proportion of the diagnosis outcomes\n",
    "prop_diabetes = num_diabetes / len(y_train_diabetes)\n",
    "prop_no_diabetes = num_no_diabetes / len(y_train_diabetes)\n",
    "\n",
    "# weights to balance the outcomes\n",
    "weights_balance = np.where(y_train_diabetes == 'Diabetes', 1 / prop_diabetes, 1 / prop_no_diabetes)"
   ]
  },
  {
   "cell_type": "markdown",
   "metadata": {},
   "source": [
    "Now train the random forest using the weights in the bootstrap step and use 4-fold cross-validation to find the optimal parameters."
   ]
  },
  {
   "cell_type": "code",
   "execution_count": 64,
   "metadata": {},
   "outputs": [
    {
     "name": "stdout",
     "output_type": "stream",
     "text": [
      "Accuracy when hyperparameters=(9, 1): 0.89706\n",
      "Accuracy when hyperparameters=(9, 2): 0.89338\n",
      "Accuracy when hyperparameters=(9, 3): 0.89338\n",
      "Accuracy when hyperparameters=(9, 4): 0.87868\n",
      "Accuracy when hyperparameters=(9, 5): 0.88971\n",
      "Accuracy when hyperparameters=(9, 6): 0.88235\n",
      "Accuracy when hyperparameters=(10, 1): 0.91544\n",
      "Accuracy when hyperparameters=(10, 2): 0.90441\n",
      "Accuracy when hyperparameters=(10, 3): 0.88971\n",
      "Accuracy when hyperparameters=(10, 4): 0.91176\n",
      "Accuracy when hyperparameters=(10, 5): 0.90809\n",
      "Accuracy when hyperparameters=(10, 6): 0.90441\n",
      "Accuracy when hyperparameters=(11, 1): 0.90441\n",
      "Accuracy when hyperparameters=(11, 2): 0.90441\n",
      "Accuracy when hyperparameters=(11, 3): 0.92279\n",
      "Accuracy when hyperparameters=(11, 4): 0.89706\n",
      "Accuracy when hyperparameters=(11, 5): 0.89338\n",
      "Accuracy when hyperparameters=(11, 6): 0.91176\n",
      "Accuracy when hyperparameters=(12, 1): 0.90441\n",
      "Accuracy when hyperparameters=(12, 2): 0.89706\n",
      "Accuracy when hyperparameters=(12, 3): 0.89706\n",
      "Accuracy when hyperparameters=(12, 4): 0.91176\n",
      "Accuracy when hyperparameters=(12, 5): 0.88235\n",
      "Accuracy when hyperparameters=(12, 6): 0.89706\n",
      "Accuracy when hyperparameters=(13, 1): 0.90074\n",
      "Accuracy when hyperparameters=(13, 2): 0.87500\n",
      "Accuracy when hyperparameters=(13, 3): 0.90809\n",
      "Accuracy when hyperparameters=(13, 4): 0.90809\n",
      "Accuracy when hyperparameters=(13, 5): 0.89706\n",
      "Accuracy when hyperparameters=(13, 6): 0.85662\n",
      "Accuracy when hyperparameters=(14, 1): 0.91176\n",
      "Accuracy when hyperparameters=(14, 2): 0.89338\n",
      "Accuracy when hyperparameters=(14, 3): 0.89338\n",
      "Accuracy when hyperparameters=(14, 4): 0.90074\n",
      "Accuracy when hyperparameters=(14, 5): 0.90441\n",
      "Accuracy when hyperparameters=(14, 6): 0.89706\n",
      "Best B of balanced random forest by 4-fold cross validation: [11]\n",
      "Best depth of balanced random forest by 4-fold cross validation: [3]\n"
     ]
    }
   ],
   "source": [
    "B_range_diabetes = np.arange(9,15)\n",
    "depth_range_diabetes = np.arange(1,7)\n",
    "\n",
    "# find the best B and depth\n",
    "opt_B_balance, opt_depth_balance = rf_choose_best_para(x_train_diabetes_org, y_train_diabetes, folds_indexes_diabetes, B_range_diabetes, \\\n",
    "                                                       depth_range_diabetes, columns_dict, sample_weights = weights_balance)\n",
    "print('Best B of balanced random forest by 4-fold cross validation:', opt_B_balance)\n",
    "print('Best depth of balanced random forest by 4-fold cross validation:', opt_depth_balance)"
   ]
  },
  {
   "cell_type": "markdown",
   "metadata": {},
   "source": [
    "Generate confusion matrix of training data set and test data set of balanced random forest."
   ]
  },
  {
   "cell_type": "code",
   "execution_count": 65,
   "metadata": {},
   "outputs": [
    {
     "name": "stdout",
     "output_type": "stream",
     "text": [
      "Predicted    Diabetes  No diabetes\n",
      "Actual                            \n",
      "Diabetes           42            2\n",
      "No diabetes         0          229\n"
     ]
    }
   ],
   "source": [
    "# train balanced random forest with optimal parameters\n",
    "rf_opt_balance = train_rf(opt_B_balance[0], n_features, x_train_diabetes_org, y_train_diabetes, columns_dict, depth = opt_depth_balance[0])\n",
    "\n",
    "# predicted observation of optimal balanced model\n",
    "y_pred_opt_train_balance = predict_rf(rf_opt_balance, x_train_diabetes_org.to_numpy())\n",
    "y_pred_opt_test_balance = predict_rf(rf_opt_balance, x_test_diabetes_org.to_numpy())\n",
    "\n",
    "# set a dataframe of actual observation and predicted observation of training data set\n",
    "y_opt_train_df_balance = pd.DataFrame(\n",
    "    {'y_actual':    y_train_diabetes,\n",
    "     'y_predicted': y_pred_opt_train_balance\n",
    "    })\n",
    "\n",
    "# confusion matrix of training data set of balanced random forest\n",
    "confusion_matrix_train_balance = pd.crosstab(y_opt_train_df_balance['y_actual'], y_opt_train_df_balance['y_predicted'], \\\n",
    "                                             rownames=['Actual'], colnames=['Predicted'])\n",
    "print(confusion_matrix_train_balance)"
   ]
  },
  {
   "cell_type": "code",
   "execution_count": 66,
   "metadata": {},
   "outputs": [
    {
     "name": "stdout",
     "output_type": "stream",
     "text": [
      "Predicted    Diabetes  No diabetes\n",
      "Actual                            \n",
      "Diabetes            9            7\n",
      "No diabetes         2           99\n"
     ]
    }
   ],
   "source": [
    "# set a dataframe of actual observation and predicted observation of test data set\n",
    "y_opt_test_df_balance = pd.DataFrame(\n",
    "    {'y_actual':    y_test_diabetes,\n",
    "     'y_predicted': y_pred_opt_test_balance\n",
    "    })\n",
    "\n",
    "# confusion matrix of test data set of  balanced random forest\n",
    "confusion_matrix_test_balance = pd.crosstab(y_opt_test_df_balance['y_actual'], y_opt_test_df_balance['y_predicted'], \\\n",
    "                                            rownames=['Actual'], colnames=['Predicted'])\n",
    "print(confusion_matrix_test_balance)"
   ]
  },
  {
   "cell_type": "markdown",
   "metadata": {},
   "source": [
    "Obtain true positive (tp), false negative (fn), false positive (fp) and true negative (tn) from the confusion matrix of balanced random forest. Compute different measures from the confusion matrix."
   ]
  },
  {
   "cell_type": "code",
   "execution_count": 67,
   "metadata": {},
   "outputs": [],
   "source": [
    "# TP, FN, FP and TN for training data set of balanced random forest\n",
    "tp_train_balance = confusion_matrix_train_balance.loc['Diabetes'].loc['Diabetes'] # true positive of balanced random forest\n",
    "fn_train_balance = confusion_matrix_train_balance.loc['Diabetes'].loc['No diabetes'] # false negative of balanced random forest\n",
    "fp_train_balance = confusion_matrix_train_balance.loc['No diabetes'].loc['Diabetes'] # false positive of balanced random forest\n",
    "tn_train_balance = confusion_matrix_train_balance.loc['No diabetes'].loc['No diabetes'] # true negative of balanced random forest"
   ]
  },
  {
   "cell_type": "code",
   "execution_count": 68,
   "metadata": {},
   "outputs": [],
   "source": [
    "# TP, FN, FP and TN for test data set of balanced random forest\n",
    "tp_test_balance = confusion_matrix_test_balance.loc['Diabetes'].loc['Diabetes'] # true positive of balanced random forest\n",
    "fn_test_balance = confusion_matrix_test_balance.loc['Diabetes'].loc['No diabetes'] # false negative of balanced random forest\n",
    "fp_test_balance = confusion_matrix_test_balance.loc['No diabetes'].loc['Diabetes'] # false positive of balanced random forest\n",
    "tn_test_balance = confusion_matrix_test_balance.loc['No diabetes'].loc['No diabetes'] # true negative of balanced random forest"
   ]
  },
  {
   "cell_type": "code",
   "execution_count": 69,
   "metadata": {},
   "outputs": [
    {
     "name": "stdout",
     "output_type": "stream",
     "text": [
      "Accuracy of balanced random forest classifier on training data set: 0.9926739926739927\n",
      "Precision of balanced random forest classifier on training data set: 1.0\n",
      "Recall of balanced random forest classifier on training data set: 0.9545454545454546\n",
      "F score of balanced random forest classifier on training data set: 0.9767441860465117\n"
     ]
    }
   ],
   "source": [
    "# measures of model on training data set of balanced random forest\n",
    "accuracy_train_balance = accuracy(tp_train_balance, tn_train_balance, fp_train_balance, fn_train_balance)\n",
    "precision_train_balance = precision(tp_train_balance, fp_train_balance)\n",
    "recall_train_balance = recall(tp_train_balance, fn_train_balance)\n",
    "F_score_train_balance = F_score(tp_train_balance, fp_train_balance, fn_train_balance)\n",
    "\n",
    "print('Accuracy of balanced random forest classifier on training data set:', accuracy_train_balance)\n",
    "print('Precision of balanced random forest classifier on training data set:', precision_train_balance)\n",
    "print('Recall of balanced random forest classifier on training data set:', recall_train_balance)\n",
    "print('F score of balanced random forest classifier on training data set:', F_score_train_balance)"
   ]
  },
  {
   "cell_type": "code",
   "execution_count": 70,
   "metadata": {},
   "outputs": [
    {
     "name": "stdout",
     "output_type": "stream",
     "text": [
      "Accuracy of balanced random forest classifier on test data set: 0.9230769230769231\n",
      "Precision of balanced random forest classifier on test data set: 0.8181818181818182\n",
      "Recall of balanced random forest classifier on test data set: 0.5625\n",
      "F score of balanced random forest classifier on test data set: 0.6666666666666666\n"
     ]
    }
   ],
   "source": [
    "# measures of model on test data set of balanced random forest\n",
    "accuracy_test_balance = accuracy(tp_test_balance, tn_test_balance, fp_test_balance, fn_test_balance)\n",
    "precision_test_balance = precision(tp_test_balance, fp_test_balance)\n",
    "recall_test_balance = recall(tp_test_balance, fn_test_balance)\n",
    "F_score_test_balance = F_score(tp_test_balance, fp_test_balance, fn_test_balance)\n",
    "\n",
    "print('Accuracy of balanced random forest classifier on test data set:', accuracy_test_balance)\n",
    "print('Precision of balanced random forest classifier on test data set:', precision_test_balance)\n",
    "print('Recall of balanced random forest classifier on test data set:', recall_test_balance)\n",
    "print('F score of balanced random forest classifier on test data set:', F_score_test_balance)"
   ]
  },
  {
   "cell_type": "markdown",
   "metadata": {},
   "source": [
    "|Data Set|Unbalanced Accuracy|Unbalanced Precision|Unbalanced Recall|Unbalanced F-score|Balanced Accuracy|Balanced Precision|Balanced Recall|Balanced F-score|\n",
    "|:------:|:------:|:------:|:------:|:------:|:------:|:------:|:------:|:------:|\n",
    "|Training|0.9853|0.9545|0.9545|0.9545|0.9927|1.0|0.9545|0.9767|\n",
    "|Test|0.9231|0.7692|0.625|0.6897|0.9231|0.8182|0.5625|0.6667|"
   ]
  },
  {
   "cell_type": "markdown",
   "metadata": {},
   "source": [
    "For the balanced random forest, the accuracy of the model on the training data set is higher than the accuracy on the test data set which is what we expected.\n",
    "\n",
    "The precision of balanced model on the training data set is 1.0, which means that there is no false positive predictions on the training data. The precision on the test data set is still high, but lower than on the training data. So the model is good at avoiding false positives on both datasets, but slightly better on the training data.\n",
    "\n",
    "The recall of the model on the training dataset is higher than the recall on the test dataset so the model is better at identifying true positives on the training data.\n",
    "\n",
    "The F-score of the model on the training data set is higher than the F-score on the test data set so the model is better at balancing precision and recall on the training data than on the test data.\n",
    "\n",
    "Generally the model fits better on training data set than on test data set. The balanced model outperformed the unbalanced one in accuracy and precision."
   ]
  },
  {
   "cell_type": "markdown",
   "metadata": {},
   "source": [
    "Now plot the ROC curve and the Precision-Recall curve. \n",
    "\n",
    "First modify `predict_rf` to include threshold as an input. So that the classifier only identify as diabetes when the proportion of diabetes vote is larger than or equal to the threshold."
   ]
  },
  {
   "cell_type": "code",
   "execution_count": 71,
   "metadata": {},
   "outputs": [],
   "source": [
    "# convert categorical labels to numbers\n",
    "diag_map = {'No diabetes': 0, 'Diabetes': 1}\n",
    "y_pred_balance_df = pd.DataFrame (y_pred_opt_train_balance, columns = ['diabetes'])\n",
    "y_pred_opt_train_balance_num = y_pred_balance_df['diabetes'].map(diag_map)\n",
    "y_train_diabetes_num = y_train_diabetes.map(diag_map)\n",
    "y_test_diabetes_num = y_test_diabetes.map(diag_map)"
   ]
  },
  {
   "cell_type": "code",
   "execution_count": 72,
   "metadata": {},
   "outputs": [],
   "source": [
    "def predict_rf_threshold(rf, X, threshold=0.5):\n",
    "    \"\"\"\n",
    "    Predict classification results for X with threshold applies.\n",
    "    Arguments:\n",
    "        rf: A trained random forest\n",
    "        X: testing sample features, of shape (N, D)\n",
    "        threshold: classification threshold to use\n",
    "    Returns:\n",
    "        predicted testing sample labels\n",
    "    \"\"\"\n",
    "\n",
    "    def aggregate(decisions):\n",
    "        count = defaultdict(int)\n",
    "        for decision in decisions:\n",
    "            count[decision] += 1\n",
    "        prob_diabetes = count['Diabetes'] / len(decisions) # probability of being classified to diabetes\n",
    "        \n",
    "        # classify as diabete only when the probability of diabetes is greater than threshold\n",
    "        return 1 if prob_diabetes >= threshold else 0\n",
    "    \n",
    "    if len(X.shape) == 1:\n",
    "        return aggregate([classify(tree, X) for tree in rf])\n",
    "    else:\n",
    "        return np.array([aggregate([classify(tree, x) for tree in rf]) for x in X])"
   ]
  },
  {
   "cell_type": "code",
   "execution_count": 73,
   "metadata": {},
   "outputs": [],
   "source": [
    "def roc_curve(y_true, rf, X, thresholds):\n",
    "    \"\"\"\n",
    "    Return measures necessary for ROC and PR curve.\n",
    "    Arguments:\n",
    "        y_true: ground truth labels with size (n, )\n",
    "        rf: A trained random forest\n",
    "        X: testing sample features, of shape (N, D)\n",
    "        threshold: classification threshold to use\n",
    "    Returns: \n",
    "        auc: area under the ROC curve\n",
    "        ap: average precision - area under the PR curve\n",
    "        tpr_l: a list of true positive rate (TPR) values for each scanned threshold\n",
    "        fpr_l: a list of false positive rate (FPR) values for each scanned threshold\n",
    "        precision_l: a list of precision values for each scanned threshold\n",
    "        thresholds: the scanned thresholds sorted descendingly\n",
    "    \"\"\"\n",
    "    tpr_l, fpr_l, precision_l = [], [], []\n",
    "\n",
    "    for threshold in thresholds:\n",
    "        # Apply thresholding to the random forest classifier\n",
    "        y_pred = predict_rf_threshold(rf, X, threshold)\n",
    "\n",
    "        # true positives\n",
    "        tp = np.sum(y_true & y_pred)\n",
    "        # false positives\n",
    "        fp = np.sum((~y_true) & y_pred)\n",
    "        # false negatives\n",
    "        fn = np.sum(y_true & (~y_pred))\n",
    "        # true negatives\n",
    "        tn = len(y_true) - tp - fp - fn\n",
    "        \n",
    "        # calculate precision\n",
    "        if (tp + fp) == 0: # avoid undefined situation\n",
    "            precision = 1\n",
    "        else:\n",
    "            precision = tp / (tp + fp)\n",
    "        precision_l.append(precision)\n",
    "\n",
    "        # calculate tpr and fpr\n",
    "        tpr = tp / (tp + fn)\n",
    "        fpr = fp / (tn + fp)\n",
    "        tpr_l.append(tpr)\n",
    "        fpr_l.append(fpr)\n",
    "\n",
    "    # Compute AUC and AP using Trapezoidal rule\n",
    "    auc = -np.trapz(tpr_l, fpr_l)\n",
    "    ap = -np.trapz(precision_l, tpr_l)\n",
    "    return auc, ap, tpr_l, fpr_l, precision_l, thresholds"
   ]
  },
  {
   "cell_type": "markdown",
   "metadata": {},
   "source": [
    "Now plot ROC for both balanced random forest and unbalanced random forest with thresholds vary from 0 to 1 in `thresholds`."
   ]
  },
  {
   "cell_type": "code",
   "execution_count": 74,
   "metadata": {},
   "outputs": [
    {
     "data": {
      "image/png": "[encoded data removed]",
      "text/plain": [
       "<Figure size 864x576 with 1 Axes>"
      ]
     },
     "metadata": {
      "needs_background": "light"
     },
     "output_type": "display_data"
    }
   ],
   "source": [
    "thresholds = np.linspace(0,1,100)\n",
    "# balanced model\n",
    "auc,ap,tpr,fpr,precision_l,th = roc_curve(y_test_diabetes_num, rf_opt_balance, x_test_diabetes_org.to_numpy(), thresholds) \n",
    "# unbalanced model\n",
    "auc_2,ap_2,tpr_2,fpr_2,precision_l_2,th_2 = roc_curve(y_test_diabetes_num, rf_opt, x_test_diabetes_org.to_numpy(), thresholds) \n",
    "\n",
    "# plot ROC on test data set\n",
    "plt.figure(figsize=(12,8))\n",
    "plt.title(f\"Receiver Operating Curve of Random Forest on Test Data Set\", size=20)\n",
    "plt.plot(fpr, tpr, 'b', label = f'AUC of Weighted Model = {auc:0.2f}')\n",
    "plt.plot(fpr_2, tpr_2, 'g', label = f'AUC of Unweighted Model= {auc_2:0.2f}')\n",
    "plt.legend(loc = 'lower right')\n",
    "plt.plot([0, 1], [0, 1],'r--')\n",
    "plt.xlim([0, 1])\n",
    "plt.ylim([0, 1])\n",
    "plt.ylabel('TPR', size=20)\n",
    "plt.xlabel('FPR', size=20)\n",
    "plt.legend()\n",
    "plt.show()"
   ]
  },
  {
   "cell_type": "code",
   "execution_count": 75,
   "metadata": {},
   "outputs": [
    {
     "data": {
      "image/png": "[encoded data removed]",
      "text/plain": [
       "<Figure size 864x576 with 1 Axes>"
      ]
     },
     "metadata": {
      "needs_background": "light"
     },
     "output_type": "display_data"
    }
   ],
   "source": [
    "# plot ROC on test data set\n",
    "plt.figure(figsize=(12,8))\n",
    "plt.title(f\"Precision-Recall Curve of Random Forest on Test Data Set\", size=20)\n",
    "plt.plot(tpr, precision_l, 'b', label = f'Average Precision (AP) of Weighted Model = {ap:0.2f}')\n",
    "plt.plot(tpr_2, precision_l_2, 'g', label = f'Average Precision (AP) of Unweighted Model = {ap_2:0.2f}')\n",
    "plt.legend(loc = 'lower right')\n",
    "plt.plot([0, 1], [0, 1],'r--')\n",
    "plt.xlim([0, 1])\n",
    "plt.ylim([0, 1])\n",
    "plt.ylabel('Precision', size=20)\n",
    "plt.xlabel('Recall', size=20)\n",
    "plt.legend()\n",
    "plt.show()"
   ]
  },
  {
   "cell_type": "markdown",
   "metadata": {},
   "source": [
    "For the area under the curve, weighted random forest has higher AUC and higher AP value.  It can correctly identify diabetes patients as positive and rank diabetes patients accurately.\n",
    "\n",
    "From the plot of ROC curve, we can see that weighted model has higher TPR than unweighted one when FPR is fixed. So weighted model performs better in identifying diabetes patients. From PR curve, the weighted model outperforms the unweighted one in precision when recall is fixed, so the model can rank diabetes patients more accurately."
   ]
  },
  {
   "cell_type": "markdown",
   "metadata": {
    "id": "Apzf5DJeJa_h"
   },
   "source": [
    "#### 2.2\tSupport Vector Machine (SVM) (30 marks)\n",
    "2.2.1"
   ]
  },
  {
   "cell_type": "markdown",
   "metadata": {},
   "source": [
    "First process the data. `x_train_diabetes_org` and `x_test_diabetes_org` are original data of predictors and map diabetes and no diabetes into numbers -1 and 1. In Support Vector Machine, the magnitude of predictors will affect the distance in hyperplane, causing problems in classification. So we need to standardise data of predictor variables. `x_train_diabetes` and `x_test_diabetes` are standardised data of predictors. Also add a column of 1 to $X$ to include intercept $b$ (`x_train_diabetes_aug` and `x_test_diabetes_aug`)."
   ]
  },
  {
   "cell_type": "code",
   "execution_count": 76,
   "metadata": {},
   "outputs": [],
   "source": [
    "# load data as pandas data frames\n",
    "diabetes_train = pd.read_csv('diabetes_samples.csv', decimal=\",\")\n",
    "diabetes_test = pd.read_csv('diabetes_test.csv', decimal=\",\")"
   ]
  },
  {
   "cell_type": "code",
   "execution_count": 77,
   "metadata": {},
   "outputs": [
    {
     "name": "stderr",
     "output_type": "stream",
     "text": [
      "<ipython-input-77-addc4d25422c>:21: FutureWarning: Support for multi-dimensional indexing (e.g. `obj[:, None]`) is deprecated and will be removed in a future version.  Convert to a numpy array before indexing instead.\n",
      "  data_train = np.hstack((x_train_diabetes, y_train_diabetes[:, np.newaxis]))\n",
      "<ipython-input-77-addc4d25422c>:24: FutureWarning: Support for multi-dimensional indexing (e.g. `obj[:, None]`) is deprecated and will be removed in a future version.  Convert to a numpy array before indexing instead.\n",
      "  data_test = np.hstack((x_test_diabetes, y_test_diabetes[:, np.newaxis]))\n"
     ]
    }
   ],
   "source": [
    "# set column id as dataframe index and drop the column of index\n",
    "diabetes_train_ind = diabetes_train.set_index(diabetes_train['patient_number']).drop(diabetes_train.columns[0], axis=1)\n",
    "diabetes_test_ind = diabetes_test.set_index(diabetes_test['patient_number']).drop(diabetes_test.columns[0], axis=1)\n",
    "\n",
    "# convert categorical labels to numbers\n",
    "diag_map = {'No diabetes': 1.0, 'Diabetes': -1.0}\n",
    "diabetes_train_ind['diabetes'] = diabetes_train_ind['diabetes'].map(diag_map)\n",
    "diabetes_test_ind['diabetes'] = diabetes_test_ind['diabetes'].map(diag_map)\n",
    "\n",
    "# put observations and predictors in different dataframes\n",
    "y_train_diabetes = diabetes_train_ind.loc[:, 'diabetes']\n",
    "x_train_diabetes_org =diabetes_train_ind.iloc[:, :-1]\n",
    "y_test_diabetes = diabetes_test_ind.loc[:, 'diabetes']\n",
    "x_test_diabetes_org =diabetes_test_ind.iloc[:, :-1]\n",
    "\n",
    "# standardise predictors\n",
    "x_train_diabetes = standardise(x_train_diabetes_org)\n",
    "x_test_diabetes = standardise(x_test_diabetes_org)\n",
    "\n",
    "# modify type of data\n",
    "data_train = np.hstack((x_train_diabetes, y_train_diabetes[:, np.newaxis]))\n",
    "x_train_diabetes = data_train[:,:-1]\n",
    "y_train_diabetes = data_train[:, -1]\n",
    "data_test = np.hstack((x_test_diabetes, y_test_diabetes[:, np.newaxis]))\n",
    "x_test_diabetes = data_test[:,:-1]\n",
    "y_test_diabetes = data_test[:, -1]\n",
    "y_train_diabetes = y_train_diabetes.astype(float)\n",
    "y_test_diabetes = y_test_diabetes.astype(float)\n",
    "\n",
    "# insert 1 in every row for intercept b\n",
    "x_train_diabetes_aug = np.hstack((x_train_diabetes, np.ones((len(x_train_diabetes),1)) ))\n",
    "x_test_diabetes_aug = np.hstack((x_test_diabetes, np.ones((len(x_test_diabetes),1)) ))    "
   ]
  },
  {
   "cell_type": "markdown",
   "metadata": {},
   "source": [
    "Train a soft-margin linear SVM classifier."
   ]
  },
  {
   "cell_type": "code",
   "execution_count": 78,
   "metadata": {
    "id": "xRKvys8fJewE"
   },
   "outputs": [],
   "source": [
    "def compute_cost(w, X, y, regul_strength=1e5):\n",
    "    n = X.shape[0]\n",
    "    distances = 1 - y * (X @ w)  # size of violation\n",
    "    distances[distances < 0] = 0  # equivalent to max(0, distance)\n",
    "    hinge = regul_strength * distances.mean() \n",
    "    \n",
    "    # calculate cost\n",
    "    return 0.5 * np.dot(w, w) + hinge -0.5 * w[-1]**2 # w[-1] is the intercept needs to be excluded from norm"
   ]
  },
  {
   "cell_type": "code",
   "execution_count": 79,
   "metadata": {},
   "outputs": [],
   "source": [
    "def calculate_cost_gradient(w, X_batch, y_batch, regul_strength=1e6):\n",
    "    # if only one example is passed\n",
    "    if type(y_batch) == np.float64:\n",
    "        y_batch = np.asarray([y_batch])\n",
    "        X_batch = np.asarray([X_batch])  # gives multidimensional array\n",
    "\n",
    "    distance = 1 - (y_batch * (X_batch @ w)) # size of violation\n",
    "    dw = np.zeros(len(w))\n",
    "  \n",
    "    we = w.copy() # not to overwrite w\n",
    "    we[-1] = 0 # not to have b in its derivative when adding the weights in di\n",
    "    \n",
    "    for ind, d in enumerate(distance):\n",
    "        if max(0, d)==0:\n",
    "            di = we # derivative of first term\n",
    "        else:\n",
    "            di = we - (regul_strength * y_batch[ind] * X_batch[ind])\n",
    "        dw += di\n",
    "\n",
    "    return dw/len(y_batch)  # average"
   ]
  },
  {
   "cell_type": "code",
   "execution_count": 80,
   "metadata": {},
   "outputs": [],
   "source": [
    "def sgd(X, y, max_iterations=2000, stop_criterion=0.01, learning_rate=1e-5, regul_strength=1e6, print_outcome=False):\n",
    "  \n",
    "    # initialise zero weights\n",
    "    weights = np.zeros(X.shape[1])\n",
    "    nth = 0\n",
    "    # initialise starting cost as infinity\n",
    "    prev_cost = np.inf\n",
    "  \n",
    "    # stochastic gradient descent\n",
    "    indices = np.arange(len(y))\n",
    "\n",
    "    for iteration in range(1, max_iterations):\n",
    "        # shuffle to prevent repeating update cycles\n",
    "        np.random.shuffle(indices)\n",
    "        X, y = X[indices], y[indices]\n",
    "    \n",
    "        for xi, yi in zip(X, y):\n",
    "            descent = calculate_cost_gradient(weights, xi, yi, regul_strength)\n",
    "            weights = weights - (learning_rate * descent)\n",
    "\n",
    "        # convergence check on 2^n'th iteration\n",
    "        if iteration==2**nth or iteration==max_iterations-1:\n",
    "            # compute cost\n",
    "            cost = compute_cost(weights, X, y, regul_strength)\n",
    "            if print_outcome:\n",
    "                print(\"Iteration is: {}, Cost is: {}\".format(iteration, cost))\n",
    "            # stop criterion\n",
    "            if abs(prev_cost - cost) < stop_criterion * prev_cost:\n",
    "                return weights\n",
    "        \n",
    "            prev_cost = cost\n",
    "            nth += 1\n",
    "  \n",
    "    return weights"
   ]
  },
  {
   "cell_type": "code",
   "execution_count": 81,
   "metadata": {},
   "outputs": [
    {
     "name": "stdout",
     "output_type": "stream",
     "text": [
      "Iteration is: 1, Cost is: 9.763280431126166\n",
      "Iteration is: 2, Cost is: 9.527173115840915\n",
      "Iteration is: 4, Cost is: 9.056797409515212\n",
      "Iteration is: 8, Cost is: 8.123094823564834\n",
      "Iteration is: 16, Cost is: 6.2973093802642275\n",
      "Iteration is: 32, Cost is: 4.0067149697722515\n",
      "Iteration is: 64, Cost is: 2.4672838549000256\n",
      "Iteration is: 128, Cost is: 2.293591905963328\n",
      "Iteration is: 256, Cost is: 2.2735471831510536\n",
      "Iteration is: 512, Cost is: 2.268377987520442\n",
      "Iteration is: 1024, Cost is: 2.26750769924742\n",
      "Training finished.\n"
     ]
    }
   ],
   "source": [
    "lamb = 10\n",
    "\n",
    "# train a soft-margin linear SVM classifier for lambda = 10\n",
    "w = sgd(x_train_diabetes_aug, y_train_diabetes, max_iterations=2000, stop_criterion=0.001, learning_rate=1e-5, \\\n",
    "        regul_strength=lamb, print_outcome=True)\n",
    "print(\"Training finished.\")"
   ]
  },
  {
   "cell_type": "markdown",
   "metadata": {},
   "source": [
    "Use a 4-fold cross-validation to optimise the hardness hyperparameter $\\lambda$ with accuracy as a measure of performance."
   ]
  },
  {
   "cell_type": "code",
   "execution_count": 82,
   "metadata": {},
   "outputs": [],
   "source": [
    "def score_SVM(w, X, y): \n",
    "    \n",
    "    y_preds = np.sign(X @ w)\n",
    "    \n",
    "    return np.mean(y_preds == y) # return accuracy of SVM"
   ]
  },
  {
   "cell_type": "code",
   "execution_count": 83,
   "metadata": {},
   "outputs": [],
   "source": [
    "def cross_val_evaluate(data, num_folds, lamb):\n",
    "    \n",
    "    folds = cross_val_split(data.shape[0], num_folds) # split the data into num_folds folds\n",
    "\n",
    "    train_scores = []\n",
    "    val_scores = []\n",
    "  \n",
    "    for i in range(len(folds)):\n",
    "\n",
    "        val_indices = folds[i]\n",
    "        # define the training set\n",
    "        train_indices = list(set(range(data.shape[0])) - set(val_indices))\n",
    "\n",
    "        X_train = data[train_indices,  :-1]\n",
    "        y_train = data[train_indices, -1]\n",
    "    \n",
    "        # define the validation set\n",
    "        X_val = data[val_indices,  :-1]\n",
    "        y_val = data[val_indices, -1]\n",
    "    \n",
    "        # insert 1 in every row for intercept b\n",
    "        X_train = np.hstack((X_train, np.ones((len(X_train),1)) ))\n",
    "        X_val = np.hstack((X_val, np.ones((len(X_val),1)) ))\n",
    "        \n",
    "        # train the model\n",
    "        w = sgd(X_train, y_train, max_iterations=1025, stop_criterion=0.01, learning_rate=1e-5, regul_strength=lamb)\n",
    "\n",
    "        # evaluate\n",
    "        train_score = score_SVM(w, X_train, y_train)\n",
    "        val_score = score_SVM(w, X_val, y_val)\n",
    "\n",
    "        train_scores.append(train_score)\n",
    "        val_scores.append(val_score)\n",
    "\n",
    "    return train_scores, val_scores\n",
    "\n",
    "def choose_best_lamb_SVM(data, num_folds, lamb_range):\n",
    "    \n",
    "    lamb_scores = np.zeros((len(lamb_range),))\n",
    "  \n",
    "    # search through all lambda in lamb_range\n",
    "    for i, l in enumerate(lamb_range):\n",
    "        train_scores, val_scores = cross_val_evaluate(data, num_folds, l)\n",
    "        lamb_scores[i] = np.mean(val_scores)\n",
    "        print(f'Accuracy of soft-margin SVM when lambda={l}: {lamb_scores[i]:.7f}')\n",
    "\n",
    "    # find the optimal lambda\n",
    "    best_lamb_index = np.argmax(lamb_scores)\n",
    "    return lamb_range[best_lamb_index], lamb_scores"
   ]
  },
  {
   "cell_type": "code",
   "execution_count": 84,
   "metadata": {},
   "outputs": [
    {
     "name": "stdout",
     "output_type": "stream",
     "text": [
      "Accuracy of soft-margin SVM when lambda=1.5789473684210527: 0.8455882\n",
      "Accuracy of soft-margin SVM when lambda=3.1578947368421053: 0.8566176\n",
      "Accuracy of soft-margin SVM when lambda=4.7368421052631575: 0.8676471\n",
      "Accuracy of soft-margin SVM when lambda=6.315789473684211: 0.9007353\n",
      "Accuracy of soft-margin SVM when lambda=7.894736842105264: 0.9044118\n",
      "Accuracy of soft-margin SVM when lambda=9.473684210526315: 0.8970588\n",
      "Accuracy of soft-margin SVM when lambda=11.052631578947368: 0.8970588\n",
      "Accuracy of soft-margin SVM when lambda=12.631578947368421: 0.9117647\n",
      "Accuracy of soft-margin SVM when lambda=14.210526315789474: 0.9044118\n",
      "Accuracy of soft-margin SVM when lambda=15.789473684210527: 0.9154412\n",
      "Accuracy of soft-margin SVM when lambda=17.36842105263158: 0.9080882\n",
      "Accuracy of soft-margin SVM when lambda=18.94736842105263: 0.8970588\n",
      "Accuracy of soft-margin SVM when lambda=20.526315789473685: 0.9191176\n",
      "Accuracy of soft-margin SVM when lambda=22.105263157894736: 0.9044118\n",
      "Accuracy of soft-margin SVM when lambda=23.68421052631579: 0.9044118\n",
      "Accuracy of soft-margin SVM when lambda=25.263157894736842: 0.9117647\n",
      "Accuracy of soft-margin SVM when lambda=26.842105263157894: 0.9080882\n",
      "Accuracy of soft-margin SVM when lambda=28.42105263157895: 0.9044118\n",
      "Accuracy of soft-margin SVM when lambda=30.0: 0.9044118\n",
      "Optimal lambda for soft-margin SVM: 20.526315789473685\n"
     ]
    }
   ],
   "source": [
    "lamb_range_diabetes = np.linspace(0,30,20)[1:]\n",
    "best_lamb_diabetes_SVM, lamb_scores_diabetes_SVM = choose_best_lamb_SVM(data_train, 4, lamb_range_diabetes)\n",
    "print('Optimal lambda for soft-margin SVM:', best_lamb_diabetes_SVM)"
   ]
  },
  {
   "cell_type": "markdown",
   "metadata": {},
   "source": [
    "The average accuracy of SVM classifiers as $\\lambda$ varies is displayed above.\n",
    "\n",
    "The magnitude of $\\lambda$ defines the hardness of soft margin SVM. When $\\lambda$ is small, the model allows more misclassifications on trianing data set so that will be inaccurate. As we can see when $\\lambda = 1.58$, the average accuracy of model is only 0.85. When $\\lambda$ is large, the model will become too hard and cause overfitting problem. The average accuracy of model will decrease because of its poor ability dealing with unseen data. For example, when $\\lambda = 28.42$, the average accuracy of model is 0.90 which is also not optimal. The optimal $\\lambda^*=20.53$ and the optimal model has accuracy 0.92."
   ]
  },
  {
   "cell_type": "markdown",
   "metadata": {
    "id": "UdwSG2udLRH6"
   },
   "source": [
    "2.2.2"
   ]
  },
  {
   "cell_type": "markdown",
   "metadata": {},
   "source": [
    "Calculate the cosine of the angle between each pair of hyperplanes for each value of $\\lambda$."
   ]
  },
  {
   "cell_type": "code",
   "execution_count": 86,
   "metadata": {
    "id": "QHn13w3VJe2V",
    "scrolled": false
   },
   "outputs": [],
   "source": [
    "hyperplanes = []\n",
    "\n",
    "# hyperplane for each lambda in lamb_range_diabetes\n",
    "for lamb in lamb_range_diabetes:\n",
    "    w = sgd(x_train_diabetes_aug, y_train_diabetes, max_iterations=2000, stop_criterion=0.001, learning_rate=1e-5, \\\n",
    "            regul_strength=lamb, print_outcome=False)\n",
    "    hyperplanes.append(w)"
   ]
  },
  {
   "cell_type": "markdown",
   "metadata": {},
   "source": [
    "Report the results on a square heatmap as a function of the $\\lambda$ of each hyperplane."
   ]
  },
  {
   "cell_type": "code",
   "execution_count": 87,
   "metadata": {},
   "outputs": [
    {
     "data": {
      "image/png": "[encoded data removed]",
      "text/plain": [
       "<Figure size 432x288 with 2 Axes>"
      ]
     },
     "metadata": {
      "needs_background": "light"
     },
     "output_type": "display_data"
    }
   ],
   "source": [
    "def unit_vector(vector):\n",
    "    # returns the unit vector of the vector\n",
    "    return vector / np.linalg.norm(vector)\n",
    "\n",
    "# compute the cosine of angle matrix between all pairs of hyperplanes\n",
    "cos_matrix = np.zeros((len(hyperplanes),len(hyperplanes)))\n",
    "for i in range(len(hyperplanes)):\n",
    "    for j in range(len(hyperplanes)):\n",
    "        cos_matrix[i,j] = np.dot(unit_vector(hyperplanes[i]),unit_vector(hyperplanes[j]))\n",
    "\n",
    "fig, ax = plt.subplots()\n",
    "im = ax.imshow(cos_matrix)\n",
    "\n",
    "# set the x and y axis ticks to the lambda range\n",
    "ax.set_xticks(np.arange(len(lamb_range_diabetes)))\n",
    "ax.set_yticks(np.arange(len(lamb_range_diabetes)))\n",
    "ax.set_xticklabels(lamb_range_diabetes)\n",
    "ax.set_yticklabels(lamb_range_diabetes)\n",
    "\n",
    "# rotate the x-axis tick labels\n",
    "plt.setp(ax.get_xticklabels(), rotation=45, ha=\"right\", rotation_mode=\"anchor\")\n",
    "\n",
    "# add a colorbar\n",
    "cbar = ax.figure.colorbar(im, ax=ax)\n",
    "cbar.ax.set_ylabel(\"Cosine of angles\", rotation=-90, va=\"bottom\")\n",
    "\n",
    "# set the title of the plot\n",
    "ax.set_title(\"Cosine between hyperplanes for different $\\lambda$\")\n",
    "\n",
    "plt.show()"
   ]
  },
  {
   "cell_type": "markdown",
   "metadata": {},
   "source": [
    "The label on the x-axis and y-axis are values of $\\lambda$."
   ]
  },
  {
   "cell_type": "markdown",
   "metadata": {
    "id": "-Da22_8mLR-w"
   },
   "source": [
    "2.2.3"
   ]
  },
  {
   "cell_type": "markdown",
   "metadata": {
    "id": "wfcsAet_Je8V"
   },
   "source": [
    "Retrain the optimal linear SVM on the full data set `diabetes_samples.csv `."
   ]
  },
  {
   "cell_type": "code",
   "execution_count": 89,
   "metadata": {},
   "outputs": [
    {
     "name": "stdout",
     "output_type": "stream",
     "text": [
      "Iteration is: 1, Cost is: 19.528946220890706\n",
      "Iteration is: 2, Cost is: 18.534031424500974\n",
      "Iteration is: 4, Cost is: 16.552036987037198\n",
      "Iteration is: 8, Cost is: 12.658154416224269\n",
      "Iteration is: 16, Cost is: 7.921625245370166\n",
      "Iteration is: 32, Cost is: 4.827358226261027\n",
      "Iteration is: 64, Cost is: 4.436558418276704\n",
      "Iteration is: 128, Cost is: 4.367267355054754\n",
      "Iteration is: 256, Cost is: 4.338884362948267\n",
      "Iteration is: 512, Cost is: 4.334640642010089\n"
     ]
    }
   ],
   "source": [
    "# train the model with optimal lambda\n",
    "w_opt = sgd(x_train_diabetes_aug, y_train_diabetes, max_iterations=2000, stop_criterion=0.001, learning_rate=1e-5, \\\n",
    "            regul_strength=best_lamb_diabetes_SVM, print_outcome=True)"
   ]
  },
  {
   "cell_type": "markdown",
   "metadata": {},
   "source": [
    "Evaluate its performance on the test data set `diabetes_test.csv`, using accuracy, precision and F-score."
   ]
  },
  {
   "cell_type": "code",
   "execution_count": 90,
   "metadata": {},
   "outputs": [
    {
     "name": "stdout",
     "output_type": "stream",
     "text": [
      "Predicted  -1.0   1.0\n",
      "Actual               \n",
      "-1.0          9     7\n",
      " 1.0          2    99\n"
     ]
    }
   ],
   "source": [
    "# predict test observations using optimal SVM\n",
    "y_preds_test = np.sign(x_test_diabetes_aug @ w_opt)\n",
    "\n",
    "# set a dataframe of actual observation and predicted observation of test data set\n",
    "y_opt_train_df = pd.DataFrame(\n",
    "    {'y_actual':    y_test_diabetes,\n",
    "     'y_predicted': y_preds_test\n",
    "    })\n",
    "\n",
    "# confusion matrix of test data set\n",
    "confusion_matrix_test_SVM = pd.crosstab(y_opt_train_df['y_actual'], y_opt_train_df['y_predicted'], \\\n",
    "                                        rownames=['Actual'], colnames=['Predicted'])\n",
    "print(confusion_matrix_test_SVM)"
   ]
  },
  {
   "cell_type": "code",
   "execution_count": 91,
   "metadata": {},
   "outputs": [],
   "source": [
    "# TP, FN, FP and TN for test data set\n",
    "tp_test_SVM = confusion_matrix_test_SVM.iloc[0,0] # true positive\n",
    "fn_test_SVM = confusion_matrix_test_SVM.iloc[0,1] # false negative\n",
    "fp_test_SVM = confusion_matrix_test_SVM.iloc[1,0] # false positive\n",
    "tn_test_SVM = confusion_matrix_test_SVM.iloc[1,1] # true negative"
   ]
  },
  {
   "cell_type": "code",
   "execution_count": 92,
   "metadata": {},
   "outputs": [
    {
     "name": "stdout",
     "output_type": "stream",
     "text": [
      "Accuracy of optimal SVM on test data set: 0.9230769230769231\n",
      "Precision of optimal SVM on test data set: 0.8181818181818182\n",
      "F score of optimal SVM on test data set: 0.6666666666666666\n"
     ]
    }
   ],
   "source": [
    "# measures of model on test data set\n",
    "accuracy_test_SVM = accuracy(tp_test_SVM, tn_test_SVM, fp_test_SVM, fn_test_SVM)\n",
    "precision_test_SVM = precision(tp_test_SVM, fp_test_SVM)\n",
    "F_score_test_SVM = F_score(tp_test_SVM, fp_test_SVM, fn_test_SVM)\n",
    "\n",
    "print('Accuracy of optimal SVM on test data set:', accuracy_test_SVM)\n",
    "print('Precision of optimal SVM on test data set:', precision_test_SVM)\n",
    "print('F score of optimal SVM on test data set:', F_score_test_SVM)"
   ]
  },
  {
   "cell_type": "markdown",
   "metadata": {},
   "source": [
    "An accuracy of 0.923 indicates that the SVM model is able to correctly classify 92.3% of the test data. The precision of 0.818 indicates that when the model predicts a positive class, it is correct 81.8% of the time. So the model is good at ranking the diabetes patients. The F-score of 0.667 is a weighted harmonic mean of precision and recall. The balance between precision and recall is not good in the optimal SVM model."
   ]
  },
  {
   "cell_type": "markdown",
   "metadata": {
    "id": "kTNW66ufLS2B"
   },
   "source": [
    "2.2.4"
   ]
  },
  {
   "cell_type": "markdown",
   "metadata": {},
   "source": [
    "Implement a soft-margin kernelised SVM classifier using sigmoid kernel. "
   ]
  },
  {
   "cell_type": "code",
   "execution_count": 93,
   "metadata": {},
   "outputs": [],
   "source": [
    "def kernel_matrix(X1, X2, sigma):\n",
    "    \n",
    "    n1,m1 = X1.shape\n",
    "    n2,m2 = X2.shape\n",
    "    kernel = np.zeros((n1,n2))\n",
    "\n",
    "    # define a sigmoid kernel\n",
    "    for i in range(n1):\n",
    "        for j in range(n2):\n",
    "            kernel[i,j] = np.tanh(sigma * np.dot(X1[i,:], X2[j,:]) + 1)\n",
    "\n",
    "    return kernel"
   ]
  },
  {
   "cell_type": "code",
   "execution_count": 94,
   "metadata": {},
   "outputs": [],
   "source": [
    "def compute_cost_kernel(u, K, y, regul_strength=1e3, intercept=0):\n",
    "\n",
    "    # define the hinge cost with the kernel trick, the intercept should be kept separate\n",
    "    \n",
    "    distances = 1 - (y)*(K@u + intercept)\n",
    "    distances[distances < 0] = 0  # equivalent to max(0, distance)\n",
    "    hinge = regul_strength * distances.mean()\n",
    "\n",
    "    # calculate cost\n",
    "    return 0.5 * np.dot(u,K@u) + hinge"
   ]
  },
  {
   "cell_type": "code",
   "execution_count": 95,
   "metadata": {
    "id": "uw6jwGWKJfCd"
   },
   "outputs": [],
   "source": [
    "def calculate_cost_gradient_kernel(u, K_batch, y_batch, regul_strength=1e3,intercept=0):\n",
    "\n",
    "    # if only one example is passed\n",
    "    if type(y_batch) == np.float64 or type(y_batch) == np.int32:\n",
    "        y_batch = np.asarray([y_batch])\n",
    "        K_batch = np.asarray([K_batch])  # gives multidimensional array\n",
    "    \n",
    "    distance = 1 - (y_batch * (K_batch @ u + intercept))\n",
    "    dw = np.zeros(len(u))\n",
    "    db = 0\n",
    "\n",
    "    # define the gradient of w and b with the hinge loss\n",
    "    for ind, d in enumerate(distance):\n",
    "        if max(0, d)==0:\n",
    "            di = K_batch@u\n",
    "            bi = 0\n",
    "        else:\n",
    "            di = K_batch@u - (regul_strength * y_batch[ind] * K_batch[ind])\n",
    "            bi = - (regul_strength * y_batch[ind])\n",
    "        dw += di\n",
    "        db += bi\n",
    "\n",
    "    return dw/len(y_batch), db/len(y_batch)"
   ]
  },
  {
   "cell_type": "markdown",
   "metadata": {},
   "source": [
    "Minimise the cost function by stochastic gradient descent method."
   ]
  },
  {
   "cell_type": "code",
   "execution_count": 96,
   "metadata": {},
   "outputs": [],
   "source": [
    "def sgd_kernel(K, y, batch_size=32, max_iterations=4000, stop_criterion=0.001, learning_rate=1e-4, regul_strength=1e3, print_outcome=False):\n",
    "\n",
    "    # initialise zero u and intercept\n",
    "    u = np.zeros(K.shape[1])\n",
    "    intercept = 0\n",
    "    \n",
    "    nth = 0\n",
    "    # initialise starting cost as infinity\n",
    "    prev_cost = np.inf\n",
    "    \n",
    "    # stochastic gradient descent\n",
    "    indices = np.arange(len(y))\n",
    "    for iteration in range(1, max_iterations):\n",
    "        # shuffle to prevent repeating update cycles\n",
    "        np.random.shuffle(indices)\n",
    "        batch_idx = indices[:batch_size]\n",
    "        K_b, y_b = K[batch_idx], y[batch_idx]\n",
    "        for ki, yi in zip(K_b, y_b):\n",
    "            ascent, b_ascent = calculate_cost_gradient_kernel(u, ki, yi, regul_strength, intercept)\n",
    "            u = u - (learning_rate * ascent)\n",
    "            intercept = intercept - (learning_rate * b_ascent)\n",
    "        \n",
    "        # convergence check on 2^n'th iteration\n",
    "        if iteration==2**nth or iteration==max_iterations-1:\n",
    "            # compute cost\n",
    "            cost = compute_cost_kernel(u, K, y, regul_strength, intercept)\n",
    "            if print_outcome:\n",
    "                print(\"Iteration is: {}, Cost is: {}\".format(iteration, cost))\n",
    "            # stop criterion\n",
    "            if abs(prev_cost - cost) < stop_criterion * prev_cost:\n",
    "                return u, intercept\n",
    "            \n",
    "            prev_cost = cost\n",
    "            nth += 1\n",
    "    \n",
    "    return u, intercept"
   ]
  },
  {
   "cell_type": "markdown",
   "metadata": {},
   "source": [
    "Fix the hardness hyperparameter to $\\lambda = 10$ and train the soft margin kernelised SVM classifier on the data set `diabetes_samples.csv`. Present the values of intercept $b$ for each $\\sigma$."
   ]
  },
  {
   "cell_type": "code",
   "execution_count": 97,
   "metadata": {},
   "outputs": [
    {
     "name": "stdout",
     "output_type": "stream",
     "text": [
      "For sigma = 0.01\n",
      "The inferred value of the intercept is 0.9762999999999088.\n",
      "For sigma = 0.1\n",
      "The inferred value of the intercept is 1.0739999999998981.\n",
      "For sigma = 1\n",
      "The inferred value of the intercept is 1.5313999999998478.\n",
      "For sigma = 2\n",
      "The inferred value of the intercept is 1.4594999999998557.\n"
     ]
    }
   ],
   "source": [
    "reg = 10 # fix lambda\n",
    "b_list = []\n",
    "\n",
    "# consider the accuracy of model for a range of sigma\n",
    "for sigma in [0.01, 0.1, 1, 2]:\n",
    "    \n",
    "    print('For sigma = ' + str(sigma))\n",
    "    K_train = kernel_matrix(x_train_diabetes, x_train_diabetes, sigma)\n",
    "\n",
    "    u, b = sgd_kernel(K_train, y_train_diabetes, batch_size=128, max_iterations=2000, stop_criterion=0.001, \\\n",
    "                     learning_rate=1e-5, regul_strength=reg, print_outcome=False)\n",
    "    b_list.append(b)\n",
    "    \n",
    "    print(fr\"The inferred value of the intercept is {b}.\")"
   ]
  },
  {
   "cell_type": "markdown",
   "metadata": {
    "id": "wbZX59MPLT10"
   },
   "source": [
    "2.2.5"
   ]
  },
  {
   "cell_type": "markdown",
   "metadata": {},
   "source": [
    "Evaluate accuracy, precision and F-score of the kernelised SVM classifier."
   ]
  },
  {
   "cell_type": "code",
   "execution_count": 98,
   "metadata": {
    "id": "yk40o2p2JfIs"
   },
   "outputs": [],
   "source": [
    "y_preds = []\n",
    "sigma_list = [0.01, 0.1, 1, 2]\n",
    "\n",
    "for sigma in sigma_list:\n",
    "    \n",
    "    K_train = kernel_matrix(x_train_diabetes, x_train_diabetes, sigma)\n",
    "\n",
    "    u, b = sgd_kernel(K_train, y_train_diabetes, batch_size=128, max_iterations=2000, stop_criterion=0.001, \\\n",
    "                      learning_rate=1e-5, regul_strength=reg, print_outcome=False)\n",
    "    \n",
    "    K_test = kernel_matrix(x_test_diabetes, x_train_diabetes, sigma) # define the kernel containing test data\n",
    "    \n",
    "    y_pred_i = np.sign(K_test @ u + b) # prediction by SVM\n",
    "    \n",
    "    y_preds.append(y_pred_i)"
   ]
  },
  {
   "cell_type": "code",
   "execution_count": 99,
   "metadata": {},
   "outputs": [
    {
     "name": "stdout",
     "output_type": "stream",
     "text": [
      "Accuracy on test set when sigma = 0.01: 0.8632478632478633\n",
      "Precision on test set when sigma = 0.01: nan\n",
      "F-score on test set when sigma = 0.01: nan\n",
      "Accuracy on test set when sigma = 0.1: 0.9316239316239316\n",
      "Precision on test set when sigma = 0.1: 0.8333333333333334\n",
      "F-score on test set when sigma = 0.1: 0.7142857142857143\n",
      "Accuracy on test set when sigma = 1: 0.9230769230769231\n",
      "Precision on test set when sigma = 1: 0.7333333333333333\n",
      "F-score on test set when sigma = 1: 0.7096774193548386\n",
      "Accuracy on test set when sigma = 2: 0.8974358974358975\n",
      "Precision on test set when sigma = 2: 0.6111111111111112\n",
      "F-score on test set when sigma = 2: 0.6470588235294118\n"
     ]
    },
    {
     "name": "stderr",
     "output_type": "stream",
     "text": [
      "<ipython-input-53-24159f53205f>:9: RuntimeWarning: invalid value encountered in long_scalars\n",
      "  return tp / (tp + fp)\n"
     ]
    }
   ],
   "source": [
    "for i in range(4):\n",
    "    tp_KSVM = np.sum((y_test_diabetes == -1) & (y_preds[i] == -1)) # true positive\n",
    "    tn_KSVM = np.sum((y_test_diabetes == 1) & (y_preds[i] == 1)) # true negative\n",
    "    fp_KSVM = np.sum((y_test_diabetes == 1) & (y_preds[i] == -1)) # false positive\n",
    "    fn_KSVM = np.sum((y_test_diabetes == -1) & (y_preds[i] == 1)) # false negative\n",
    "    \n",
    "    print(fr\"Accuracy on test set when sigma = {sigma_list[i]}: {accuracy(tp_KSVM, tn_KSVM, fp_KSVM, fn_KSVM)}\")\n",
    "    print(fr\"Precision on test set when sigma = {sigma_list[i]}: {precision(tp_KSVM, fp_KSVM)}\")\n",
    "    print(fr\"F-score on test set when sigma = {sigma_list[i]}: {F_score(tp_KSVM, fp_KSVM, fn_KSVM)}\")"
   ]
  },
  {
   "cell_type": "markdown",
   "metadata": {},
   "source": [
    "|Model|Accuracy|Precision|F-score|\n",
    "|:------:|:------:|:------:|:------:|\n",
    "|soft-margin SVM|0.923|0.818|0.667|\n",
    "|Kernelised SVM $\\sigma = 0.01$|0.863|-|-|\n",
    "|Kernelised SVM $\\sigma = 0.1$|0.932|0.833|0.714|\n",
    "|Kernelised SVM $\\sigma = 1$|0.923|0.733|0.710|\n",
    "|Kernelised SVM $\\sigma = 2$|0.897|0.611|0.647|"
   ]
  },
  {
   "cell_type": "markdown",
   "metadata": {},
   "source": [
    "When $\\sigma = 0.01$, all labels are predected as no diabetes, so the true positive and false positive are 0. The denominator of precision and F-score is 0.\n",
    "\n",
    "The optimal soft-margin linear SVM has higher accuracy and precision than kernelised SVM, but lower F-value when $\\sigma = 1, 2$. The kernelised SVM with $\\sigma = 0.1$ has the highest accuracy, precision and F-score, which means that it is able to capture the underlying structure of data. So data may have a nonlinear structure that cannot be classified by a linear model. A higher-dimensional space might be needed to separate the data.\n",
    "\n",
    "For further improvement of the kernelised SVM, we can optimise hyperparameters $\\sigma$ and $\\lambda$ by methods like grid search."
   ]
  }
 ],
 "metadata": {
  "colab": {
   "authorship_tag": "ABX9TyNRIxV7UY7tVkryHpDs3Wuh",
   "provenance": []
  },
  "kernelspec": {
   "display_name": "Python 3",
   "language": "python",
   "name": "python3"
  },
  "language_info": {
   "codemirror_mode": {
    "name": "ipython",
    "version": 3
   },
   "file_extension": ".py",
   "mimetype": "text/x-python",
   "name": "python",
   "nbconvert_exporter": "python",
   "pygments_lexer": "ipython3",
   "version": "3.8.8"
  }
 },
 "nbformat": 4,
 "nbformat_minor": 1
}
