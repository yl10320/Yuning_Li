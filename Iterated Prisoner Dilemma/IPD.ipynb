{
 "cells": [
  {
   "cell_type": "code",
   "execution_count": 2,
   "id": "b46f60ec",
   "metadata": {},
   "outputs": [],
   "source": [
    "# Import the required modules\n",
    "import numpy as np\n",
    "import matplotlib.pyplot as plt\n",
    "# This makes the plots appear inside the notebook\n",
    "%matplotlib inline\n",
    "from scipy.integrate import odeint"
   ]
  },
  {
   "cell_type": "code",
   "execution_count": 7,
   "id": "d82c9912",
   "metadata": {},
   "outputs": [
    {
     "name": "stdout",
     "output_type": "stream",
     "text": [
      "1.4691358024691357\n"
     ]
    },
    {
     "data": {
      "image/png": "[encoded data removed]",
      "text/plain": [
       "<Figure size 432x288 with 1 Axes>"
      ]
     },
     "metadata": {
      "needs_background": "light"
     },
     "output_type": "display_data"
    }
   ],
   "source": [
    "# define a projection from the 3D simplex on a triangle\n",
    "proj = np.array(\n",
    "[[-1 * np.cos(30. / 360. * 2. * np.pi),np.cos(30. / 360. * 2. * np.pi),0.],\n",
    "[-1 * np.sin(30. / 360. * 2. * np.pi),-1 * np.sin(30. / 360. * 2. * np.pi),1.]])\n",
    "# project the boundary on the simplex onto the boundary of the triangle\n",
    "ts = np.linspace(0, 1, 10000)\n",
    "PBd1 = proj@np.array([ts,(1-ts),0*ts])\n",
    "PBd2 = proj@np.array([0*ts,ts,(1-ts)])\n",
    "PBd3 = proj@np.array([ts,0*ts,(1-ts)])\n",
    "\n",
    "# choose game\n",
    "# evolutionary donation game with w = 0.7, (eps,k)=(0.1,0.5) and (b,c)=(2,1)\n",
    "R, T, S, P = 3, 5, 0, 1\n",
    "w = 0.7 # probability of game continuous\n",
    "b, c = 2, 1 # pay-off of each situation\n",
    "eps, k = 0.1, 0.5\n",
    "beta = (1/c)*((b-c)-eps*b)\n",
    "delta = w*eps\n",
    "kappa = 1-w+w*k*eps\n",
    "theta = w*(1-(k+1)*eps)\n",
    "sigma = (b*theta-c)/(c-c*theta)\n",
    "print((1/1+sigma))\n",
    "z0 = (T-R)/((T-P)*w)\n",
    "zhat = ((P-S)*(w-1))/(S-P-R+T+(2*P-S-T)*w)\n",
    "y1 = 0.01\n",
    "z1 = ((S-P-R+T)*y1-(T-R+w*S-w*P))/((2*P-S-T)*w)\n",
    "\n",
    "A = np.array([[ R, S , R], [ T, P , (1-w)*T+w*P], [R , (1-w)*S+w*P ,R]]) # row, 2nd row, 3rd row\n",
    "x01 = np.array([1-y1-z1, y1, z1]) # when TFT converges to 0, AllD wins\n",
    "x02 = np.array([0.1, 0.45, 0.45]) # the strategies co-exist\n",
    "x03 = np.array([0.99-z0, 0.01, z0]) # the strategies co-exist\n",
    "x04 = np.array([0, 1-zhat, zhat]) # middle point of 01 and 03\n",
    "# define replicator equation\n",
    "def replicator(x,t):\n",
    "    return x * (A@x - np.transpose(x) @ (A@x))\n",
    "\n",
    "# compute orbits\n",
    "ts = np.linspace(0,200,10000)\n",
    "xt1 = odeint(replicator, x01, ts)\n",
    "xt2 = odeint(replicator, x02, ts)\n",
    "xt3 = odeint(replicator, x03, ts)\n",
    "xt4 = odeint(replicator, x04, ts)\n",
    "\n",
    "# project the orbits on the triangle\n",
    "orbittriangle1=proj@xt1.T\n",
    "orbittriangle2=proj@xt2.T\n",
    "orbittriangle3=proj@xt3.T\n",
    "orbittriangle4=proj@xt4.T\n",
    "ic1=proj@x01\n",
    "ic2=proj@x02\n",
    "ic3=proj@x03\n",
    "ic4=proj@x04\n",
    "# no box\n",
    "plt.box(False)\n",
    "plt.axis(False)\n",
    "# plot the orbits, the initial values, the corner points, and the boundary points\n",
    "plt.plot(PBd1[0], PBd1[1], \".\",color='black',markersize=3)\n",
    "plt.plot(PBd2[0], PBd2[1], \".\",color='black',markersize=3)\n",
    "plt.plot(PBd3[0], PBd3[1], \".\",color='black',markersize=3)\n",
    "plt.plot(orbittriangle1[0],orbittriangle1[1],\".\",markersize=1,color='green')\n",
    "plt.plot(orbittriangle2[0],orbittriangle2[1],\".\",markersize=1,color='red')\n",
    "plt.plot(orbittriangle3[0],orbittriangle3[1],\".\",markersize=1,color='blue')\n",
    "plt.plot(orbittriangle4[0],orbittriangle4[1],\".\",markersize=1,color='pink')\n",
    "plt.plot(ic1[0],ic1[1],\"+\",markersize=10,color='green')\n",
    "plt.plot(ic2[0],ic2[1],\"+\",markersize=10,color='red')\n",
    "plt.plot(ic3[0],ic3[1],\"+\",markersize=10,color='blue')\n",
    "plt.plot(ic4[0],ic4[1],\"+\",markersize=10,color='pink')\n",
    "plt.text(-0.8660254-0.1, -0.5 +0.05 , \"x\",fontsize=12)\n",
    "plt.text(+0.8660254+0.05, -0.5 +0.05 , \"y\",fontsize=12)\n",
    "plt.text(0-0.03, 1 +0.1 , \"z\",fontsize=12)\n",
    "\n",
    "plt.show()"
   ]
  },
  {
   "cell_type": "code",
   "execution_count": 28,
   "id": "a111f1ab",
   "metadata": {},
   "outputs": [
    {
     "data": {
      "image/png": "[encoded data removed]",
      "text/plain": [
       "<Figure size 432x288 with 1 Axes>"
      ]
     },
     "metadata": {
      "needs_background": "light"
     },
     "output_type": "display_data"
    }
   ],
   "source": [
    "# define a projection from the 3D simplex on a triangle\n",
    "proj = np.array(\n",
    "[[-1 * np.cos(30. / 360. * 2. * np.pi),np.cos(30. / 360. * 2. * np.pi),0.],\n",
    "[-1 * np.sin(30. / 360. * 2. * np.pi),-1 * np.sin(30. / 360. * 2. * np.pi),1.]])\n",
    "# project the boundary on the simplex onto the boundary of the triangle\n",
    "ts = np.linspace(0, 1, 10000)\n",
    "PBd1 = proj@np.array([ts,(1-ts),0*ts])\n",
    "PBd2 = proj@np.array([0*ts,ts,(1-ts)])\n",
    "PBd3 = proj@np.array([ts,0*ts,(1-ts)])\n",
    "\n",
    "# choose game\n",
    "# evolutionary donation game with w = 0.7, (eps,k)=(0.1,0.5) and (b,c)=(2,1)\n",
    "R, T, S, P = 3, 5, 0, 1\n",
    "w = 0.7 # probability of game continuous\n",
    "b, c = 2, 1 # pay-off of each situation\n",
    "eps, k = 0.1, 0\n",
    "beta = (1/c)*(((b-c)/(1+k))-eps*b)\n",
    "\n",
    "A = np.array([[ b-c, -c , b-c], [ b, 0 ,(1-w)*b], [ b-c, (1-w)*(-c) ,b-c]]) # row, 2nd row, 3rd row\n",
    "x01 = np.array([0.5, 0.01, 0.49]) # when TFT converges to 0, AllD wins\n",
    "x02 = np.array([1-(c/(w*b)), 0, c/(w*b)]) # the strategies co-exist\n",
    "x03 = np.array([0.99-((c*(1-w))/((b-c)*w)), 0.01, (c*(1-w))/((b-c)*w)]) # the strategies co-exist\n",
    "x04 = np.array([0.99-((c*(1-w))/((b-c)*w))+0.1, 0.01,  (c*(1-w))/((b-c)*w)-0.1]) # middle point of 01 and 03\n",
    "# define replicator equation\n",
    "def replicator(x,t):\n",
    "    return x * (A@x - np.transpose(x) @ (A@x))\n",
    "# compute orbits\n",
    "ts = np.linspace(0,200,10000)\n",
    "xt1 = odeint(replicator, x01, ts)\n",
    "xt2 = odeint(replicator, x02, ts)\n",
    "xt3 = odeint(replicator, x03, ts)\n",
    "xt4 = odeint(replicator, x04, ts)\n",
    "\n",
    "# project the orbits on the triangle\n",
    "orbittriangle1=proj@xt1.T\n",
    "orbittriangle2=proj@xt2.T\n",
    "orbittriangle3=proj@xt3.T\n",
    "orbittriangle4=proj@xt4.T\n",
    "ic1=proj@x01\n",
    "ic2=proj@x02\n",
    "ic3=proj@x03\n",
    "ic4=proj@x04\n",
    "# no box\n",
    "plt.box(False)\n",
    "plt.axis(False)\n",
    "# plot the orbits, the initial values, the corner points, and the boundary points\n",
    "plt.plot(PBd1[0], PBd1[1], \".\",color='black',markersize=3)\n",
    "plt.plot(PBd2[0], PBd2[1], \".\",color='black',markersize=3)\n",
    "plt.plot(PBd3[0], PBd3[1], \".\",color='black',markersize=3)\n",
    "plt.plot(orbittriangle1[0],orbittriangle1[1],\".\",markersize=1,color='green')\n",
    "plt.plot(orbittriangle2[0],orbittriangle2[1],\".\",markersize=1,color='red')\n",
    "plt.plot(orbittriangle3[0],orbittriangle3[1],\".\",markersize=1,color='blue')\n",
    "plt.plot(orbittriangle4[0],orbittriangle4[1],\".\",markersize=1,color='pink')\n",
    "plt.plot(ic1[0],ic1[1],\"+\",markersize=10,color='green')\n",
    "plt.plot(ic2[0],ic2[1],\"+\",markersize=10,color='red')\n",
    "plt.plot(ic3[0],ic3[1],\"+\",markersize=10,color='blue')\n",
    "plt.plot(ic4[0],ic4[1],\"+\",markersize=10,color='pink')\n",
    "plt.text(-0.8660254-0.1, -0.5 +0.05 , \"x\",fontsize=12)\n",
    "plt.text(+0.8660254+0.05, -0.5 +0.05 , \"y\",fontsize=12)\n",
    "plt.text(0-0.03, 1 +0.1 , \"z\",fontsize=12)\n",
    "\n",
    "plt.show()"
   ]
  }
 ],
 "metadata": {
  "kernelspec": {
   "display_name": "Python 3 (ipykernel)",
   "language": "python",
   "name": "python3"
  },
  "language_info": {
   "codemirror_mode": {
    "name": "ipython",
    "version": 3
   },
   "file_extension": ".py",
   "mimetype": "text/x-python",
   "name": "python",
   "nbconvert_exporter": "python",
   "pygments_lexer": "ipython3",
   "version": "3.11.5"
  }
 },
 "nbformat": 4,
 "nbformat_minor": 5
}
