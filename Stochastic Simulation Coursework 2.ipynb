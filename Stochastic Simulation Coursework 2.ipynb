{
 "cells": [
  {
   "cell_type": "markdown",
   "id": "9bdd2092",
   "metadata": {},
   "source": [
    "# Stochastic Simulation Coursework 2\n",
    "## 2022.11.30"
   ]
  },
  {
   "cell_type": "markdown",
   "id": "9b30fb45",
   "metadata": {},
   "source": [
    "#### CID: 01868678"
   ]
  },
  {
   "cell_type": "code",
   "execution_count": 1,
   "id": "9ea9d987",
   "metadata": {},
   "outputs": [],
   "source": [
    "import numpy as np\n",
    "import matplotlib.pyplot as plt\n",
    "from scipy.stats import norm"
   ]
  },
  {
   "cell_type": "markdown",
   "id": "77009525",
   "metadata": {},
   "source": [
    "## Q1: Importance Sampling for Marginal Likelihoods"
   ]
  },
  {
   "cell_type": "markdown",
   "id": "2b39d690",
   "metadata": {},
   "source": [
    "### 1. Find expression and value for $p\\left(y\\right)$."
   ]
  },
  {
   "cell_type": "markdown",
   "id": "feafe085",
   "metadata": {},
   "source": [
    "The analytical expression of $p\\left(y\\right)$ is\n",
    "$$\n",
    "p\\left(y\\right)=\\int p\\left(y|x\\right) p\\left(x\\right) \\,dx = \\int \\mathcal{N}\\left(y;x,1\\right) \\mathcal{N}\\left(x;0,1\\right) \\,dx=\\mathcal{N}\\left(y;0,1+1\\right)=\\mathcal{N}\\left(y;0,2\\right)\n",
    "$$"
   ]
  },
  {
   "cell_type": "markdown",
   "id": "edd9754f",
   "metadata": {},
   "source": [
    "To find exact value of $p\\left(y=9\\right)$, we look at function\n",
    "$$\n",
    "p\\left(y=9\\right)=\\int p\\left(y=9|x\\right) p\\left(x\\right) \\,dx =\\mathcal{N}\\left(y=9;0,2\\right) \\approx 4.53\\times 10^{-10}\n",
    "$$"
   ]
  },
  {
   "cell_type": "code",
   "execution_count": 2,
   "id": "3ed2a38c",
   "metadata": {},
   "outputs": [
    {
     "name": "stdout",
     "output_type": "stream",
     "text": [
      "4.5282647397717255e-10\n"
     ]
    }
   ],
   "source": [
    "# define the function of Gaussian\n",
    "def Gaussian(x, mu, sigma2):\n",
    "    return np.exp(-(x-mu)**2/(2*sigma2))/np.sqrt(2*np.pi*sigma2)\n",
    "\n",
    "# calculate p value\n",
    "p = Gaussian(9, 0, 2)\n",
    "print(p)"
   ]
  },
  {
   "cell_type": "markdown",
   "id": "60561ea1",
   "metadata": {},
   "source": [
    "### 2. Implement the standard MC estimator."
   ]
  },
  {
   "cell_type": "markdown",
   "id": "95aaccfc",
   "metadata": {},
   "source": [
    "For fixed $p\\left(y=9\\right)$, we have the integral\n",
    "$$\n",
    "p\\left(y=9\\right)=\\int p\\left(y=9|x\\right) p\\left(x\\right) \\,dx\n",
    "$$\n",
    "where we can set test function $\\phi \\left(x\\right)= p\\left(y=9|x\\right)$."
   ]
  },
  {
   "cell_type": "markdown",
   "id": "48ecd5c5",
   "metadata": {},
   "source": [
    "Then the MC estimator for $p\\left(y=9\\right)$ is\n",
    "$$\n",
    "p^N_{MC}\\left(y=9\\right)=\\frac{1}{N}\\sum_{i=1}^{N} p\\left(y=9|X_i\\right)\n",
    "$$\n",
    "for $X_1$, ..., $X_N \\sim p\\left(x\\right)$."
   ]
  },
  {
   "cell_type": "markdown",
   "id": "89a94389",
   "metadata": {},
   "source": [
    "Calculate the results for diffrent $N$ and plot the graph of RAE."
   ]
  },
  {
   "cell_type": "code",
   "execution_count": 7,
   "id": "66e6f78e",
   "metadata": {},
   "outputs": [
    {
     "name": "stdout",
     "output_type": "stream",
     "text": [
      "[8.460702781169037e-16, 6.0198275291169e-13, 7.153501463322011e-11, 6.519351300487069e-11, 5.189576678564284e-10]\n",
      "[0.9999981315794753, 0.9986706105152721, 0.8420255467730752, 0.8560298110835342, 0.14604091783421133]\n"
     ]
    },
    {
     "data": {
      "image/png": "[encoded data removed]",
      "text/plain": [
       "<Figure size 432x288 with 1 Axes>"
      ]
     },
     "metadata": {
      "needs_background": "light"
     },
     "output_type": "display_data"
    }
   ],
   "source": [
    "# perform Monte Carlo to estimate p(y=9)\n",
    "def est_MC(n):\n",
    "    sol = 0\n",
    "    for i in range(n):\n",
    "        xi = np.random.normal(0, 1)\n",
    "        sol += Gaussian(9, xi, 1)\n",
    "    return (1/n)*sol\n",
    "\n",
    "# calculate estimator and RAE for different values of N\n",
    "N = np.array([10, 100, 1000, 10000, 100000])\n",
    "EST_MC = []\n",
    "RAE_MC = []\n",
    "for j in range(len(N)):\n",
    "    estj_MC = est_MC(N[j])\n",
    "    solj_MC = abs(estj_MC-p)/abs(p)\n",
    "    EST_MC.append(estj_MC)\n",
    "    RAE_MC.append(solj_MC)\n",
    "\n",
    "# print the results and plot\n",
    "print(EST_MC)\n",
    "print(RAE_MC)\n",
    "plt.loglog(N, RAE_MC)\n",
    "plt.title(\"RAE of p(y=9|x) by Monte Carlo marginal likelihood estimation\")\n",
    "plt.xlabel(\"Numbers of samples\") \n",
    "plt.ylabel(\"RAE\") \n",
    "plt.show()"
   ]
  },
  {
   "cell_type": "markdown",
   "id": "fcdf5597",
   "metadata": {},
   "source": [
    "### 3.  IS estimation for $p\\left(y\\right)$."
   ]
  },
  {
   "cell_type": "markdown",
   "id": "02c0ef9b",
   "metadata": {},
   "source": [
    "The weight function is \n",
    "$$\n",
    "w\\left(x\\right) = \\frac{p\\left(x\\right)}{q\\left(x\\right)} = \\frac{\\mathcal{N}\\left(x;0,1\\right)}{\\mathcal{N}\\left(x;6,1\\right)}\n",
    "$$"
   ]
  },
  {
   "cell_type": "markdown",
   "id": "4c0a8b30",
   "metadata": {},
   "source": [
    "Then the IS estimator for $p\\left(y=9\\right)$ is\n",
    "$$\n",
    "p^N_{IS}\\left(y=9\\right)=\\frac{1}{N}\\sum_{i=1}^{N} p\\left(y=9|X_i\\right)w_i\n",
    "$$\n",
    "for $X_1$, ..., $X_N \\sim p\\left(x\\right)$ and $w_i = w\\left(X_i\\right) = \\frac{p\\left(X_i\\right)}{q\\left(X_i\\right)}$."
   ]
  },
  {
   "cell_type": "markdown",
   "id": "35482652",
   "metadata": {},
   "source": [
    "Calculate the results for diffrent $N$ and plot the graph of RAE."
   ]
  },
  {
   "cell_type": "code",
   "execution_count": 9,
   "id": "22ddce24",
   "metadata": {},
   "outputs": [
    {
     "name": "stdout",
     "output_type": "stream",
     "text": [
      "[8.831916066830993e-10, 3.1859430901279106e-10, 4.6426206220003566e-10, 4.503366185995034e-10, 4.530374046285349e-10]\n",
      "[0.950397464454832, 0.2964317960154164, 0.025253797823312756, 0.005498475731334252, 0.00046580900959640356]\n"
     ]
    },
    {
     "data": {
      "image/png": "[encoded data removed]",
      "text/plain": [
       "<Figure size 432x288 with 1 Axes>"
      ]
     },
     "metadata": {
      "needs_background": "light"
     },
     "output_type": "display_data"
    }
   ],
   "source": [
    "# weights function\n",
    "def w_IS(x):\n",
    "    return Gaussian(x, 0, 1) / Gaussian(x, 6, 1)\n",
    "\n",
    "# perform importance sampling to estimate p(y=9)\n",
    "def est_IS(n):\n",
    "    sol = 0\n",
    "    y = 9\n",
    "    for i in range(n):\n",
    "        xi = np.random.normal(6, 1)\n",
    "        wi = w_IS(xi)\n",
    "        sol += wi*Gaussian(9, xi, 1)\n",
    "    return (1/n)*sol\n",
    "\n",
    "# calculate estimator and RAE for different values of N\n",
    "EST_IS = []\n",
    "RAE_IS = []\n",
    "for j in range(len(N)):\n",
    "    estj_IS = est_IS(N[j])\n",
    "    solj_IS = abs(estj_IS-p)/abs(p)\n",
    "    EST_IS.append(estj_IS)\n",
    "    RAE_IS.append(solj_IS)\n",
    "\n",
    "# print the results and plot\n",
    "print(EST_IS)\n",
    "print(RAE_IS)\n",
    "plt.loglog(N, RAE_IS)\n",
    "plt.title(\"RAE of p(y=9|x) by Importance Sampling marginal likelihood estimation\")\n",
    "plt.xlabel(\"Numbers of samples\") \n",
    "plt.ylabel(\"RAE\") \n",
    "plt.show()"
   ]
  },
  {
   "cell_type": "markdown",
   "id": "52415a77",
   "metadata": {},
   "source": [
    "### 4. Compare the RAE for MC and IS"
   ]
  },
  {
   "cell_type": "code",
   "execution_count": 10,
   "id": "c7fa1a42",
   "metadata": {},
   "outputs": [
    {
     "data": {
      "image/png": "[encoded data removed]",
      "text/plain": [
       "<Figure size 432x288 with 1 Axes>"
      ]
     },
     "metadata": {
      "needs_background": "light"
     },
     "output_type": "display_data"
    }
   ],
   "source": [
    "plt.loglog(N, RAE_MC, label='MC')\n",
    "plt.loglog(N, RAE_IS, label='IS')\n",
    "plt.title(\"RAE of p(y=9|x) by MC and IS\")\n",
    "plt.xlabel(\"Numbers of samples\") \n",
    "plt.ylabel(\"RAE\") \n",
    "plt.legend()\n",
    "plt.show()"
   ]
  },
  {
   "cell_type": "markdown",
   "id": "149d74fa",
   "metadata": {},
   "source": [
    "From the graph above, we can see that RAE values of Importance Sampling Estimation is smaller than Monte Carlo Estimation. And when $N$ becomes large, RAE values of Importance Sampling Estimation decays faster.  Therefore, the Importance Sampling method is more accurate."
   ]
  },
  {
   "cell_type": "markdown",
   "id": "582e943c",
   "metadata": {},
   "source": [
    "## Q2: Metropolis-Hastings for 1D Source Localisation "
   ]
  },
  {
   "cell_type": "markdown",
   "id": "f21daf13",
   "metadata": {},
   "source": [
    "### 1. Describe the model, derive acceptance ratio and descirbe the MH algorithm."
   ]
  },
  {
   "cell_type": "markdown",
   "id": "584caf06",
   "metadata": {},
   "source": [
    "There are three sensors on locations $s_0$, $s_1$ and $s_2$. We define the distribution of distance of hidden object to the three sensors and try to estimate the posterior distribution of the hidden object by Metropolis-Hastings."
   ]
  },
  {
   "cell_type": "markdown",
   "id": "b4163ee8",
   "metadata": {},
   "source": [
    "The distribution over the location of the hidden object is proportional to the product of disrtibution of observed values and the prior: \n",
    "$$\n",
    "p\\left(x|y_1,y_2,y_3,s_1,s_2,s_3\\right) = \\frac{\\prod_{i=1}^{3}p\\left(y_i|x,s_i\\right)p\\left(x\\right)}{p\\left(y_{i:3}\\right)}\\\\\n",
    "p\\left(x|y_1,y_2,y_3,s_1,s_2,s_3\\right)\\propto p\\left(x\\right)\\prod_{i=1}^{3}p\\left(y_i|x,s_i\\right)\n",
    "$$\n",
    "Therefore, we can set the unnormalised posterior density \n",
    "$$\n",
    "\\bar{p}_* \\left(x|y_1,y_2,y_3,s_1,s_2,s_3\\right) = p\\left(x\\right)\\prod_{i=1}^{3}p\\left(y_i|x,s_i\\right)\n",
    "$$\n",
    "Since we have a symmetric proposal, we can derive the acceptance ratio as follow:\n",
    "\n",
    "$$\n",
    "r\\left(x, x'\\right)=\\frac{p_*\\left(x'\\right)q\\left(x|x'\\right)}{p_*\\left(x\\right)q\\left(x'|x\\right)}=\\frac{p_*\\left(x'\\right)q\\left(x'|x\\right)}{p_*\\left(x\\right)q\\left(x'|x\\right)}=\\frac{p_*\\left(x'\\right)}{p_*\\left(x\\right)}\\\\\n",
    "r\\left(x, x'\\right)=\\frac{\\bar{p}_*\\left(x'|y, s\\right)}{\\bar{p}_*\\left(x|y, s\\right)}=\\frac{p\\left(x'\\right)p\\left(y_1|x', s_1\\right)p\\left(y_2|x', s_2\\right)p\\left(y_3|x', s_3\\right)}{p\\left(x\\right)p\\left(y_1|x, s_1\\right)p\\left(y_2|x, s_2\\right)p\\left(y_3|x, s_3\\right)}\n",
    "$$\n"
   ]
  },
  {
   "cell_type": "markdown",
   "id": "5bbeb986",
   "metadata": {},
   "source": [
    "The log acceptance ratio is\n",
    "\n",
    "$$\n",
    "\\text{log}r\\left(x, x'\\right)= \\text{log}p\\left(x'\\right)+\\text{log}p\\left(y_1|x', s_1\\right)+\\text{log}p\\left(y_2|x', s_2\\right)+\\text{log}p\\left(y_3|x', s_3\\right)\n",
    "\\\\\n",
    "-\\text{log}p\\left(x\\right)-\\text{log}p\\left(y_1|x, s_1\\right)-\\text{log}p\\left(y_2|x, s_2\\right)-\\text{log}p\\left(y_3|x, s_3\\right)\n",
    "$$\n",
    "\n",
    "Therefore, we derived the acceptance ratio for the unnormalised posterior using the prior, likelihood, and the symmetric proposal."
   ]
  },
  {
   "cell_type": "markdown",
   "id": "27c7755e",
   "metadata": {},
   "source": [
    "For the MH algorithm, we first sample $X'$ from proposal $q\\left(x'|X_{n-1}\\right)$. Then sample from uniform distribution $U \\sim \\textrm{Unif} \\left(0,1\\right)$. If $U$ is less than or equal to the acceptance ratio, we accept $X'$ and take $X_{N}=X'$. Otherwise, reject the sample and set $X_{N}=X_{N-1}$. Discard first burnin samples for the system to be stationary and return the remaining samples."
   ]
  },
  {
   "cell_type": "markdown",
   "id": "7aaeb0b4",
   "metadata": {},
   "source": [
    "### 2. Plot the histogram of samples and comment on effect of $\\sigma_q$."
   ]
  },
  {
   "cell_type": "code",
   "execution_count": 10,
   "id": "9fbe4e8e",
   "metadata": {},
   "outputs": [
    {
     "data": {
      "image/png": "[encoded data removed]",
      "text/plain": [
       "<Figure size 432x288 with 1 Axes>"
      ]
     },
     "metadata": {
      "needs_background": "light"
     },
     "output_type": "display_data"
    },
    {
     "data": {
      "image/png": "[encoded data removed]",
      "text/plain": [
       "<Figure size 432x288 with 1 Axes>"
      ]
     },
     "metadata": {
      "needs_background": "light"
     },
     "output_type": "display_data"
    }
   ],
   "source": [
    "# define the log pdf function of Gaussian\n",
    "def logGaussian(x, mu, sigma):\n",
    "    return -np.log(sigma) - np.log(2*np.pi)/2 - (((x-mu)/sigma)**2)/2\n",
    "\n",
    "# Metropolis Hastings method\n",
    "def MHmethod(n, x0, sigmaq, sigmay, y0, y1, y2):\n",
    "    x = x0\n",
    "    sol = []\n",
    "    for i in range(n):\n",
    "        # sample X' from proposal\n",
    "        xp = np.random.normal(x, sigmaq)\n",
    "        # calculate acceptance ratio\n",
    "        r = logGaussian(xp, 0, 10) + logGaussian(y0, abs(xp - (-1)), sigmay) + logGaussian(y1, abs(xp - 2), sigmay)+ \\\n",
    "            logGaussian(y2, abs(xp - 5), sigmay) - logGaussian(x, 0, 10) - logGaussian(y0, abs(x - (-1)), sigmay) - \\\n",
    "            logGaussian(y1, abs(x - 2), sigmay) - logGaussian(y2, abs(x - 5), sigmay)\n",
    "        # sample U from uniform distribution\n",
    "        u = np.random.random(1)\n",
    "        if np.log(u) <= r:\n",
    "            x = xp\n",
    "        else:\n",
    "            x = x\n",
    "        sol.append(x)\n",
    "    return sol\n",
    "\n",
    "# for sigma_q = 0.1, burnin period = 1000, N = 100000\n",
    "x_true = 4\n",
    "h1 = MHmethod(100000, 10, 0.1, 1, 4.44, 2.51, 0.73)\n",
    "plt.axvline(x_true , color='k', label='true value', linewidth=2) # plot the true value vertically\n",
    "plt.hist(h1[1000:100000], bins=50 , density=True , label='posterior', alpha=0.5, color=[0.8, 0, 0]) # Histogram of samples by MH\n",
    "plt.title(\"Histogram when $\\sigma_q = 0.1$\")\n",
    "plt.xlim((2,6))\n",
    "plt.legend()\n",
    "plt.show ()\n",
    "\n",
    "\n",
    "# for sigma_q = 0.01, burnin period = 20000, N = 1000000\n",
    "h2 = MHmethod(1000000, 10, 0.01, 1, 4.44, 2.51, 0.73)\n",
    "plt.axvline(x_true , color='k', label='true value', linewidth=2) # plot the true value vertically\n",
    "plt.hist(h2[20000:1000000], bins=50 , density=True , label='posterior', alpha=0.5, color=[0.8, 0, 0]) # Histogram of samples by MH\n",
    "plt.title(\"Histogram when $\\sigma_q = 0.01$\")\n",
    "plt.xlim((2,6))\n",
    "plt.legend()\n",
    "plt.show()"
   ]
  },
  {
   "cell_type": "markdown",
   "id": "ebef0036",
   "metadata": {},
   "source": [
    "And when $\\sigma_q$ is smaller, sample $X'$ will be closer to $X$, the acceptance ratio will be smaller. There will be more new sample $X'$ rejected and $X_{i+1}=X_{i}$ so it takes more iterations to reach stationary, and longer burnin period and larger value of $N$ are needed. "
   ]
  },
  {
   "cell_type": "markdown",
   "id": "46b0a0ac",
   "metadata": {},
   "source": [
    "### 3. Comment on effect of values of $\\{y_i\\}_{i=1,2,3}$."
   ]
  },
  {
   "cell_type": "code",
   "execution_count": 11,
   "id": "1591d48c",
   "metadata": {},
   "outputs": [
    {
     "data": {
      "image/png": "[encoded data removed]",
      "text/plain": [
       "<Figure size 432x288 with 1 Axes>"
      ]
     },
     "metadata": {
      "needs_background": "light"
     },
     "output_type": "display_data"
    }
   ],
   "source": [
    "# for sigma_q = 0.1, burnin period = 1000, N = 100000, sigma_y = 0.1, y0 = 5.01, y1 = 1.97, y2 = 1.02.\n",
    "h3 = MHmethod(100000, 10, 0.1, 0.1, 5.01, 1.97, 1.02)\n",
    "plt.axvline(x_true , color='k', label='true value', linewidth=2) # plot the true value vertically\n",
    "plt.hist(h3[1000:100000], bins=50 , density=True , label='posterior', alpha=0.5, color=[0.8, 0, 0]) # Histogram of samples by MH\n",
    "plt.title(\"Histogram when $\\sigma_q = 0.1$, $\\sigma_y = 0.1$ and new values of $y$\")\n",
    "plt.legend()\n",
    "plt.show()"
   ]
  },
  {
   "cell_type": "markdown",
   "id": "a3dad917",
   "metadata": {},
   "source": [
    "The samples sampled from MH method are more concentrate around true position $x_{\\textrm{true}} = 4$. The variance of samples are smaller. As $y_i$ is closer to $||x_{\\text{true}}-s_i||$ and $\\sigma_y$ is smalle, the model will be more accurate."
   ]
  }
 ],
 "metadata": {
  "kernelspec": {
   "display_name": "Python 3",
   "language": "python",
   "name": "python3"
  },
  "language_info": {
   "codemirror_mode": {
    "name": "ipython",
    "version": 3
   },
   "file_extension": ".py",
   "mimetype": "text/x-python",
   "name": "python",
   "nbconvert_exporter": "python",
   "pygments_lexer": "ipython3",
   "version": "3.8.8"
  }
 },
 "nbformat": 4,
 "nbformat_minor": 5
}
