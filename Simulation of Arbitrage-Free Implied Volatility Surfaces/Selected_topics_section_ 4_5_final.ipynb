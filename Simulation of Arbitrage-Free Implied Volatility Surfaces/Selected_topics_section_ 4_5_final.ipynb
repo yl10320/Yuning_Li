{
  "nbformat": 4,
  "nbformat_minor": 0,
  "metadata": {
    "colab": {
      "provenance": []
    },
    "kernelspec": {
      "name": "python3",
      "display_name": "Python 3"
    },
    "language_info": {
      "name": "python"
    }
  },
  "cells": [
    {
      "cell_type": "code",
      "source": [
        "import numpy as np\n",
        "import matplotlib.pyplot as plt\n",
        "from scipy.stats import norm"
      ],
      "metadata": {
        "id": "btxHN_XZ3SFZ"
      },
      "execution_count": 2,
      "outputs": []
    },
    {
      "cell_type": "markdown",
      "source": [
        "We set all the parameters we need"
      ],
      "metadata": {
        "id": "SH7-Ystp-yaH"
      }
    },
    {
      "cell_type": "code",
      "source": [
        "# Parameters\n",
        "np.random.seed(42) # For reproducibility\n",
        "N = 100  # Number of paths/simulations\n",
        "T = 1  # Time horizon in years\n",
        "dt = 1/N # Time interval\n",
        "M = 100  # Number of time steps\n",
        "\n",
        "tao = [0.1,0.2,0.3,0.5,0.7,1.0] #time to maturity grid\n",
        "m = [0.1,0.3,0.7,1.0,1.5,2.0,5.0] # moneyness grid\n",
        "\n",
        "S0 = 100  # Initial stock price\n",
        "mu = 0.05\n",
        "sigma = 0.2  # Volatility\n",
        "r = 0.001 #interest rate"
      ],
      "metadata": {
        "id": "1wQmR86q3dww"
      },
      "execution_count": 3,
      "outputs": []
    },
    {
      "cell_type": "markdown",
      "source": [
        "We simulate our paths with the assumption that arbitrage exists"
      ],
      "metadata": {
        "id": "ArSNeE0G-9Cg"
      }
    },
    {
      "cell_type": "code",
      "source": [
        "\n",
        "# Simulate paths using Geometric Brownian Motion with Jumps\n",
        "def StockPath():\n",
        "    lambda_ = 10  # average number of jumps per year\n",
        "    mu_j = -1    # average jump size\n",
        "    sigma_j = 0.5  # jump size volatility\n",
        "\n",
        "    S = np.zeros(M)\n",
        "    S[0] = S0\n",
        "\n",
        "    for i in range(1, M):\n",
        "        Z = np.random.standard_normal()\n",
        "        J = np.random.standard_normal() #jump\n",
        "        N_j = np.random.poisson(lambda_ * dt) # number of jumps\n",
        "\n",
        "        S[i] = S[i-1] * (np.exp((mu - 0.5 * sigma**2) * dt + sigma * np.sqrt(dt) * Z) + N_j * (np.exp(mu_j + sigma_j * J) - 1))\n",
        "    return S\n",
        "#N samples each with M steps\n",
        "S = np.zeros((N,M))\n",
        "for i in range(N):\n",
        "    S[i] = StockPath()"
      ],
      "metadata": {
        "id": "vmVgvQne3hm6"
      },
      "execution_count": 4,
      "outputs": []
    },
    {
      "cell_type": "markdown",
      "source": [
        "We strictly follow the steps outlined in the paper, where we use the BS Merton to calculate the penalty functions"
      ],
      "metadata": {
        "id": "BJp3A7SA_C_i"
      }
    },
    {
      "cell_type": "code",
      "source": [
        "\n",
        "# calculate c\n",
        "def c(S,m,tao,r,sigma):\n",
        "    d1 = (-np.log(m) + (r + 0.5 * (sigma**2)) * tao) / (sigma * np.sqrt(tao))\n",
        "    d2 = d1 - sigma * np.sqrt(tao)\n",
        "    grid = S * norm.cdf(d1) - m * S * np.exp(-r * tao) * norm.cdf(d2)\n",
        "    return grid\n",
        "\n",
        "# calculate penalty\n",
        "def penalty_function(S,m,tao,r,sigma):\n",
        "    p = 0\n",
        "    l1 = len(m)\n",
        "    l2=len(tao)\n",
        "    for i in range(l1):\n",
        "        for j in range(l2-1):\n",
        "            temp1 = tao[j]*(c(S,m[i],tao[j],r,sigma)-c(S,m[i],tao[j+1],r,sigma))/(tao[j+1]-tao[j])\n",
        "            p += (temp1>0) * temp1\n",
        "    for i in range(l1-1):\n",
        "        for j in range(l2):\n",
        "            temp1 = (c(S,m[i+1],tao[j],r,sigma)-c(S,m[i],tao[j],r,sigma))/(m[i+1]-m[i])\n",
        "            p += (temp1>0) * temp1\n",
        "\n",
        "    for i in range(1,l1-1):\n",
        "        for j in range(l2):\n",
        "            temp1 = (c(S,m[i],tao[j],r,sigma)-c(S,m[i-1],tao[j],r,sigma))/(m[i]-m[i-1]) - (c(S,m[i+1],tao[j],r,sigma)-c(S,m[i],tao[j],r,sigma))/(m[i+1]-m[i])\n",
        "            p += (temp1>0) * temp1\n",
        "    return p"
      ],
      "metadata": {
        "id": "VSX-GLKT3iyQ"
      },
      "execution_count": 5,
      "outputs": []
    },
    {
      "cell_type": "markdown",
      "source": [
        "We count the number of simulations that is not arbitrage free"
      ],
      "metadata": {
        "id": "XAVhehLf_Trx"
      }
    },
    {
      "cell_type": "code",
      "source": [
        "# penalties for initial sample\n",
        "penalties = np.zeros((N,1))\n",
        "for i in range(N):\n",
        "    for j in range(M):\n",
        "        penalties[i] += penalty_function(S[i][j],m,tao,0.1,0.5)\n",
        "\n",
        "print(np.count_nonzero(penalties))"
      ],
      "metadata": {
        "colab": {
          "base_uri": "https://localhost:8080/"
        },
        "id": "xB9MSFxx3mNH",
        "outputId": "636eef70-46da-46bd-8b04-c4c3452173a7"
      },
      "execution_count": 6,
      "outputs": [
        {
          "output_type": "stream",
          "name": "stdout",
          "text": [
            "24\n"
          ]
        }
      ]
    },
    {
      "cell_type": "markdown",
      "source": [
        "We choose a few beta to see how hard the arbitrage penalisation is and how that gives us arbitrage free new samples"
      ],
      "metadata": {
        "id": "B2_bwJ_K_S5r"
      }
    },
    {
      "cell_type": "code",
      "source": [
        "b = 0.01 #beta is how much we are penalizing the arbitrage paths\n",
        "new_penalties = np.exp(-b*penalties)/np.sum(np.exp(-b*penalties)) #this is the reweighting\n",
        "index = np.random.choice(np.arange(0, N), N, p=list(new_penalties[:,0])) #we sample again according to the reweighting\n",
        "re_S = np.zeros((N,M))\n",
        "for i in range(N):\n",
        "    re_S[i] = S[index[i]]\n",
        "\n",
        "re_penalties = np.zeros((N,1))\n",
        "for i in range(N):\n",
        "    for j in range(M):\n",
        "        re_penalties[i] += penalty_function(re_S[i][j],m,tao,0.1,0.5) # we calculate the arbitrage penalties again for our new sample with re-estimated parameter\n",
        "print(np.count_nonzero(re_penalties))\n",
        "re = np.exp(-b*re_penalties)/np.nansum(np.exp(-b*re_penalties))\n",
        "e = - N * np.log(N) - N * np.nansum(new_penalties * np.log(new_penalties))#relative entropy\n",
        "print(e)\n",
        "print(np.quantile(re_penalties,0.9))\n",
        "print(np.quantile(re_penalties,0.95))\n",
        "print(np.quantile(re_penalties,0.99))"
      ],
      "metadata": {
        "colab": {
          "base_uri": "https://localhost:8080/"
        },
        "id": "kqvrEP8u35QX",
        "outputId": "2dc6bc06-b65e-4b1f-c9a1-48d3d84666e8"
      },
      "execution_count": 7,
      "outputs": [
        {
          "output_type": "stream",
          "name": "stdout",
          "text": [
            "14\n",
            "-15.600059069465374\n",
            "1.6940948873525872\n",
            "4.655978864613573\n",
            "99.84446743607768\n"
          ]
        }
      ]
    },
    {
      "cell_type": "code",
      "source": [
        "b = 0.01\n",
        "new_penalties = np.exp(-b*penalties)/np.sum(np.exp(-b*penalties))\n",
        "index = np.random.choice(np.arange(0, N), N, p=list(new_penalties[:,0]))\n",
        "re_S = np.zeros((N,M))\n",
        "for i in range(N):\n",
        "    re_S[i] = S[index[i]]\n",
        "\n",
        "re_penalties = np.zeros((N,1))\n",
        "for i in range(N):\n",
        "    for j in range(M):\n",
        "        re_penalties[i] += penalty_function(re_S[i][j],m,tao,0.1,0.5)\n",
        "print(np.count_nonzero(re_penalties))\n",
        "e = - N * np.log(N) - N * np.nansum(new_penalties * np.log(new_penalties))\n",
        "print(e)\n",
        "print(np.quantile(re_penalties,0.9))\n",
        "print(np.quantile(re_penalties,0.95))\n",
        "print(np.quantile(re_penalties,0.99))"
      ],
      "metadata": {
        "colab": {
          "base_uri": "https://localhost:8080/"
        },
        "id": "LslAGjHyRt34",
        "outputId": "fa0a586d-b43f-438a-9e3e-cc2b9a2bcaf1"
      },
      "execution_count": 12,
      "outputs": [
        {
          "output_type": "stream",
          "name": "stdout",
          "text": [
            "13\n",
            "-15.600059069465374\n",
            "0.013638886701949236\n",
            "1.6940948873525872\n",
            "5.921174611578969\n"
          ]
        }
      ]
    },
    {
      "cell_type": "markdown",
      "source": [],
      "metadata": {
        "id": "S2AtbcbE_bbo"
      }
    },
    {
      "cell_type": "code",
      "source": [
        "b = 0.1\n",
        "new_penalties = np.exp(-b*penalties)/np.sum(np.exp(-b*penalties))\n",
        "index = np.random.choice(np.arange(0, N), N, p=list(new_penalties[:,0]))\n",
        "re_S = np.zeros((N,M))\n",
        "for i in range(N):\n",
        "    re_S[i] = S[index[i]]\n",
        "\n",
        "re_penalties = np.zeros((N,1))\n",
        "for i in range(N):\n",
        "    for j in range(M):\n",
        "        re_penalties[i] += penalty_function(re_S[i][j],m,tao,0.1,0.5)\n",
        "print(np.count_nonzero(re_penalties))\n",
        "e = - N * np.log(N) - N * np.nansum(new_penalties * np.log(new_penalties))\n",
        "print(e)\n",
        "print(np.quantile(re_penalties,0.9))\n",
        "print(np.quantile(re_penalties,0.95))\n",
        "print(np.quantile(re_penalties,0.99))"
      ],
      "metadata": {
        "colab": {
          "base_uri": "https://localhost:8080/"
        },
        "id": "puWin0V136jn",
        "outputId": "d8c28cc7-448a-482f-cc07-01b719037806"
      },
      "execution_count": 8,
      "outputs": [
        {
          "output_type": "stream",
          "name": "stdout",
          "text": [
            "4\n",
            "-18.885897517126523\n",
            "0.0\n",
            "0.0\n",
            "4.459104885567936\n"
          ]
        },
        {
          "output_type": "stream",
          "name": "stderr",
          "text": [
            "<ipython-input-8-a2518bf5ecbd>:13: RuntimeWarning: divide by zero encountered in log\n",
            "  e = - N * np.log(N) - N * np.nansum(new_penalties * np.log(new_penalties))\n",
            "<ipython-input-8-a2518bf5ecbd>:13: RuntimeWarning: invalid value encountered in multiply\n",
            "  e = - N * np.log(N) - N * np.nansum(new_penalties * np.log(new_penalties))\n"
          ]
        }
      ]
    },
    {
      "cell_type": "code",
      "source": [
        "b = 1\n",
        "new_penalties = np.exp(-b*penalties)/np.sum(np.exp(-b*penalties))\n",
        "index = np.random.choice(np.arange(0, N), N, p=list(new_penalties[:,0]))\n",
        "re_S = np.zeros((N,M))\n",
        "for i in range(N):\n",
        "    re_S[i] = S[index[i]]\n",
        "\n",
        "re_penalties = np.zeros((N,1))\n",
        "for i in range(N):\n",
        "    for j in range(M):\n",
        "        re_penalties[i] += penalty_function(re_S[i][j],m,tao,0.1,0.5)\n",
        "print(np.count_nonzero(re_penalties))\n",
        "e = - N * np.log(N) - N * np.nansum(new_penalties * np.log(new_penalties))\n",
        "print(e)\n",
        "print(np.quantile(re_penalties,0.9))\n",
        "print(np.quantile(re_penalties,0.95))\n",
        "print(np.quantile(re_penalties,0.99))"
      ],
      "metadata": {
        "colab": {
          "base_uri": "https://localhost:8080/"
        },
        "id": "LyZmpTUE39i_",
        "outputId": "be008028-c7bb-4e2f-ba97-62d087478224"
      },
      "execution_count": 9,
      "outputs": [
        {
          "output_type": "stream",
          "name": "stdout",
          "text": [
            "5\n",
            "-22.756504502817677\n",
            "0.0\n",
            "0.015264484546182388\n",
            "0.30630393236183645\n"
          ]
        },
        {
          "output_type": "stream",
          "name": "stderr",
          "text": [
            "<ipython-input-9-df7beca1541c>:13: RuntimeWarning: divide by zero encountered in log\n",
            "  e = - N * np.log(N) - N * np.nansum(new_penalties * np.log(new_penalties))\n",
            "<ipython-input-9-df7beca1541c>:13: RuntimeWarning: invalid value encountered in multiply\n",
            "  e = - N * np.log(N) - N * np.nansum(new_penalties * np.log(new_penalties))\n"
          ]
        }
      ]
    },
    {
      "cell_type": "code",
      "source": [
        "b = 10\n",
        "new_penalties = np.exp(-b*penalties)/np.sum(np.exp(-b*penalties))\n",
        "index = np.random.choice(np.arange(0, N), N, p=list(new_penalties[:,0]))\n",
        "re_S = np.zeros((N,M))\n",
        "for i in range(N):\n",
        "    re_S[i] = S[index[i]]\n",
        "\n",
        "re_penalties = np.zeros((N,1))\n",
        "for i in range(N):\n",
        "    for j in range(M):\n",
        "        re_penalties[i] += penalty_function(re_S[i][j],m,tao,0.1,0.5)\n",
        "print(np.count_nonzero(re_penalties))\n",
        "e = - N * np.log(N) - N * np.nansum(new_penalties * np.log(new_penalties))\n",
        "print(e)\n",
        "print(np.quantile(re_penalties,0.9))\n",
        "print(np.quantile(re_penalties,0.95))\n",
        "print(np.quantile(re_penalties,0.99))"
      ],
      "metadata": {
        "colab": {
          "base_uri": "https://localhost:8080/"
        },
        "id": "-ZhIt7mi3-4A",
        "outputId": "c354ef9d-fa80-43a2-d52c-64cb60d80c3f"
      },
      "execution_count": 11,
      "outputs": [
        {
          "output_type": "stream",
          "name": "stdout",
          "text": [
            "0\n",
            "-25.78593336737822\n",
            "0.0\n",
            "0.0\n",
            "0.0\n"
          ]
        },
        {
          "output_type": "stream",
          "name": "stderr",
          "text": [
            "<ipython-input-11-cb8f5eec0fa9>:13: RuntimeWarning: divide by zero encountered in log\n",
            "  e = - N * np.log(N) - N * np.nansum(new_penalties * np.log(new_penalties))\n",
            "<ipython-input-11-cb8f5eec0fa9>:13: RuntimeWarning: invalid value encountered in multiply\n",
            "  e = - N * np.log(N) - N * np.nansum(new_penalties * np.log(new_penalties))\n"
          ]
        }
      ]
    },
    {
      "cell_type": "code",
      "source": [
        "\n",
        "\n",
        "hist, bin_edges = np.histogram(N*new_penalties, bins=10)\n",
        "plt.figure(figsize=(10, 6))\n",
        "plt.hist(N*new_penalties, bins=10, alpha=0.75, color='blue', edgecolor='black')\n",
        "plt.title('Histogram of Weights, beta = 10')\n",
        "plt.xlabel('Value')\n",
        "plt.ylabel('Frequency')\n",
        "plt.show()"
      ],
      "metadata": {
        "colab": {
          "base_uri": "https://localhost:8080/",
          "height": 564
        },
        "id": "W1amhAEm2XeZ",
        "outputId": "920487a6-93a9-4814-9afe-f6d40b25daeb"
      },
      "execution_count": 8,
      "outputs": [
        {
          "output_type": "display_data",
          "data": {
            "text/plain": [
              "<Figure size 1000x600 with 1 Axes>"
            ],
            "image/png": "[encoded data removed]"
          },
          "metadata": {}
        }
      ]
    },
    {
      "cell_type": "code",
      "source": [
        "b = 100\n",
        "new_penalties = np.exp(-b*penalties)/np.sum(np.exp(-b*penalties))\n",
        "index = np.random.choice(np.arange(0, N), N, p=list(new_penalties[:,0]))\n",
        "re_S = np.zeros((N,M))\n",
        "for i in range(N):\n",
        "    re_S[i] = S[index[i]]\n",
        "\n",
        "re_penalties = np.zeros((N,1))\n",
        "for i in range(N):\n",
        "    for j in range(M):\n",
        "        re_penalties[i] += penalty_function(re_S[i][j],m,tao,0.1,0.5)\n",
        "print(np.count_nonzero(re_penalties))\n",
        "e = - N * np.log(N) - N * np.nansum(new_penalties * np.log(new_penalties))\n",
        "print(e)\n",
        "print(np.quantile(re_penalties,0.9))\n",
        "print(np.quantile(re_penalties,0.95))\n",
        "print(np.quantile(re_penalties,0.99))"
      ],
      "metadata": {
        "colab": {
          "base_uri": "https://localhost:8080/"
        },
        "id": "rBc-yFIe4Ab-",
        "outputId": "98ec81db-dd9d-4f8b-b6d8-aaa6dd8c6b34"
      },
      "execution_count": 9,
      "outputs": [
        {
          "output_type": "stream",
          "name": "stdout",
          "text": [
            "0\n",
            "-26.650573251477113\n",
            "0.0\n",
            "0.0\n",
            "0.0\n"
          ]
        },
        {
          "output_type": "stream",
          "name": "stderr",
          "text": [
            "<ipython-input-9-d858cea0f544>:13: RuntimeWarning: divide by zero encountered in log\n",
            "  e = - N * np.log(N) - N * np.nansum(new_penalties * np.log(new_penalties))\n",
            "<ipython-input-9-d858cea0f544>:13: RuntimeWarning: invalid value encountered in multiply\n",
            "  e = - N * np.log(N) - N * np.nansum(new_penalties * np.log(new_penalties))\n"
          ]
        }
      ]
    },
    {
      "cell_type": "code",
      "source": [
        "b = 1000\n",
        "new_penalties = np.exp(-b*penalties)/np.sum(np.exp(-b*penalties))\n",
        "index = np.random.choice(np.arange(0, N), N, p=list(new_penalties[:,0]))\n",
        "re_S = np.zeros((N,M))\n",
        "for i in range(N):\n",
        "    re_S[i] = S[index[i]]\n",
        "\n",
        "re_penalties = np.zeros((N,1))\n",
        "for i in range(N):\n",
        "    for j in range(M):\n",
        "        re_penalties[i] += penalty_function(re_S[i][j],m,tao,0.1,0.5)\n",
        "print(np.count_nonzero(re_penalties))\n",
        "e = - N * np.log(N) - N * np.nansum(new_penalties * np.log(new_penalties))\n",
        "print(e)\n",
        "print(np.quantile(re_penalties,0.9))\n",
        "print(np.quantile(re_penalties,0.95))\n",
        "print(np.quantile(re_penalties,0.99))"
      ],
      "metadata": {
        "colab": {
          "base_uri": "https://localhost:8080/"
        },
        "id": "0MggWXdydYXP",
        "outputId": "a419f312-2306-4690-be4a-3458622d7a33"
      },
      "execution_count": 10,
      "outputs": [
        {
          "output_type": "stream",
          "name": "stdout",
          "text": [
            "0\n",
            "-27.44366158746709\n",
            "0.0\n",
            "0.0\n",
            "0.0\n"
          ]
        },
        {
          "output_type": "stream",
          "name": "stderr",
          "text": [
            "<ipython-input-10-95387ac15311>:13: RuntimeWarning: divide by zero encountered in log\n",
            "  e = - N * np.log(N) - N * np.nansum(new_penalties * np.log(new_penalties))\n",
            "<ipython-input-10-95387ac15311>:13: RuntimeWarning: invalid value encountered in multiply\n",
            "  e = - N * np.log(N) - N * np.nansum(new_penalties * np.log(new_penalties))\n"
          ]
        }
      ]
    }
  ]
}