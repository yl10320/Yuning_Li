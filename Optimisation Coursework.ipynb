{
 "cells": [
  {
   "cell_type": "markdown",
   "id": "2b27b7e3",
   "metadata": {},
   "source": [
    "# Optimisation Coursework\n",
    "## 2022-11-24"
   ]
  },
  {
   "cell_type": "markdown",
   "id": "92a30da9",
   "metadata": {},
   "source": [
    "#### CID: 01868678"
   ]
  },
  {
   "cell_type": "code",
   "execution_count": 1,
   "id": "0b9398be",
   "metadata": {},
   "outputs": [],
   "source": [
    "import numpy as np\n",
    "import matplotlib.pyplot as plt"
   ]
  },
  {
   "cell_type": "markdown",
   "id": "31234561",
   "metadata": {},
   "source": [
    "### Answer to Part I"
   ]
  },
  {
   "cell_type": "markdown",
   "id": "0cb45d6c",
   "metadata": {},
   "source": [
    "#### (i)"
   ]
  },
  {
   "cell_type": "markdown",
   "id": "6d6b1ce2",
   "metadata": {},
   "source": [
    "Define continuous function $f$ as follow:"
   ]
  },
  {
   "cell_type": "markdown",
   "id": "84ccceb1",
   "metadata": {},
   "source": [
    "$$\n",
    "f\\left(y_1,y_2\\right)=\\left(y_1^2-y_2\\right)^2\n",
    "$$"
   ]
  },
  {
   "cell_type": "markdown",
   "id": "db5fa798",
   "metadata": {},
   "source": [
    "This function is not coercive. Since for all $y_1^2 = y_2$, when ${||y||} \\to\\infty$, $\\lim\\limits_{{||y||} \\to\\infty}f\\left(y\\right) = 0$."
   ]
  },
  {
   "cell_type": "markdown",
   "id": "a4858c7c",
   "metadata": {},
   "source": [
    "$$\n",
    "\\lim\\limits_{{|x_1|} \\to\\infty} f\\left(x_1, \\alpha x_1\\right) = \\left(x_1^2-\\alpha x_1\\right)^2 = \\left(x_1-\\alpha \\right)^2x_1^2\n",
    "\\\\\n",
    "\\lim\\limits_{{|x_2|} \\to\\infty} f\\left(\\alpha x_2,  x_2\\right) = \\left(\\alpha ^2 x_2^2 - x_2\\right)^2 = \\left(\\alpha ^2 x_2 - 1\\right)^2x_2^2\n",
    "$$"
   ]
  },
  {
   "cell_type": "markdown",
   "id": "90838272",
   "metadata": {},
   "source": [
    "When ${|x_1|} \\to\\infty$, both $\\left(x_1-\\alpha \\right)^2\\to\\infty$ and $x_1^2\\to\\infty$, so $\\lim\\limits_{{|x_1|} \\to\\infty} f\\left(x_1, \\alpha x_1\\right) = \\infty$. Similarly, when ${|x_2|} \\to\\infty$, both $\\left(\\alpha ^2 x_2 - 1 \\right)^2\\to\\infty$ and $x_2^2\\to\\infty$, so $\\lim\\limits_{{|x_2|} \\to\\infty} f\\left(\\alpha x_2,  x_2\\right) = \\infty$. The conditions are satisfied."
   ]
  },
  {
   "cell_type": "markdown",
   "id": "6eb36163",
   "metadata": {},
   "source": [
    "#### (ii)"
   ]
  },
  {
   "cell_type": "markdown",
   "id": "654fd352",
   "metadata": {},
   "source": [
    "$$\n",
    "f\\left(x_1,x_2\\right) = 4x_1^4+x_2^2-4x_1^2x_2+4 = \\left(2x_1^2-x_2\\right)^2+4 \\ge 4\n",
    "$$"
   ]
  },
  {
   "cell_type": "markdown",
   "id": "7cd143bc",
   "metadata": {},
   "source": [
    "The stationary points satisfy the following condition:\n",
    "$$\n",
    "\\nabla f = \n",
    "\\begin{pmatrix}\n",
    "16x_1^3-8x_1x_2\\\\\n",
    "2x_2-4x_1^2\n",
    "\\end{pmatrix}\n",
    "=0\n",
    "$$"
   ]
  },
  {
   "cell_type": "markdown",
   "id": "2cebe0c9",
   "metadata": {},
   "source": [
    "Either $x_1 = x_2 = 0$ or $2x_1^2 = x_2$."
   ]
  },
  {
   "cell_type": "markdown",
   "id": "ab86481a",
   "metadata": {},
   "source": [
    "Check for the Hessian matrix:\n",
    "$$\n",
    "\\nabla ^2 f = \n",
    "\\begin{pmatrix}\n",
    "48x_1^2-8x_2 & -8x_1\\\\\n",
    "-8x_1 & 2\n",
    "\\end{pmatrix}\n",
    "$$"
   ]
  },
  {
   "cell_type": "markdown",
   "id": "c94b5b5f",
   "metadata": {},
   "source": [
    "When $x = \\left(0,0\\right)$, $\\nabla ^2 f=\n",
    "\\begin{pmatrix}\n",
    "0 & 0 \\\\\n",
    "0 & 2\n",
    "\\end{pmatrix}$ which is positive semi-definite with eigenvalues 0 and 2. By checking $f\\left(0,0\\right) = 4$ and $\\lim \\limits_{||x|| \\to \\infty}f\\left( x\\right) \\to \\infty$, $f$ is coercive and stationary point $\\left(0,0\\right)$ is a global minimum."
   ]
  },
  {
   "cell_type": "markdown",
   "id": "befc7e98",
   "metadata": {},
   "source": [
    "When $x = \\left(x_1, 2x_1^2\\right)$, then $\\nabla ^2 f=\n",
    "\\begin{pmatrix}\n",
    "48x_1^2-16x_1^2 & -8x_1\\\\\n",
    "-8x_1 & 2\n",
    "\\end{pmatrix}$. By checking $f\\left(x_1, 2x_1^2\\right) = 4$ and $\\lim \\limits_{||x|| \\to \\infty}f\\left( x\\right) \\to \\infty$, $f$ is coercive and stationary points $\\left(x_1, 2x_1^2\\right)$ is a global minimum."
   ]
  },
  {
   "cell_type": "markdown",
   "id": "c36881e9",
   "metadata": {},
   "source": [
    "### Answer to Part II"
   ]
  },
  {
   "cell_type": "markdown",
   "id": "17c75a1d",
   "metadata": {},
   "source": [
    "#### (i)"
   ]
  },
  {
   "cell_type": "markdown",
   "id": "f48bed78",
   "metadata": {},
   "source": [
    "As $x_0=\\bar x$ and $x_i = ax_{i-1} + du_i$, we can derive that\n",
    "$$\n",
    "x = Su-b\n",
    "$$\n",
    "where $S = \n",
    "\\begin{pmatrix}\n",
    "d & 0 & 0 & \\cdots & 0\\\\\n",
    "ad & d & 0 & \\cdots & 0\\\\\n",
    "a^2d & ad & d & \\cdots & 0\\\\\n",
    "\\vdots & \\vdots & \\vdots &\\ddots & \\vdots \\\\\n",
    "a^{N-1}d & a^{N-2}d & a^{N-3}d &\\cdots & d\n",
    "\\end{pmatrix}\n",
    "$ and $b = -\n",
    "\\begin{pmatrix}\n",
    "ax_0\\\\\n",
    "a^2x_0\\\\\n",
    "\\vdots\\\\\n",
    "a^{N}x_0\n",
    "\\end{pmatrix}$.\n"
   ]
  },
  {
   "cell_type": "markdown",
   "id": "796b7af4",
   "metadata": {},
   "source": [
    "So the regularised linear least squares problem for $u$ can be expressed as\n",
    "$$\n",
    "\\textrm{min}_{u}||Su-b||_2^2+\\frac{\\gamma}{2}||u||_2^2\n",
    "$$"
   ]
  },
  {
   "cell_type": "markdown",
   "id": "62385566",
   "metadata": {},
   "source": [
    "By lecture notes, the optimal solution is \n",
    "$$\n",
    "u^* = \\left(S^TS+\\frac{\\gamma}{2}I^TI\\right)^{-1}S^Tb\n",
    "$$\n",
    "where $I$ is the identity matrix."
   ]
  },
  {
   "cell_type": "markdown",
   "id": "f54730c7",
   "metadata": {},
   "source": [
    "To ensure $u^*$ exists, we need $S^TS+\\frac{\\gamma}{2}I^TI$ be invertible. By lecture notes 3, the condition $\\textrm{Null}\\left(S\\right)\\cap \\textrm{Null}\\left(I\\right) = \\{0\\}$ is needed to assure $S^TS+\\frac{\\gamma}{2}I^TI$ to be invertible. \n",
    "\\\n",
    "$I$ is just identity matrix, so $\\textrm{Null}\\left(I\\right) = \\{0\\}$. Therefore, we only need $\\textrm{Null}\\left(S\\right) = \\{0\\}$. By the definition of $S$, $\\textrm{Null}\\left(S\\right) = \\{0\\}$ as long as $d \\neq 0$."
   ]
  },
  {
   "cell_type": "markdown",
   "id": "c79b2e79",
   "metadata": {},
   "source": [
    "Since the inverse of matrix is unique, as long as $\\left(S^TS+\\frac{\\gamma}{2}I^TI\\right)^{-1}$ exists, the optimal solution $u^*$ is unique."
   ]
  },
  {
   "cell_type": "markdown",
   "id": "3eaa7b8f",
   "metadata": {},
   "source": [
    "As $u^*$ is the optimal solution of $\\text{min}||x||^2_2 + \\frac{\\gamma}{2}||u||^2_2$, we can derive \n",
    "$$\n",
    "||Su^*-b||^2_2 + \\frac{\\gamma}{2}||u^*||^2_2 \\leq ||Su'-b||^2_2 + \\frac{\\gamma}{2}||u'||^2_2\n",
    "$$\n",
    "for all $u'$."
   ]
  },
  {
   "cell_type": "markdown",
   "id": "61a499df",
   "metadata": {},
   "source": [
    "Similarly as $u$ is the solves the unregularised linear least squares problems, we can derive \n",
    "$$\n",
    "||Su-b||^2_2 \\leq ||Su'-b||^2_2\n",
    "$$\n",
    "for all $u'$."
   ]
  },
  {
   "cell_type": "markdown",
   "id": "1faf1665",
   "metadata": {},
   "source": [
    "Therefore, \n",
    "$$\n",
    "||Su^*-b||^2_2 + \\frac{\\gamma}{2}||u^*||^2_2 -||Su^*-b||^2_2 \\leq ||Su-b||^2_2 + \\frac{\\gamma}{2}||u||^2_2 - ||Su-b||^2_2 \\\\\n",
    "\\frac{\\gamma}{2}||u^*||^2_2 \\leq \\frac{\\gamma}{2}||u||^2_2 \\\\\n",
    "||u^*|| \\leq ||u|| \n",
    "$$"
   ]
  },
  {
   "cell_type": "markdown",
   "id": "f5795ff7",
   "metadata": {},
   "source": [
    "#### (ii)"
   ]
  },
  {
   "cell_type": "code",
   "execution_count": 5,
   "id": "ece299fb",
   "metadata": {
    "scrolled": false
   },
   "outputs": [
    {
     "data": {
      "image/png": "[encoded data removed]",
      "text/plain": [
       "<Figure size 432x288 with 1 Axes>"
      ]
     },
     "metadata": {
      "needs_background": "light"
     },
     "output_type": "display_data"
    },
    {
     "data": {
      "image/png": "[encoded data removed]",
      "text/plain": [
       "<Figure size 432x288 with 1 Axes>"
      ]
     },
     "metadata": {
      "needs_background": "light"
     },
     "output_type": "display_data"
    }
   ],
   "source": [
    "# define initial values\n",
    "N = 40\n",
    "a = 1\n",
    "d = - 0.01\n",
    "xbar = 1\n",
    "\n",
    "# construct matrix S\n",
    "S = np.zeros((N,N))\n",
    "for i in range(N):\n",
    "    for j in range(i+1):\n",
    "        S[i,j] = (a**(i-j))*d\n",
    "\n",
    "# construct array b\n",
    "b = np.zeros(N)\n",
    "for i in range(N):\n",
    "    b[i] = - (a**(i+1))*xbar\n",
    "\n",
    "# solving optimal control signals u\n",
    "gamma = np.array([0.001, 0.01, 0.1, 1])\n",
    "\n",
    "# Plot u from u_1 to u_N\n",
    "for i in range(len(gamma)):\n",
    "    u = np.linalg.inv(S.T@S+(gamma[i]/2)*np.identity(N))@S.T@b\n",
    "    plt.plot(u, label='u when $\\gamma = ${}'.format(gamma[i]))\n",
    "plt.title(\"Optimal Control Signals $u^*$\")\n",
    "plt.ylabel(\"u\")\n",
    "plt.legend()\n",
    "plt.show()\n",
    "\n",
    "# Plot x from x_1 to x_N\n",
    "for i in range(len(gamma)):\n",
    "    u = np.linalg.inv(S.T@S+(gamma[i]/2)*np.identity(N))@S.T@b\n",
    "    x = S@u - b\n",
    "    x = np.insert(x, 0, xbar)\n",
    "    plt.plot(x, label='x when $\\gamma = ${}'.format(gamma[i]))\n",
    "plt.title(\"Associated Optimal Trajectories $x$\")\n",
    "plt.ylabel(\"x\")\n",
    "plt.legend()\n",
    "plt.show()"
   ]
  },
  {
   "cell_type": "markdown",
   "id": "1e72172c",
   "metadata": {},
   "source": [
    "From the graph above, we can see that when $\\gamma$ increases, the control signal $u^*$ has a lower initial value (for $i$ is small) and decays slower, and the optimal trajectory $x$ decays slower and has a higher value at $x_{40}$ (for $i$ is large)."
   ]
  },
  {
   "cell_type": "markdown",
   "id": "ea41f6b9",
   "metadata": {},
   "source": [
    "#### (iii)"
   ]
  },
  {
   "cell_type": "markdown",
   "id": "79ecc972",
   "metadata": {},
   "source": [
    "Use descent direction method with constant stepsize. The stepsize $t^k$ is set to be $t^k = \\bar{t} = 0.1$. The descent direction $d^k$ is chosen to be minus the gradient $d^k = -\\nabla f\\left(u^k\\right)$. Choose $u_0 = \\begin{pmatrix}1 & 1 & \\cdots & 1\\end{pmatrix}$ to be the initial point and $\\epsilon = 0.0001$ to be the tolerance parameter. By gradient method, $u^{k+1} = u^{k}+t^{k}d^{k}$. Stop the iteration until norm of gradient at $u^k$ are less than the tolerance parameter."
   ]
  },
  {
   "cell_type": "code",
   "execution_count": 10,
   "id": "42aca1a9",
   "metadata": {},
   "outputs": [
    {
     "name": "stdout",
     "output_type": "stream",
     "text": [
      "6.43844059655744\n"
     ]
    },
    {
     "data": {
      "image/png": "[encoded data removed]",
      "text/plain": [
       "<Figure size 432x288 with 1 Axes>"
      ]
     },
     "metadata": {
      "needs_background": "light"
     },
     "output_type": "display_data"
    },
    {
     "data": {
      "image/png": "[encoded data removed]",
      "text/plain": [
       "<Figure size 432x288 with 1 Axes>"
      ]
     },
     "metadata": {
      "needs_background": "light"
     },
     "output_type": "display_data"
    }
   ],
   "source": [
    "# define initial values\n",
    "N = 40\n",
    "a = 1\n",
    "d = - 0.01\n",
    "xbar = 1\n",
    "umax = 8\n",
    "gamma = 0.01\n",
    "sigma = 0.01\n",
    "    \n",
    "# define the function to be minimised\n",
    "def f(S, b, u):\n",
    "    sol = np.linalg.norm(S@u - b)**2 + gamma*(np.linalg.norm(u)**2)/2\n",
    "    for i in range(N):\n",
    "        sol = sol - sigma*np.log(umax-u[i])\n",
    "    return sol\n",
    "\n",
    "# define the gradient\n",
    "def grad(S, b, u):\n",
    "    sol = 2*S.T@S@u - 2*S.T@b + np.multiply(gamma,u)\n",
    "    for i in range(N):\n",
    "        sol[i] += sigma*(1/(umax - u[i]))\n",
    "    return sol\n",
    "\n",
    "# gradient method with constant stepsize\n",
    "def gradient_method_constant(u0, t, epsilon):\n",
    "    u = u0\n",
    "    g = grad(S, b, u)\n",
    "    while np.linalg.norm(g) > epsilon:\n",
    "        u = u - t*g\n",
    "        fun_val = f(S, b, u)\n",
    "        g = grad(S, b, u)\n",
    "    x = S@u - b\n",
    "    x = np.insert(x, 0, xbar)\n",
    "    return u, x, fun_val\n",
    "\n",
    "u0, x0, fun_val0 = gradient_method_constant(u0=np.ones(40), t=0.5, epsilon=0.0001)\n",
    "print(fun_val0)\n",
    "\n",
    "# Unconstrained problem\n",
    "u = np.linalg.inv(S.T@S+(gamma/2)*np.identity(N))@S.T@b\n",
    "x = S@u - b\n",
    "x = np.insert(x, 0, xbar)\n",
    "\n",
    "# Plot u from u_1 to u_N\n",
    "plt.plot(u0, label='u for constrained problem')\n",
    "plt.plot(u, label='u for unconstrained problem')\n",
    "plt.title(\"Associated Optimal Trajectories $u$\")\n",
    "plt.ylabel(\"u\")\n",
    "plt.legend()\n",
    "plt.show()\n",
    "\n",
    "# Plot x from x_1 to x_N\n",
    "plt.plot(x0, label='x for constrained problem')\n",
    "plt.plot(x, label='x for unconstrained problem')\n",
    "plt.title(\"Associated Optimal Trajectories $x$\")\n",
    "plt.ylabel(\"x\")\n",
    "plt.legend()\n",
    "plt.show()"
   ]
  },
  {
   "cell_type": "markdown",
   "id": "f18f8fdf",
   "metadata": {},
   "source": [
    "From the graph we can see that the upper bound of $u$ is 8 at the beginning for the constrained problem, and the value of $u$ decreases at a slower speed at first. But for large $i$, $u_i$ decrease to similar values for both circumstance.\\\n",
    "For the constrained problem, and the value of $x$ decreases at a slower speed at first. But for large $i$, $x_i$ decrease to similar values for both circumstance."
   ]
  },
  {
   "cell_type": "markdown",
   "id": "48ee8d04",
   "metadata": {},
   "source": [
    "This is because for small $i$, $u_i$ for constrained problem is restricted by an upper bound 8. When $i$ increases, $u_i$ gets smaller and the effect of upper bound vanishes. So for both situations, we end up similar $u_i$, $x_i$ for large $i$."
   ]
  },
  {
   "cell_type": "markdown",
   "id": "6a803a34",
   "metadata": {},
   "source": [
    "#### (iv)"
   ]
  },
  {
   "cell_type": "markdown",
   "id": "94352a41",
   "metadata": {},
   "source": [
    "The regulariser $\\mathcal{L}(u)$ satisfies $\\mathcal{L}(u) \\leq \\frac{\\epsilon ^2}{2}$ when $|u_i|\\leq \\epsilon$ and $\\mathcal{L}(u) > \\frac{\\epsilon ^2}{2}$ when $|u_i|> \\epsilon$. The value of $\\mathcal{L}(u)$ is larger if $|u_i|$ is larger and is smaller if $|u_i|$ is smaller. So it acts like a penalty term in the function in order to let $|u_i|$ be as small as possible while minimising the whole function. Therefore the term $\\mathcal{L}(u)$ promote sparsity in the control signal $u$."
   ]
  },
  {
   "cell_type": "markdown",
   "id": "0fb444a9",
   "metadata": {},
   "source": [
    "$\\mathcal{L}$ is differentiable with derivative:\n",
    "$$\n",
    "\\frac{\\partial \\mathcal{L}}{\\partial u_i}=\n",
    "\\left \\{\n",
    "\\begin{array}{lr}\n",
    "u_i &  |u_i|\\leq \\epsilon \\\\\n",
    "\\epsilon &  u_i > \\epsilon \\\\\n",
    "-\\epsilon &  u_i < -\\epsilon\n",
    "\\end{array}\n",
    "\\right.\n",
    "$$\n",
    "when $|u_i| = \\epsilon$, the derivative is continuous as $\\frac{\\partial \\mathcal{L}}{\\partial u_i}=u_i = \\epsilon$ when $u_i = \\epsilon$ and $\\frac{\\partial \\mathcal{L}}{\\partial u_i}=u_i = -\\epsilon$ when $u_i = -\\epsilon$."
   ]
  },
  {
   "cell_type": "markdown",
   "id": "35b47019",
   "metadata": {},
   "source": [
    "We use descent direction method with backtracking stepsize. Start with initial stepsize $t^k$ is set to be $t^k = s = 1$. The descent direction $d^k$ is chosen to be minus the gradient $d^k = -\\nabla f\\left(u^k\\right)$. Choose $u_0 = \\begin{pmatrix}1 & 1 & \\cdots & 1\\end{pmatrix}$ to be the initial point and $\\epsilon = 0.01$ to be the tolerance parameter. Choose two parameters $\\alpha =0.5$ and $\\beta = 0.5$. While $f(u) - f(u - tg) < \\alpha t ||g||^2$, where $g$ is the gradient, set $t = \\beta t$. By gradient method, $u^{k+1} = u^{k}+t^{k}d^{k}$. Stop the iteration until the norm of gradient at $u^k$ are less than the tolerance parameter."
   ]
  },
  {
   "cell_type": "code",
   "execution_count": 7,
   "id": "5a3b3eb3",
   "metadata": {},
   "outputs": [
    {
     "name": "stdout",
     "output_type": "stream",
     "text": [
      "6.592338289162596\n",
      "2.8513735802628646\n"
     ]
    },
    {
     "data": {
      "image/png": "[encoded data removed]",
      "text/plain": [
       "<Figure size 432x288 with 1 Axes>"
      ]
     },
     "metadata": {
      "needs_background": "light"
     },
     "output_type": "display_data"
    },
    {
     "data": {
      "image/png": "[encoded data removed]",
      "text/plain": [
       "<Figure size 432x288 with 1 Axes>"
      ]
     },
     "metadata": {
      "needs_background": "light"
     },
     "output_type": "display_data"
    }
   ],
   "source": [
    "# define initial values\n",
    "N = 40\n",
    "a = 1\n",
    "d = - 0.01\n",
    "xbar = 1\n",
    "eps = 3\n",
    "\n",
    "# construct matrix S\n",
    "S = np.zeros((N,N))\n",
    "for i in range(N):\n",
    "    for j in range(i+1):\n",
    "        S[i,j] = (a**(i-j))*d\n",
    "\n",
    "# construct array b\n",
    "b = np.zeros(N)\n",
    "for i in range(N):\n",
    "    b[i] = - (a**(i+1))*xbar\n",
    "\n",
    "# define function curly L\n",
    "def L(u):\n",
    "    sol = []\n",
    "    for i in range(len(u)):\n",
    "        if abs(u[i]) <= eps:\n",
    "            ui = ((u[i])**2)/2\n",
    "            sol.append(ui)\n",
    "        else:\n",
    "            ui = eps*(abs(u[i])-(eps/2))\n",
    "            sol.append(ui)\n",
    "    return sol\n",
    "\n",
    "# define the function to be minimised\n",
    "def f(gamma2, gamma1, u):\n",
    "    sol = np.linalg.norm(S@u - b)**2 + gamma2*(np.linalg.norm(u)**2)/2 + gamma1*np.sum(L(u))\n",
    "    return sol\n",
    "\n",
    "# define the gradient of sum of L\n",
    "def gL(u):\n",
    "    sol = []\n",
    "    for i in range(len(u)):\n",
    "        if abs(u[i]) <= eps:\n",
    "            ui = u[i]\n",
    "        else:\n",
    "            ui = np.sign(u[i])*eps\n",
    "        sol.append(ui)\n",
    "    return sol\n",
    "\n",
    "# define the gradient\n",
    "def grad(gamma2, gamma1, u):\n",
    "    sol = 2*S.T@S@u - 2*S.T@b + np.multiply(gamma2,u) + np.multiply(gamma1,gL(u))\n",
    "    return sol\n",
    "\n",
    "# gradient method with backtracking stepsize\n",
    "def gradient_method_backtrack(gamma2, gamma1, u0, s, alpha, beta, epsilon):\n",
    "    u = u0\n",
    "    g = grad(gamma2, gamma1, u)\n",
    "    fun_val = f(gamma2, gamma1, u)\n",
    "    while np.linalg.norm(g) > epsilon:\n",
    "        t = s\n",
    "        while fun_val - f(gamma2, gamma1, u-t*g) < alpha*t*np.linalg.norm(g)**2:\n",
    "            t = beta*t\n",
    "        u = u - t*g\n",
    "        fun_val = f(gamma2, gamma1, u)\n",
    "        g = grad(gamma2, gamma1, u)\n",
    "    x = S@u - b\n",
    "    x = np.insert(x, 0, xbar)\n",
    "    return u, x, fun_val\n",
    "\n",
    "u1, x1, fun_val1 = gradient_method_backtrack(gamma2=0.01, gamma1=0, u0=np.ones(40), s=1, alpha=0.5, beta=0.5, epsilon=0.01)\n",
    "u2, x2, fun_val2 = gradient_method_backtrack(gamma2=0, gamma1=0.01, u0=np.ones(40), s=1, alpha=0.5, beta=0.5, epsilon=0.01)\n",
    "print(fun_val1)\n",
    "print(fun_val2)\n",
    "\n",
    "# Plot u from u_1 to u_N\n",
    "plt.plot(u1, label='u when $\\gamma_2=0.01, \\gamma_1=0$')\n",
    "plt.plot(u2, label='u when $\\gamma_2=0, \\gamma_1=0.01$')\n",
    "plt.title(\"Optimal Control Signals $u$\")\n",
    "plt.ylabel(\"u\")\n",
    "plt.legend()\n",
    "plt.show()\n",
    "\n",
    "# Plot x from x_1 to x_N\n",
    "plt.plot(x1, label='x when $\\gamma_2=0.01, \\gamma_1=0$')\n",
    "plt.plot(x2, label='x when $\\gamma_2=0, \\gamma_1=0.01$')\n",
    "plt.title(\"Associated Optimal Trajectories $x$\")\n",
    "plt.ylabel(\"x\")\n",
    "plt.legend()\n",
    "plt.show()"
   ]
  },
  {
   "cell_type": "markdown",
   "id": "d37def5d",
   "metadata": {},
   "source": [
    "By comparing the two cases, we can see that for large $i$, $u_i$ and $x_i$ decreases to similar values in both situations. When $\\gamma_1 = 0$, the optimal solution is the same as regularised unconstrained case, $x_i$ and $u_i$ decrease in a slower speed. When $\\gamma_2 = 0$, $x_i$ and $u_i$ decrease in a faster speed for small $i$ and slower than when $\\gamma_1 = 0$ for larger $i$ (for $i \\ge 5$ to be specific)."
   ]
  },
  {
   "cell_type": "markdown",
   "id": "ee3710de",
   "metadata": {},
   "source": [
    "And the optimal value of function when $\\gamma_2 = 0$ is smaller than when $\\gamma_1 = 0$,"
   ]
  }
 ],
 "metadata": {
  "kernelspec": {
   "display_name": "Python 3",
   "language": "python",
   "name": "python3"
  },
  "language_info": {
   "codemirror_mode": {
    "name": "ipython",
    "version": 3
   },
   "file_extension": ".py",
   "mimetype": "text/x-python",
   "name": "python",
   "nbconvert_exporter": "python",
   "pygments_lexer": "ipython3",
   "version": "3.8.8"
  }
 },
 "nbformat": 4,
 "nbformat_minor": 5
}
