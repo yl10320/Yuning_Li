{
 "cells": [
  {
   "cell_type": "markdown",
   "id": "4e1d475a",
   "metadata": {},
   "source": [
    "# Time Series Coursework\n",
    "## 2022-12-16"
   ]
  },
  {
   "cell_type": "markdown",
   "id": "71d54c62",
   "metadata": {},
   "source": [
    "#### CID: 01868678"
   ]
  },
  {
   "cell_type": "code",
   "execution_count": 1,
   "id": "bfc6076e",
   "metadata": {},
   "outputs": [],
   "source": [
    "import numpy as np\n",
    "import matplotlib.pyplot as plt\n",
    "from scipy.stats import chi2\n",
    "from scipy.linalg import toeplitz\n",
    "from scipy.signal import find_peaks\n",
    "import math as math"
   ]
  },
  {
   "cell_type": "markdown",
   "id": "d425a234",
   "metadata": {},
   "source": [
    "### Question 1"
   ]
  },
  {
   "cell_type": "markdown",
   "id": "31a90a56",
   "metadata": {},
   "source": [
    "####  (a)"
   ]
  },
  {
   "cell_type": "markdown",
   "id": "7557df5c",
   "metadata": {},
   "source": [
    "Suppose we have a Gaussian $\\text{ARMA} \\left(1, 1\\right)$ process $X_t = \\phi X_{t-1}+\\epsilon_t-\\theta \\epsilon_{t-1}$. And consider the covariance matrix for $\\left[X_0, \\epsilon_0\\right]^T$ which has the form\n",
    "\n",
    "$$\n",
    "D = \n",
    "\\begin{bmatrix}\n",
    "\\text{Var}\\{X_0\\} & \\text{Cov}\\{X_0, \\epsilon_0\\} \\\\\n",
    "\\text{Cov}\\{\\epsilon_0, X_0\\} & \\text{Var}\\{\\epsilon_0\\}\n",
    "\\end{bmatrix}\n",
    "$$\n",
    "\n",
    "By definition of $\\{\\epsilon_t\\}$, we have $\\text{Var}\\{\\epsilon_0\\} = \\sigma_{\\epsilon}^2$.\n",
    "\n",
    "To calculate $\\text{Var}\\{X_0\\}$, use the original equation\n",
    "\n",
    "$$\n",
    "\\begin{aligned}\n",
    "\\text{Var}\\{X_0\\} &= \\phi^2 \\text{ Var}\\{X_{-1}\\}+\\sigma_{\\epsilon}^2+\\theta^2 \\sigma_{\\epsilon}^2+2\\phi \\text{ Cov}\\{X_{-1}, \\epsilon_0\\}-2\\theta\\text{ Cov}\\{\\epsilon_0, \\epsilon_{-1}\\}-2\\phi\\theta\\text{ Cov}\\{X_{-1}, \\epsilon_{-1}\\} \\\\\n",
    "&=\\phi^2 \\text{ Var}\\{X_{0}\\}+\\sigma_{\\epsilon}^2+\\theta^2 \\sigma_{\\epsilon}^2-2\\phi\\theta\\text{ Cov}\\{X_{-1}, \\epsilon_{-1}\\}\\\\\n",
    "&=\\phi^2 \\text{ Var}\\{X_{0}\\}+\\sigma_{\\epsilon}^2+\\theta^2 \\sigma_{\\epsilon}^2-2\\phi\\theta E\\{X_{-1}\\epsilon_{-1}\\}\\\\\n",
    "&=\\phi^2 \\text{ Var}\\{X_{0}\\}+\\sigma_{\\epsilon}^2+\\theta^2 \\sigma_{\\epsilon}^2-2\\phi\\theta \\left(E\\{\\phi \\epsilon_{-1}X_{-2}\\}+E\\{\\epsilon_{-1}\\epsilon_{-1}\\}-E\\{\\theta \\epsilon_{-1}\\epsilon_{-2}\\}\\right)\\\\\n",
    "&=\\phi^2 \\text{ Var}\\{X_{0}\\}+\\sigma_{\\epsilon}^2+\\theta^2 \\sigma_{\\epsilon}^2-2\\phi\\theta \\sigma_{\\epsilon}^2\n",
    "\\end{aligned}\n",
    "$$\n",
    "\n",
    "as $\\text{Var}\\{X_{t}\\} = \\text{Var}\\{X_{t-1}\\}$ (stationarity), $E\\{\\epsilon_t\\} = 0$ and independence between $X_{t-1}, \\epsilon_t$ and $\\epsilon_t, \\epsilon_{t-1}$. Therefore, we have $\\text{Var}\\{X_0\\} = \\frac{\\left(1+\\theta^2 -2\\phi\\theta \\right)\\sigma_{\\epsilon}^2 }{1-\\phi^2}$.\n",
    "\n",
    "And $\\text{Cov}\\{\\epsilon_0, X_0\\}=\\text{Cov}\\{X_0, \\epsilon_0\\}=E\\{\\epsilon_0 X_0\\}=E\\{\\epsilon_0^2\\}=\\sigma_{\\epsilon}^2$."
   ]
  },
  {
   "cell_type": "markdown",
   "id": "bf892861",
   "metadata": {},
   "source": [
    "Now we have all the components of $D$, apply Cholesky decomposition of c such that $D = CC^T$ where $C$ is a lower triangular matrix. And sample randomly from standard Gaussian to simulate $\\text{ARMA} \\left(1, 1\\right)$ process."
   ]
  },
  {
   "cell_type": "code",
   "execution_count": 2,
   "id": "3f348f1f",
   "metadata": {},
   "outputs": [],
   "source": [
    "def ARMA11(phi, theta, sigma2, N):\n",
    "    # Cholesky decomposition of D\n",
    "    D = np.array([[((1+theta**2-2*theta*phi)*sigma2)/(1-phi**2), sigma2],[sigma2, sigma2]])\n",
    "    C = np.linalg.cholesky(D)\n",
    "    \n",
    "    # sample randonly from standard Guassian and get Y\n",
    "    y0 = np.random.normal(0, 1)\n",
    "    y1 = np.random.normal(0, 1)\n",
    "    Y = np.array([y0, y1])\n",
    "    \n",
    "    # calculate x0 and epsilon0\n",
    "    x0 = (C@Y)[0]\n",
    "    eps0 = (C@Y)[1]\n",
    "    \n",
    "    # simulate ARMA(1, 1)\n",
    "    X = []\n",
    "    epsold = eps0\n",
    "    xold = x0\n",
    "    for i in range(N):\n",
    "        epsnew = np.random.normal(0, np.sqrt(sigma2))\n",
    "        xnew = phi*xold + epsnew - theta*epsold\n",
    "        epsold = epsnew\n",
    "        xold = xnew\n",
    "        X.append(xnew)\n",
    "    return X"
   ]
  },
  {
   "cell_type": "markdown",
   "id": "d37ba352",
   "metadata": {},
   "source": [
    "#### (b)"
   ]
  },
  {
   "cell_type": "code",
   "execution_count": 3,
   "id": "8a778711",
   "metadata": {},
   "outputs": [],
   "source": [
    "def acvs(X, tau):\n",
    "    # define N and Xbar\n",
    "    N = len(X)\n",
    "    Xbar = np.mean(X)\n",
    "    \n",
    "    # calculate the estimator (formula from page 56 from notes)\n",
    "    sol = []\n",
    "    for j in range(len(tau)):\n",
    "        s = 0\n",
    "        for i in range(N-abs(tau[j])):\n",
    "            s += (X[i] - Xbar)*(X[i+abs(tau[j])] - Xbar)\n",
    "        shat = s/N\n",
    "        sol.append(shat)\n",
    "    return sol"
   ]
  },
  {
   "cell_type": "markdown",
   "id": "04958903",
   "metadata": {},
   "source": [
    "#### (c)"
   ]
  },
  {
   "cell_type": "code",
   "execution_count": 4,
   "id": "786098e2",
   "metadata": {},
   "outputs": [],
   "source": [
    "def periodogram(X):\n",
    "    # define N and Xbar\n",
    "    N = len(X)\n",
    "    \n",
    "    # calculate the vector of fft of X_1 to X_N\n",
    "    fftv = np.fft.fft(X)\n",
    "\n",
    "    # Fourier transformation of X_t and relevant Fourier freuencies (formula from page 58 from notes)\n",
    "    sol = []\n",
    "    f = []\n",
    "    for i in range(N):\n",
    "        sol.append((abs(fftv[i])**2)/N)\n",
    "        f.append(i/N - 0.5)\n",
    "    sol = np.fft.fftshift(sol)\n",
    "    \n",
    "    return sol, f"
   ]
  },
  {
   "cell_type": "markdown",
   "id": "608a40f6",
   "metadata": {},
   "source": [
    "### Question 2"
   ]
  },
  {
   "cell_type": "markdown",
   "id": "3147d27c",
   "metadata": {},
   "source": [
    "#### Construct Sequences"
   ]
  },
  {
   "cell_type": "code",
   "execution_count": 6,
   "id": "ca8e91c2",
   "metadata": {},
   "outputs": [],
   "source": [
    "# define initial value\n",
    "N = [4, 8, 16, 32, 64, 128, 256, 512]\n",
    "phi = -0.63\n",
    "theta = 0.51\n",
    "sigma2 = 2.21\n",
    "Nr = 10000"
   ]
  },
  {
   "cell_type": "code",
   "execution_count": 7,
   "id": "bb198ca9",
   "metadata": {},
   "outputs": [],
   "source": [
    "# initial empty lists\n",
    "S1_4, S2_4, S1_8, S2_8, S1_16, S2_16, S1_32, S2_32, S1_64, S2_64, S1_128, S2_128, S1_256, S2_256, S1_512, S2_512 = ([] for i in range(16))\n",
    "S = [S1_4, S2_4, S1_8, S2_8, S1_16, S2_16, S1_32, S2_32, S1_64, S2_64, S1_128, S2_128, S1_256, S2_256, S1_512, S2_512]\n",
    "\n",
    "# construct sequences S(p) at frequency N/4 and N/4+1\n",
    "for j in range(len(N)):\n",
    "    hj = N[j]/4\n",
    "    for i in range(Nr):\n",
    "        xi = ARMA11(phi, theta, sigma2, N[j])\n",
    "        peri, f = periodogram(xi)\n",
    "        S[j*2].append(peri[int(hj)]) # by symmetric\n",
    "        S[j*2+1].append(peri[int(hj-1)]) # by symmetric"
   ]
  },
  {
   "cell_type": "markdown",
   "id": "af395198",
   "metadata": {},
   "source": [
    "#### (a)"
   ]
  },
  {
   "cell_type": "code",
   "execution_count": 8,
   "id": "416af19b",
   "metadata": {
    "scrolled": true
   },
   "outputs": [
    {
     "data": {
      "image/png": "[encoded data removed]",
      "text/plain": [
       "<Figure size 432x288 with 1 Axes>"
      ]
     },
     "metadata": {
      "needs_background": "light"
     },
     "output_type": "display_data"
    }
   ],
   "source": [
    "# calculate the mean of each N\n",
    "mean = []\n",
    "for i in range(8):\n",
    "    mean.append(np.mean(S[i*2]))\n",
    "\n",
    "# calculate S(f) of ARMA(1,1) by coefficients of time series (formula from page 52 from notes)\n",
    "f = 1/4\n",
    "Sf = sigma2*(((abs(1-theta*np.exp(-1j*2*np.pi*f)))**2)/((abs(1-phi*np.exp(-1j*2*np.pi*f)))**2))\n",
    "\n",
    "# plot the graph\n",
    "plt.plot(N, mean, label='Sample mean')\n",
    "plt.axhline(Sf, color='r', label='Large sample result')\n",
    "plt.title(\"Plot of sample mean and large sample result\")\n",
    "plt.xlabel(\"N\") \n",
    "plt.legend()\n",
    "plt.show()"
   ]
  },
  {
   "cell_type": "markdown",
   "id": "8282a4d0",
   "metadata": {},
   "source": [
    "#### (b)"
   ]
  },
  {
   "cell_type": "code",
   "execution_count": 9,
   "id": "bb8a4ece",
   "metadata": {},
   "outputs": [
    {
     "data": {
      "image/png": "[encoded data removed]",
      "text/plain": [
       "<Figure size 432x288 with 1 Axes>"
      ]
     },
     "metadata": {
      "needs_background": "light"
     },
     "output_type": "display_data"
    }
   ],
   "source": [
    "# calculate the variance of each N\n",
    "var = []\n",
    "for i in range(8):\n",
    "    var.append(np.var(S[i*2]))\n",
    "\n",
    "# result for large sample\n",
    "f = 0.25\n",
    "Sf2 = Sf**2\n",
    "\n",
    "# plot the graph\n",
    "plt.plot(N, var, label='Sample variance')\n",
    "plt.axhline(Sf2, color='r', label='Large sample result')\n",
    "plt.title(\"Plot of sample variance and large sample result\")\n",
    "plt.xlabel(\"N\") \n",
    "plt.legend()\n",
    "plt.show()"
   ]
  },
  {
   "cell_type": "markdown",
   "id": "3aff5d24",
   "metadata": {},
   "source": [
    "#### (c)"
   ]
  },
  {
   "cell_type": "code",
   "execution_count": 10,
   "id": "b868cef7",
   "metadata": {},
   "outputs": [
    {
     "data": {
      "image/png": "[encoded data removed]",
      "text/plain": [
       "<Figure size 432x288 with 1 Axes>"
      ]
     },
     "metadata": {
      "needs_background": "light"
     },
     "output_type": "display_data"
    }
   ],
   "source": [
    "# calculate the correlation coefficient of each N\n",
    "cor = []\n",
    "for i in range(8):\n",
    "    mi = np.corrcoef(S[i*2], S[i*2+1])\n",
    "    cor.append(mi[0,1])\n",
    "    \n",
    "# plot the graph\n",
    "plt.plot(N, cor, label='Sample correlation')\n",
    "plt.axhline(0, color='r', label='Large sample result')\n",
    "plt.title(\"Plot of sample correlation and large sample result\")\n",
    "plt.xlabel(\"N\") \n",
    "plt.legend()\n",
    "plt.show()"
   ]
  },
  {
   "cell_type": "markdown",
   "id": "f71364c5",
   "metadata": {},
   "source": [
    "#### (d)"
   ]
  },
  {
   "cell_type": "code",
   "execution_count": 11,
   "id": "77a2a2d4",
   "metadata": {},
   "outputs": [
    {
     "data": {
      "image/png": "[encoded data removed]",
      "text/plain": [
       "<Figure size 432x288 with 1 Axes>"
      ]
     },
     "metadata": {
      "needs_background": "light"
     },
     "output_type": "display_data"
    }
   ],
   "source": [
    "# define pdf of chi_2^2 distribution which is the same as exp(1/2)\n",
    "def exp(x):\n",
    "    sol = (1/2)*np.exp(-(1/2)*x)\n",
    "    return sol\n",
    "\n",
    "# plot the graph\n",
    "x = np.linspace(0,20,100)\n",
    "y = [exp(i)*Sf/2 for i in x] # asymptotic distribution\n",
    "plt.hist(S[0], bins=200, density=True)\n",
    "plt.plot(x, y, label='Probability density distribution')\n",
    "plt.title(\"Histogram of $X_t$ when N = 4\")\n",
    "plt.xlim([0, 20])\n",
    "plt.legend()\n",
    "plt.show()"
   ]
  },
  {
   "cell_type": "markdown",
   "id": "3985fc77",
   "metadata": {},
   "source": [
    "#### (e)"
   ]
  },
  {
   "cell_type": "code",
   "execution_count": 12,
   "id": "e905df1b",
   "metadata": {},
   "outputs": [
    {
     "data": {
      "image/png": "[encoded data removed]",
      "text/plain": [
       "<Figure size 432x288 with 1 Axes>"
      ]
     },
     "metadata": {
      "needs_background": "light"
     },
     "output_type": "display_data"
    }
   ],
   "source": [
    "# plot the graph\n",
    "x = np.linspace(0,20,100)\n",
    "y = [exp(i)*Sf/2 for i in x] # asymptotic distribution\n",
    "plt.hist(S[6], bins=200, density=True)\n",
    "plt.plot(x, y, label='Probability density distribution')\n",
    "plt.title(\"Histogram of $X_t$ when N = 32\")\n",
    "plt.xlim([0, 20])\n",
    "plt.legend()\n",
    "plt.show()"
   ]
  },
  {
   "cell_type": "markdown",
   "id": "5edc4fa5",
   "metadata": {},
   "source": [
    "#### (f)"
   ]
  },
  {
   "cell_type": "code",
   "execution_count": 13,
   "id": "32644aca",
   "metadata": {},
   "outputs": [
    {
     "data": {
      "image/png": "[encoded data removed]",
      "text/plain": [
       "<Figure size 432x288 with 1 Axes>"
      ]
     },
     "metadata": {
      "needs_background": "light"
     },
     "output_type": "display_data"
    }
   ],
   "source": [
    "# plot the graph\n",
    "x = np.linspace(0,20,100)\n",
    "y = [exp(i)*Sf/2 for i in x] # asymptotic distribution\n",
    "plt.hist(S[12], bins=200, density=True)\n",
    "plt.plot(x, y, label='Probability density distribution')\n",
    "plt.title(\"Histogram of $X_t$ when N = 256\")\n",
    "plt.xlim([0, 20])\n",
    "plt.legend()\n",
    "plt.show()"
   ]
  },
  {
   "cell_type": "markdown",
   "id": "709c064d",
   "metadata": {},
   "source": [
    "The plots above show that as $N$ increases, the mean of estimations $\\hat{S}^{(p)}(f)$ will be closer to the real spectral density function $S(f)$. And the variance, correlation and distribution will follow the asymptotic properties. $\\hat{S}^{(p)}(f)$ is asymptotically unbiased as an estimator of $S(f)$. "
   ]
  },
  {
   "cell_type": "markdown",
   "id": "807e5c03",
   "metadata": {},
   "source": [
    "### Question 3"
   ]
  },
  {
   "cell_type": "code",
   "execution_count": 5,
   "id": "dc73b24c",
   "metadata": {},
   "outputs": [],
   "source": [
    "ds = np.loadtxt(\"C:/Users/Yuning LI/Downloads/time_series_156.csv\", delimiter = \",\")"
   ]
  },
  {
   "cell_type": "markdown",
   "id": "45f89ae5",
   "metadata": {},
   "source": [
    "#### (a)"
   ]
  },
  {
   "cell_type": "code",
   "execution_count": 6,
   "id": "2721e141",
   "metadata": {},
   "outputs": [
    {
     "data": {
      "image/png": "[encoded data removed]",
      "text/plain": [
       "<Figure size 432x288 with 1 Axes>"
      ]
     },
     "metadata": {
      "needs_background": "light"
     },
     "output_type": "display_data"
    }
   ],
   "source": [
    "# centre the time series\n",
    "dsbar = np.mean(ds)\n",
    "ds = [x-dsbar for x in ds]\n",
    "\n",
    "# construct cosine tapering (formula from page 64 from notes)\n",
    "N = len(ds)\n",
    "h = []\n",
    "for i in range(math.floor(math.floor(0.5*N)/2)):\n",
    "    h.append((1/2)*(1-np.cos((2*np.pi*(i+1))/(math.floor(N/2)+1))))\n",
    "for i in range(math.floor(math.floor(0.5*N)/2), N+1-math.floor(math.floor(0.5*N)/2)):\n",
    "    h.append(1)\n",
    "for i in range(N+1-math.floor(math.floor(0.5*N)/2), N):\n",
    "    h.append((1/2)*(1-np.cos((2*np.pi*(N+1-(i+1)))/(math.floor(N/2)+1))))\n",
    "sumh = 0\n",
    "for k in range(N):\n",
    "    sumh += h[k]**2\n",
    "C = np.sqrt(1/sumh) # normalizing constant\n",
    "h = [C*ht for ht in h]\n",
    "\n",
    "# perform tapering\n",
    "hx = []\n",
    "for j in range(N):\n",
    "    hx.append(ds[j]*h[j])\n",
    "\n",
    "# plot the graph\n",
    "solhx, fhx = periodogram(hx)\n",
    "fhx = [fh/86400 for fh in fhx]\n",
    "x = np.linspace(0, N-1,N)\n",
    "plt.plot(fhx, solhx)\n",
    "plt.title(\"Estimation of spectral density\")\n",
    "plt.xlabel(\"frequency (Hz)\")\n",
    "plt.ylabel(\"S(f)\")\n",
    "plt.xlim([-6*10**(-6),6*10**(-6)])\n",
    "plt.show()"
   ]
  },
  {
   "cell_type": "markdown",
   "id": "f770f009",
   "metadata": {},
   "source": [
    "There are 7 peaks from the spectrum with frequency around $\\pm 5\\times 10^{-6}$Hz, $\\pm 3.5\\times 10^{-6}$Hz, $\\pm 1.8\\times 10^{-6}$Hz and $0$Hz, which means that there is a cyclic structure in frequency domain at these frequencies. Around $\\pm 1.8\\times 10^{-6}$Hz there is the largest $S(f)$."
   ]
  },
  {
   "cell_type": "markdown",
   "id": "b4d17c6f",
   "metadata": {},
   "source": [
    "We need to centre the time series as we assumed the time series has $0$ mean when using autocovariance estimations to estimate spectrum. If the time series is not centred, there will be only one peak around $0$Hz in the spectrum. As the expectation of mean $\\mu \\ne 0$ and contain more random variations which will cover some underlying characteristics."
   ]
  },
  {
   "cell_type": "markdown",
   "id": "5ddbd3df",
   "metadata": {},
   "source": [
    "#### (b)"
   ]
  },
  {
   "cell_type": "code",
   "execution_count": 17,
   "id": "2be25595",
   "metadata": {},
   "outputs": [],
   "source": [
    "def AML(X, p):\n",
    "    # define initial values\n",
    "    N = len(X)\n",
    "    F = np.zeros((N-p, p))\n",
    "    Xp = X[p:]\n",
    "    \n",
    "    # construct F (formula from page 73 from notes)\n",
    "    for i in range(N-p):\n",
    "        for j in range(p):\n",
    "            F[i,j] = X[p+i-j-1]\n",
    "            \n",
    "    # maximum likelihood\n",
    "    theta = np.linalg.inv(np.transpose(F)@F)@np.transpose(F)@Xp\n",
    "    sigma2 = (np.transpose(Xp-F@theta)@(Xp-F@theta))/(N-p)\n",
    "    return theta, sigma2"
   ]
  },
  {
   "cell_type": "code",
   "execution_count": 18,
   "id": "2a4554d7",
   "metadata": {},
   "outputs": [],
   "source": [
    "def YW(X, p):\n",
    "    # define initial values\n",
    "    N = len(X)\n",
    "    \n",
    "    # cosine taper\n",
    "    h = []\n",
    "    for i in range(math.floor(math.floor(0.5*N)/2)):\n",
    "        h.append((1/2)*(1-np.cos((2*np.pi*(i+1))/(math.floor(N/2)+1))))\n",
    "    for i in range(math.floor(math.floor(0.5*N)/2), N+1-math.floor(math.floor(0.5*N)/2)):\n",
    "        h.append(1)\n",
    "    for i in range(N+1-math.floor(math.floor(0.5*N)/2), N):\n",
    "        h.append((1/2)*(1-np.cos((2*np.pi*(N+1-(i+1)))/(math.floor(N/2)+1))))\n",
    "    sumh = 0\n",
    "    for k in range(N):\n",
    "        sumh += h[k]**2\n",
    "    C = np.sqrt(1/sumh) # normalizing constant\n",
    "    h = [C*ht for ht in h]\n",
    "    hx = []\n",
    "    for j in range(N):\n",
    "        hx.append(X[j]*h[j])\n",
    "    \n",
    "    # Yule-Walker (formula from page 66 from notes)\n",
    "    tau = np.linspace(0, p, num = p+1)\n",
    "    tau = [int(t) for t in tau]\n",
    "    stau = acvs(hx, tau)\n",
    "    stau = [i*N for i in stau]\n",
    "    GAMMA = toeplitz(stau[0:p])\n",
    "    gamma = stau[1:p+1]\n",
    "    theta = np.linalg.inv(GAMMA)@gamma\n",
    "    sigma2 = stau[0] - np.dot(theta, gamma)\n",
    "    return theta, sigma2"
   ]
  },
  {
   "cell_type": "markdown",
   "id": "356007ce",
   "metadata": {},
   "source": [
    "#### (c)"
   ]
  },
  {
   "cell_type": "code",
   "execution_count": 19,
   "id": "61826f74",
   "metadata": {},
   "outputs": [
    {
     "name": "stdout",
     "output_type": "stream",
     "text": [
      "[ 0.64372659  0.03233998  0.13227749 -0.10246404  0.03334437  0.05739101\n",
      "  0.39006088 -0.24847022 -0.06984432  0.00822796  0.12119373 -0.09867805\n",
      " -0.09465869  0.23167923 -0.1117442   0.00328273 -0.12229458 -0.03384468\n",
      "  0.0499223   0.06194433  0.30787579 -0.23502034] 2656.413891352038 23\n"
     ]
    }
   ],
   "source": [
    "# define initial values\n",
    "h = 14\n",
    "a = chi2.ppf(1-0.05, df=h)\n",
    "N = len(ds)\n",
    "\n",
    "X_aml = ds\n",
    "L_aml = 100\n",
    "p_aml = 1\n",
    "    \n",
    "# loop until fail to reject H0\n",
    "while L_aml > a:\n",
    "    # maximum likelihood\n",
    "    theta_aml, sigma_aml = AML(X_aml, p_aml) \n",
    "    \n",
    "    # calculate residual terms\n",
    "    e_aml = []\n",
    "    for i in range(p_aml+1, N+1):\n",
    "        et_aml = X_aml[i-1]\n",
    "        for j in range(1, p_aml+1):\n",
    "            et_aml += -theta_aml[j-1]*X_aml[i-1-j]\n",
    "        e_aml.append(et_aml)\n",
    "        \n",
    "    # calculate test statistic\n",
    "    n_aml = len(e_aml)\n",
    "    tau = np.linspace(0, h, num = h+1)\n",
    "    tau = [int(t) for t in tau]\n",
    "    acv_aml = acvs(e_aml, tau)\n",
    "    L_aml = 0\n",
    "    for k in range(1, h+1):\n",
    "        L_aml += ((acv_aml[k]/acv_aml[0])**2)/(n_aml-k)\n",
    "    L_aml = n_aml*(n_aml+2)*L_aml  \n",
    "    \n",
    "    # update p\n",
    "    p_aml += 1\n",
    "print(theta_aml, sigma_aml, p_aml)"
   ]
  },
  {
   "cell_type": "code",
   "execution_count": 20,
   "id": "687d27fd",
   "metadata": {},
   "outputs": [
    {
     "name": "stdout",
     "output_type": "stream",
     "text": [
      "[ 0.65008828  0.01058079  0.15727868 -0.1078226   0.03535482  0.08775253\n",
      "  0.37412407 -0.26750593 -0.08293067 -0.01515462  0.10451308 -0.06666247\n",
      " -0.08361266  0.23126121 -0.1210614   0.02841325 -0.11894115 -0.0248992\n",
      "  0.03092603  0.00876772  0.32023688 -0.21132621] 2809.163679465142 23\n"
     ]
    }
   ],
   "source": [
    "# define initial values\n",
    "X_yw = ds\n",
    "L_yw = 100\n",
    "p_yw = 1\n",
    "\n",
    "# loop until fail to reject H0\n",
    "while L_yw > a:\n",
    "    # Yule Walker\n",
    "    theta_yw, sigma_yw = YW(X_yw, p_yw) \n",
    "    \n",
    "    # calculate residual terms\n",
    "    e_yw = []\n",
    "    for i in range(p_yw+1, N+1):\n",
    "        et_yw = X_yw[i-1]\n",
    "        for j in range(1, p_yw+1):\n",
    "            et_yw += -theta_yw[j-1]*X_yw[i-1-j]\n",
    "        e_yw.append(et_yw)\n",
    "        \n",
    "    # calculate test statistic\n",
    "    n_yw = len(e_yw)\n",
    "    acv_yw = acvs(e_yw, tau)\n",
    "    L_yw = 0\n",
    "    for k in range(1, h+1):\n",
    "        L_yw += ((acv_yw[k]/acv_yw[0])**2)/(n_yw-k)\n",
    "    L_yw = n_yw*(n_yw+2)*L_yw  \n",
    "    \n",
    "    # update p\n",
    "    p_yw += 1\n",
    "print(theta_yw, sigma_yw, p_yw)"
   ]
  },
  {
   "cell_type": "markdown",
   "id": "45b98a7c",
   "metadata": {},
   "source": [
    "The smallest $p$ for both maximum likelihood and tapered Yule-Walker is 23, and the corresponding estimated parameter values were printed as $\\textit{theta_aml}$, $\\textit{sigma_aml}$ and $\\textit{theta_yw}$, $\\textit{sigma_yw}$."
   ]
  },
  {
   "cell_type": "markdown",
   "id": "d9a02c1f",
   "metadata": {},
   "source": [
    "#### (d)"
   ]
  },
  {
   "cell_type": "code",
   "execution_count": 21,
   "id": "29654251",
   "metadata": {},
   "outputs": [
    {
     "data": {
      "image/png": "[encoded data removed]",
      "text/plain": [
       "<Figure size 432x288 with 1 Axes>"
      ]
     },
     "metadata": {
      "needs_background": "light"
     },
     "output_type": "display_data"
    }
   ],
   "source": [
    "# define initial values\n",
    "p = len(theta_aml)\n",
    "N = len(ds)\n",
    "ds1 = np.loadtxt(\"C:/Users/Yuning LI/Downloads/time_series_156.csv\", delimiter = \",\")\n",
    "ds1 = [x for x in ds1]\n",
    "sigmae = np.sqrt(np.var(e_aml))\n",
    "up = []\n",
    "low = []\n",
    "\n",
    "# forecasting from 731 to 760 and calculate upper and lower bounds\n",
    "for i in range(30):\n",
    "    xt = 0\n",
    "    for j in range(p):\n",
    "        xt += theta_aml[j]*(ds[N+i-j-1])\n",
    "    ds.append(xt) # without mean\n",
    "    ds1.append(xt+dsbar) # with mean\n",
    "    up.append(ds1[i+730] + 1.96*np.sqrt(i+1)*sigmae)\n",
    "    low.append(ds1[i+730] - 1.96*np.sqrt(i+1)*sigmae)\n",
    "\n",
    "# plot the graph\n",
    "x = np.linspace(710, 760, num = 51)\n",
    "y = np.linspace(731, 760, num = 30)\n",
    "plt.plot(x, ds1[709:760], label='Time series and point estimations')\n",
    "plt.plot(y, up, label='Upper bound')\n",
    "plt.plot(y, low, label='Lower bound')\n",
    "plt.title(\"Forecasting and boundaries\")\n",
    "plt.xlabel(\"time\") \n",
    "plt.legend()\n",
    "plt.show()"
   ]
  },
  {
   "cell_type": "markdown",
   "id": "139e44b5",
   "metadata": {},
   "source": [
    "There is a 95% probability that the future energy consumption from day 731 to day 760 will lies in the region bounded by the upper bound and lower bound."
   ]
  }
 ],
 "metadata": {
  "kernelspec": {
   "display_name": "Python 3",
   "language": "python",
   "name": "python3"
  },
  "language_info": {
   "codemirror_mode": {
    "name": "ipython",
    "version": 3
   },
   "file_extension": ".py",
   "mimetype": "text/x-python",
   "name": "python",
   "nbconvert_exporter": "python",
   "pygments_lexer": "ipython3",
   "version": "3.8.8"
  }
 },
 "nbformat": 4,
 "nbformat_minor": 5
}
