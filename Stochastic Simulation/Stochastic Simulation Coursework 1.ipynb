{
 "cells": [
  {
   "cell_type": "markdown",
   "id": "1c1c8ed9",
   "metadata": {},
   "source": [
    "# Stochastic Simulation Coursework 1\n",
    "## 2022.10.26"
   ]
  },
  {
   "cell_type": "markdown",
   "id": "022dcb1b",
   "metadata": {},
   "source": [
    "#### CID: 01868678"
   ]
  },
  {
   "cell_type": "code",
   "execution_count": 1,
   "id": "634e566b",
   "metadata": {},
   "outputs": [],
   "source": [
    "import numpy as np\n",
    "import matplotlib.pyplot as plt"
   ]
  },
  {
   "cell_type": "markdown",
   "id": "0b688a91",
   "metadata": {},
   "source": [
    "## Q1: sampling from Chi-Squared Using Rejection Sampling"
   ]
  },
  {
   "cell_type": "markdown",
   "id": "279c81db",
   "metadata": {},
   "source": [
    "### 1. Compute $M_{\\lambda} = \\textrm{sup}_{x} \\frac{p_{v}(x)}{q_{\\lambda}(x)}$."
   ]
  },
  {
   "cell_type": "markdown",
   "id": "ef423c4f",
   "metadata": {},
   "source": [
    "In order to find $M_{\\lambda}$, we need to differentiate $\\frac{p_{v}(x)}{q_{\\lambda}(x)}$ with respect to x and find its stationary point."
   ]
  },
  {
   "cell_type": "markdown",
   "id": "0dab97dc",
   "metadata": {},
   "source": [
    "$$\n",
    "\\frac{p_{v}(x)}{q_{\\lambda}(x)} = \\frac{x^{\\frac{v}{2}-1}e^{-\\frac{x}{2}}}{2^{\\frac{v}{2}}\\Gamma \\left(\\frac{v}{2}\\right)\\lambda e^{-\\lambda x}} = \\frac{x^{\\frac{v}{2}-1}e^{\\left(\\lambda -\\frac{1}{2}\\right)x}}{2^{\\frac{v}{2}}\\Gamma \\left(\\frac{v}{2}\\right)\\lambda }\n",
    "$$"
   ]
  },
  {
   "cell_type": "markdown",
   "id": "db40fa22",
   "metadata": {},
   "source": [
    "$$\n",
    "\\frac{d}{dx}\\left(\\frac{p_{v}(x)}{q_{\\lambda}(x)}\\right) = \\frac{1}{2^{\\frac{v}{2}}\\Gamma \\left(\\frac{v}{2}\\right)\\lambda}\\left(\\left(\\frac{v}{2}-1\\right)x^{\\frac{v}{2}-2}e^{\\left(\\lambda -\\frac{1}{2}\\right)x}+\\left(\\lambda -\\frac{1}{2}\\right)x^{\\frac{v}{2}-1}e^{\\left(\\lambda -\\frac{1}{2}\\right)x}\\right)\n",
    "$$"
   ]
  },
  {
   "cell_type": "markdown",
   "id": "278a8976",
   "metadata": {},
   "source": [
    "Set the derivative of $\\frac{p_{v}(x)}{q_{\\lambda}(x)}$ equal to zero, we get"
   ]
  },
  {
   "cell_type": "markdown",
   "id": "cdedffba",
   "metadata": {},
   "source": [
    "$$\n",
    "\\left(\\frac{v}{2}-1\\right)x^{\\frac{v}{2}-2}e^{\\left(\\lambda -\\frac{1}{2}\\right)x}+\\left(\\lambda -\\frac{1}{2}\\right)x^{\\frac{v}{2}-1}e^{\\left(\\lambda -\\frac{1}{2}\\right)x} = 0\n",
    "$$"
   ]
  },
  {
   "cell_type": "markdown",
   "id": "2140267f",
   "metadata": {},
   "source": [
    "$$\n",
    "\\left(\\frac{v}{2}-1\\right)x^{\\frac{v}{2}-2}+\\left(\\lambda -\\frac{1}{2}\\right)x^{\\frac{v}{2}-1} = 0\n",
    "$$"
   ]
  },
  {
   "cell_type": "markdown",
   "id": "53daba67",
   "metadata": {},
   "source": [
    "$$\n",
    "\\left(\\frac{v}{2}-1\\right)x^{-1}+\\left(\\lambda -\\frac{1}{2}\\right) = 0\n",
    "$$"
   ]
  },
  {
   "cell_type": "markdown",
   "id": "9560eccc",
   "metadata": {},
   "source": [
    "Thus the stationary point is"
   ]
  },
  {
   "cell_type": "markdown",
   "id": "0b90dac3",
   "metadata": {},
   "source": [
    "$$\n",
    "x^{*} = \\frac{1-\\frac{v}{2}}{\\lambda -\\frac{1}{2}} = \\frac{2-v}{2\\lambda -1}\n",
    "$$"
   ]
  },
  {
   "cell_type": "markdown",
   "id": "308ec592",
   "metadata": {},
   "source": [
    "By checking the second derivative of $\\frac{p_{v}(x)}{q_{\\lambda}(x)}$ at $x^{*}$, the function is maximised at $x^{*}$."
   ]
  },
  {
   "cell_type": "markdown",
   "id": "7f150ab4",
   "metadata": {},
   "source": [
    "Substitute $x = x^{*}$ into $M_{\\lambda}$, we obtain"
   ]
  },
  {
   "cell_type": "markdown",
   "id": "bcf06f7a",
   "metadata": {},
   "source": [
    "$$\n",
    "M_{\\lambda} = \\frac{\\left(\\frac{1-\\frac{v}{2}}{\\lambda -\\frac{1}{2}}\\right)^{\\frac{v}{2}-1}e^{1-\\frac{v}{2}}}{2^{\\frac{v}{2}}\\Gamma \\left(\\frac{v}{2}\\right)\\lambda }\n",
    "$$"
   ]
  },
  {
   "cell_type": "markdown",
   "id": "228f26d3",
   "metadata": {},
   "source": [
    "### 2. Find the optimal $\\lambda^{*}$ in terms of $v$."
   ]
  },
  {
   "cell_type": "markdown",
   "id": "32ab2806",
   "metadata": {},
   "source": [
    "We need to minimise $M_{\\lambda}$ with respect to $\\lambda$ to find the optimal $\\lambda^{*}$. First take $\\textrm{log}M_{\\lambda}$."
   ]
  },
  {
   "cell_type": "markdown",
   "id": "a1c13591",
   "metadata": {},
   "source": [
    "$$\n",
    "\\textrm{log}M_{\\lambda} = \\left(\\frac{v}{2}-1\\right)\\textrm{log}\\left(1-\\frac{v}{2}\\right)- \\left(\\frac{v}{2}-1\\right)\\textrm{log}\\left(\\lambda-\\frac{1}{2}\\right)+\\left(1-\\frac{v}{2}\\right)-\\frac{v}{2}\\textrm{log}2-\\textrm{log}\\Gamma \\left(\\frac{v}{2}\\right)-\\textrm{log}\\lambda\n",
    "$$"
   ]
  },
  {
   "cell_type": "markdown",
   "id": "50a9d213",
   "metadata": {},
   "source": [
    "Take the derivative of $\\textrm{log}M_{\\lambda}$ with respect to $\\lambda$."
   ]
  },
  {
   "cell_type": "markdown",
   "id": "93e7f481",
   "metadata": {},
   "source": [
    "$$\n",
    "\\frac{d}{d\\lambda}\\left(\\textrm{log}M_{\\lambda}\\right) = -\\frac{\\frac{v}{2}-1}{\\lambda-\\frac{1}{2}}-\\frac{1}{\\lambda}\n",
    "$$"
   ]
  },
  {
   "cell_type": "markdown",
   "id": "766e4e85",
   "metadata": {},
   "source": [
    "Set the derivative of  $\\textrm{log}M_{\\lambda} = 0$."
   ]
  },
  {
   "cell_type": "markdown",
   "id": "c1d8c64c",
   "metadata": {},
   "source": [
    "$$\n",
    "-\\frac{\\frac{v}{2}-1}{\\lambda-\\frac{1}{2}}-\\frac{1}{\\lambda} = 0\n",
    "$$"
   ]
  },
  {
   "cell_type": "markdown",
   "id": "d618b578",
   "metadata": {},
   "source": [
    "$$\n",
    "\\lambda^{*} = \\frac{1}{v}\n",
    "$$"
   ]
  },
  {
   "cell_type": "markdown",
   "id": "5f9c0f50",
   "metadata": {},
   "source": [
    "By checking the second derivative of $\\textrm{log}M_{\\lambda}$ at $\\lambda^{*}$, the function is minimised at $\\lambda^{*}$."
   ]
  },
  {
   "cell_type": "markdown",
   "id": "5562789d",
   "metadata": {},
   "source": [
    "### 3. Implement the rejection sampler for $v = 4$ using corresponding optimal $\\lambda_{*}$."
   ]
  },
  {
   "cell_type": "markdown",
   "id": "9e1b0b17",
   "metadata": {},
   "source": [
    "Substitute $\\lambda^{*}$ into $M_{\\lambda}$."
   ]
  },
  {
   "cell_type": "markdown",
   "id": "758bc1fe",
   "metadata": {},
   "source": [
    "$$\n",
    "M_{\\lambda^{*}} = \\frac{v^{\\frac{v}{2}}e^{1-\\frac{v}{2}}}{2^{\\frac{v}{2}}\\Gamma \\left(\\frac{v}{2}\\right)}\n",
    "$$"
   ]
  },
  {
   "cell_type": "markdown",
   "id": "b9d287c4",
   "metadata": {},
   "source": [
    "Compute $p_v\\left(x \\right)$ and $M_{\\lambda^{*}}q_{\\lambda^{*}}\\left(x\\right)$ for $v = 4$."
   ]
  },
  {
   "cell_type": "markdown",
   "id": "41de5f34",
   "metadata": {},
   "source": [
    "$$\n",
    "p_v\\left(x\\right) = \\frac{x^{\\frac{v}{2}-1}e^{-\\frac{x}{2}}}{2^{\\frac{v}{2}}\\Gamma \\left(\\frac{v}{2}\\right)}= \\frac{x e^{-\\frac{x}{2}}}{2^{2}} = \\frac{x e^{-\\frac{x}{2}}}{4}\n",
    "$$"
   ]
  },
  {
   "cell_type": "markdown",
   "id": "efd9e8c7",
   "metadata": {},
   "source": [
    "Implement the rejection sampler for $v = 4$. First use inversion to sample from exponential distribution to get sample $x$. If $u \\leq \\frac{p_{v}\\left(x\\right)}{M_{\\lambda^{*}}q_{\\lambda^{*}}\\left(x\\right)}$,we accept the sampe $x$ and add it to the array of accepted samples, where $u$ is a random sample from $\\textrm{Unif}\\left(0,1\\right)$."
   ]
  },
  {
   "cell_type": "markdown",
   "id": "35f91a20",
   "metadata": {},
   "source": [
    "Now plot the histogram, $p_v\\left(x \\right)$ and $M_{\\lambda^{*}}q_{\\lambda^{*}}\\left(x\\right)$ for $v = 4$."
   ]
  },
  {
   "cell_type": "code",
   "execution_count": 5,
   "id": "436df3d8",
   "metadata": {},
   "outputs": [
    {
     "data": {
      "image/png": "[encoded data removed]",
      "text/plain": [
       "<Figure size 432x288 with 1 Axes>"
      ]
     },
     "metadata": {
      "needs_background": "light"
     },
     "output_type": "display_data"
    }
   ],
   "source": [
    "# Chi-square density\n",
    "def p(x, nu):\n",
    "    return x ** (nu / 2 - 1) * np.exp(-x / 2) / (2 ** (nu / 2) * np.math.factorial(int(nu / 2) - 1))\n",
    "\n",
    "# M*q\n",
    "def Mq(x, nu):\n",
    "    lam = 1 / nu\n",
    "    return (nu ** (nu / 2)) * np.exp(1 - (nu / 2)) * lam * np.exp( - lam * x) / ((2 ** (nu / 2)) * np.math.factorial(int(nu / 2) - 1))\n",
    "\n",
    "# Sample by rejection sampler\n",
    "n = 100000 # number of samples\n",
    "l = 1/4 # parameters of the exponential distribution\n",
    "\n",
    "x_accepted = np.array([]) # list to store the accepted samples\n",
    "\n",
    "for i in range(n):\n",
    "    # sample from exponential distribution with inversion\n",
    "    u1 = np.random.uniform(0, 1) # sample from uniform distribution\n",
    "    x = -(1/l) * np.log(1 - u1) # inverse of the CDF\n",
    "    # sampling from chi-squared using rejection sampling \n",
    "    u2 = np.random.uniform(0, 1) # sample from uniform distribution\n",
    "    if u2 <= p(x, 4)/ Mq(x, 4): # check if u2 is in the range of chi-squared disrtibution\n",
    "        x_accepted = np.append(x_accepted, x)\n",
    "\n",
    "# Plot histogram, p_nu(x), and M*q(x)\n",
    "x = np.linspace(0, 20 , 1000)\n",
    "y = p(x,4) # array of p_nu(x)\n",
    "z = Mq(x,4) # array of M*q(x)\n",
    "\n",
    "plt.plot(x, y, 'k-', color='r',label='p (x)') # p(x)\n",
    "plt.plot(x, z, 'k-',label='M*q (x)') # M*q(x)\n",
    "plt.hist(x_accepted, bins=200 , density=True , rwidth=0.8, color='r', alpha=0.5) # Histogram of accepted samples\n",
    "plt.title(\"Histogram, p(x) and M*q(x)\")\n",
    "plt.xlabel(\"x\") \n",
    "plt.xlim([0, 20])\n",
    "plt.legend()\n",
    "plt.show ()"
   ]
  },
  {
   "cell_type": "markdown",
   "id": "09eb903f",
   "metadata": {},
   "source": [
    "Then calculate the acceptance rate and the theoretical acceptance rate."
   ]
  },
  {
   "cell_type": "code",
   "execution_count": 6,
   "id": "91bcfa7c",
   "metadata": {},
   "outputs": [
    {
     "name": "stdout",
     "output_type": "stream",
     "text": [
      "0.67903\n",
      "0.6795704571147613\n"
     ]
    }
   ],
   "source": [
    "# Calculate the acceptance rate\n",
    "a = len(x_accepted) / n\n",
    "\n",
    "# Compute the the theoretical acceptance rate\n",
    "def Mopt(v):\n",
    "    sol = ((v ** (v / 2)) * np.exp(1 - (v / 2))) / ((2 ** (v / 2)) * np.math.factorial(v / 2 - 1)) # Optimised function for M\n",
    "    return sol\n",
    "\n",
    "# Calculate the theoretical acceptance rate\n",
    "a_hat = 1 / Mopt(4)\n",
    "\n",
    "print(a)\n",
    "print(a_hat)"
   ]
  },
  {
   "cell_type": "markdown",
   "id": "ba873593",
   "metadata": {},
   "source": [
    "As we can see from the results above, the acceptance rate are very close to the theoretical acceptance rate."
   ]
  },
  {
   "cell_type": "markdown",
   "id": "8d81e527",
   "metadata": {},
   "source": [
    "## Q2:  Sample From a Mixture of Chi-Squared "
   ]
  },
  {
   "cell_type": "markdown",
   "id": "8a3b1971",
   "metadata": {},
   "source": [
    "In order to sample from a mixture of Chi-Squared distributions, we first sample indices from the discrete distribution using inversion method. Then adjust the method above, use rejection sampling method to sample from single Chi-Squared distribution which has nu corresponding to the indice. So that we can have a set of samples from the mixed Chi-Squared distribution. Plot the histogram and the density."
   ]
  },
  {
   "cell_type": "code",
   "execution_count": 17,
   "id": "9efd603d",
   "metadata": {},
   "outputs": [
    {
     "data": {
      "image/png": "[encoded data removed]",
      "text/plain": [
       "<Figure size 432x288 with 1 Axes>"
      ]
     },
     "metadata": {
      "needs_background": "light"
     },
     "output_type": "display_data"
    }
   ],
   "source": [
    "# Sample from a mixture of chi-squared\n",
    "\n",
    "# Sample indices from the discrete distribution with probability w using inversion method\n",
    "def discrete(s, w): \n",
    "    \n",
    "    cdf_list = np.cumsum(w)\n",
    "    sample_list = []\n",
    "\n",
    "    u = np.random.uniform(0, 1)\n",
    "\n",
    "    for i in range(len(cdf_list)):\n",
    "        if cdf_list[i] > u:\n",
    "            sample_list = s[i]\n",
    "            break\n",
    "    return sample_list\n",
    "\n",
    "# Sample from chi-squared using rejection sampling return a single value\n",
    "def sample_chi(nu):\n",
    "    \n",
    "    while True: # run until a single sample is accepted\n",
    "        u1 = np.random.uniform(0, 1)\n",
    "        x = -(nu) * np.log(1 - u1)\n",
    "        u2 = np.random.uniform(0, 1)\n",
    "        \n",
    "        if u2 <= p(x, nu) / Mq(x, nu):\n",
    "            sample = x\n",
    "            break\n",
    "    return sample\n",
    "\n",
    "n = 100000 # number of samples\n",
    "s = np.array([0, 1, 2]) # indices array\n",
    "w = np.array([0.2, 0.5, 0.3]) # weights array\n",
    "nu = np.array([4, 16, 40]) # nu array\n",
    "x = np.zeros(n) # initialize the array to store the samples\n",
    "\n",
    "# sample from chi-squared distribution of different nus with weights w\n",
    "for i in range(n):\n",
    "    samp = discrete(s, w) # sample from the discrete distribution with probabilities w\n",
    "    x[i] = sample_chi(nu[samp]) # sample from chi-squared distribution by rejection sampling\n",
    "\n",
    "# Density function of the mixture density\n",
    "def mixture_density (x, w, nu):\n",
    "    return w[0] * p(x, nu[0]) + w[1] * p(x, nu[1]) + w[2] * p(x, nu[2])\n",
    "\n",
    "# Plot the histogram and the density \n",
    "xx = np.linspace(0, 80 , 1000)\n",
    "\n",
    "plt.hist(x, bins=100 , density=True , rwidth=1.0, color='r', alpha=0.5) # histogram of samples\n",
    "plt.plot(xx , mixture_density (xx , w, nu), color='k', linewidth=2) # density of the mixture density\n",
    "plt.title(\"Histogram of samples and the density\")\n",
    "plt.xlabel(\"x\")\n",
    "plt.show()"
   ]
  }
 ],
 "metadata": {
  "kernelspec": {
   "display_name": "Python 3",
   "language": "python",
   "name": "python3"
  },
  "language_info": {
   "codemirror_mode": {
    "name": "ipython",
    "version": 3
   },
   "file_extension": ".py",
   "mimetype": "text/x-python",
   "name": "python",
   "nbconvert_exporter": "python",
   "pygments_lexer": "ipython3",
   "version": "3.8.8"
  }
 },
 "nbformat": 4,
 "nbformat_minor": 5
}
